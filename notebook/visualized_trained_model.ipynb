{
 "cells": [
  {
   "cell_type": "code",
   "execution_count": 1,
   "metadata": {},
   "outputs": [],
   "source": [
    "import sys\n",
    "if not '..' in sys.path:\n",
    "    sys.path += ['..']\n",
    "    \n",
    "import torch\n",
    "from torch import nn\n",
    "from data.dataset import get_data\n",
    "import matplotlib.pyplot as plt\n",
    "from model.model import Transfollower, lstm_model\n",
    "from config import Settings\n",
    "settings = Settings()"
   ]
  },
  {
   "cell_type": "code",
   "execution_count": 8,
   "metadata": {},
   "outputs": [],
   "source": [
    "MODEL = 'nn' # transfollower\n",
    "DATASET = 'NGSIM' # SH\n",
    "exp_name = f'{DATASET}_{MODEL}'\n",
    "save = f'{exp_name}_model.pt'\n",
    "\n",
    "with open(f'../checkpoints/{save}', 'rb') as f:\n",
    "    model = torch.load(f)"
   ]
  },
  {
   "cell_type": "code",
   "execution_count": 9,
   "metadata": {
    "scrolled": false
   },
   "outputs": [
    {
     "name": "stdout",
     "output_type": "stream",
     "text": [
      "NGSIM, total data samples for train, val, and test\n",
      "938 201 202\n",
      "Total batches for train, val, and test with batch size 256\n",
      "4 1 1\n"
     ]
    },
    {
     "ename": "TypeError",
     "evalue": "forward() takes 2 positional arguments but 3 were given",
     "output_type": "error",
     "traceback": [
      "\u001b[0;31m---------------------------------------------------------------------------\u001b[0m",
      "\u001b[0;31mTypeError\u001b[0m                                 Traceback (most recent call last)",
      "\u001b[0;32m<ipython-input-9-50844c64f53c>\u001b[0m in \u001b[0;36m<module>\u001b[0;34m\u001b[0m\n\u001b[1;32m     22\u001b[0m \u001b[0;34m\u001b[0m\u001b[0m\n\u001b[1;32m     23\u001b[0m     \u001b[0;31m# encoder - decoder\u001b[0m\u001b[0;34m\u001b[0m\u001b[0;34m\u001b[0m\u001b[0;34m\u001b[0m\u001b[0m\n\u001b[0;32m---> 24\u001b[0;31m     \u001b[0mout\u001b[0m \u001b[0;34m=\u001b[0m \u001b[0mmodel\u001b[0m\u001b[0;34m(\u001b[0m\u001b[0menc_inp\u001b[0m\u001b[0;34m,\u001b[0m \u001b[0mdec_inp\u001b[0m\u001b[0;34m)\u001b[0m\u001b[0;34m\u001b[0m\u001b[0;34m\u001b[0m\u001b[0m\n\u001b[0m\u001b[1;32m     25\u001b[0m \u001b[0;34m\u001b[0m\u001b[0m\n\u001b[1;32m     26\u001b[0m     \u001b[0mlvSpd\u001b[0m\u001b[0;34m,\u001b[0m \u001b[0mspacing\u001b[0m \u001b[0;34m=\u001b[0m \u001b[0mitem\u001b[0m\u001b[0;34m[\u001b[0m\u001b[0;34m'lvSpd'\u001b[0m\u001b[0;34m]\u001b[0m\u001b[0;34m[\u001b[0m\u001b[0;34m:\u001b[0m\u001b[0;34m,\u001b[0m \u001b[0msettings\u001b[0m\u001b[0;34m.\u001b[0m\u001b[0mLABEL_LEN\u001b[0m\u001b[0;34m:\u001b[0m\u001b[0;34m,\u001b[0m\u001b[0;34m:\u001b[0m\u001b[0;34m]\u001b[0m\u001b[0;34m.\u001b[0m\u001b[0mfloat\u001b[0m\u001b[0;34m(\u001b[0m\u001b[0;34m)\u001b[0m\u001b[0;34m.\u001b[0m\u001b[0mto\u001b[0m\u001b[0;34m(\u001b[0m\u001b[0mdevice\u001b[0m\u001b[0;34m)\u001b[0m\u001b[0;34m,\u001b[0m \u001b[0mitem\u001b[0m\u001b[0;34m[\u001b[0m\u001b[0;34m'spacing'\u001b[0m\u001b[0;34m]\u001b[0m\u001b[0;34m.\u001b[0m\u001b[0mfloat\u001b[0m\u001b[0;34m(\u001b[0m\u001b[0;34m)\u001b[0m\u001b[0;34m.\u001b[0m\u001b[0mto\u001b[0m\u001b[0;34m(\u001b[0m\u001b[0mdevice\u001b[0m\u001b[0;34m)\u001b[0m\u001b[0;34m\u001b[0m\u001b[0;34m\u001b[0m\u001b[0m\n",
      "\u001b[0;32m~/anaconda3/envs/meixin_rl/lib/python3.7/site-packages/torch/nn/modules/module.py\u001b[0m in \u001b[0;36m_call_impl\u001b[0;34m(self, *input, **kwargs)\u001b[0m\n\u001b[1;32m   1049\u001b[0m         if not (self._backward_hooks or self._forward_hooks or self._forward_pre_hooks or _global_backward_hooks\n\u001b[1;32m   1050\u001b[0m                 or _global_forward_hooks or _global_forward_pre_hooks):\n\u001b[0;32m-> 1051\u001b[0;31m             \u001b[0;32mreturn\u001b[0m \u001b[0mforward_call\u001b[0m\u001b[0;34m(\u001b[0m\u001b[0;34m*\u001b[0m\u001b[0minput\u001b[0m\u001b[0;34m,\u001b[0m \u001b[0;34m**\u001b[0m\u001b[0mkwargs\u001b[0m\u001b[0;34m)\u001b[0m\u001b[0;34m\u001b[0m\u001b[0;34m\u001b[0m\u001b[0m\n\u001b[0m\u001b[1;32m   1052\u001b[0m         \u001b[0;31m# Do not call functions when jit is used\u001b[0m\u001b[0;34m\u001b[0m\u001b[0;34m\u001b[0m\u001b[0;34m\u001b[0m\u001b[0m\n\u001b[1;32m   1053\u001b[0m         \u001b[0mfull_backward_hooks\u001b[0m\u001b[0;34m,\u001b[0m \u001b[0mnon_full_backward_hooks\u001b[0m \u001b[0;34m=\u001b[0m \u001b[0;34m[\u001b[0m\u001b[0;34m]\u001b[0m\u001b[0;34m,\u001b[0m \u001b[0;34m[\u001b[0m\u001b[0;34m]\u001b[0m\u001b[0;34m\u001b[0m\u001b[0;34m\u001b[0m\u001b[0m\n",
      "\u001b[0;31mTypeError\u001b[0m: forward() takes 2 positional arguments but 3 were given"
     ]
    }
   ],
   "source": [
    "model.eval()\n",
    "\n",
    "_, _, test_loader = get_data(data_name = 'NGSIM')\n",
    "\n",
    "device = torch.device(\"cuda\" if torch.cuda.is_available() else \"cpu\")\n",
    "criterion = torch.nn.MSELoss()\n",
    "model = model.to(device)\n",
    "\n",
    "with torch.no_grad():\n",
    "    item = next(iter(test_loader))\n",
    "    \n",
    "    enc_inp = item['his'].float().to(device)\n",
    "\n",
    "    batch_y = item['svSpd'].float()\n",
    "    y_label = batch_y[:,-settings.PRED_LEN:,:].to(device)\n",
    "    batch_y_mark = item['lvSpd'].float().to(device)\n",
    "    # decoder input\n",
    "    dec_inp = torch.zeros([batch_y.shape[0], settings.PRED_LEN, batch_y.shape[-1]]).float() + \\\n",
    "            batch_y[:,:settings.LABEL_LEN,:].mean(axis = 1, keepdim=True)\n",
    "    dec_inp = torch.cat([batch_y[:,:settings.LABEL_LEN,:], dec_inp], dim=1).float().to(device)\n",
    "    dec_inp = torch.cat([dec_inp, batch_y_mark], axis = -1) # adding lv speed\n",
    "\n",
    "    # encoder - decoder\n",
    "    out = model(enc_inp, dec_inp)\n",
    "\n",
    "    lvSpd, spacing = item['lvSpd'][:, settings.LABEL_LEN:,:].float().to(device), item['spacing'].float().to(device)\n",
    "    relSpd_ = (lvSpd - out).squeeze()\n",
    "    spacing_ = torch.cumsum(settings.T*(relSpd_[:,:-1] + relSpd_[:,1:])/2, dim = -1) + item['s0'].float().to(device)\n",
    "    loss = criterion(out, y_label) + criterion(spacing_, spacing)\n",
    "    svSpd_ = out\n",
    "    \n",
    "    his, lvSpd, svSpd, spacing = item['his'].float().to(device), item['lvSpd'].float().to(device), \\\n",
    "    item['svSpd'].float().to(device), item['spacing'].float().to(device)\n",
    "    print(loss.item())\n",
    "    \n",
    "for i in range(100):\n",
    "    plt.figure();\n",
    "    plt.plot(batch_y_mark[i,settings.LABEL_LEN:,:].detach().cpu(), label = 'lv');\n",
    "    plt.plot(svSpd_[i].detach().cpu(),'--', label = 'predict');\n",
    "    plt.plot(y_label[i].detach().cpu(), label = 'observed');\n",
    "    plt.legend()\n",
    "    plt.xlabel('Time')\n",
    "    plt.ylabel('SV Speed (m/s)')\n",
    "    \n",
    "    plt.figure();\n",
    "    plt.plot(spacing_[i].detach().cpu(), '--',label = 'predict');\n",
    "    plt.plot(spacing[i].detach().cpu(), label = 'observed');\n",
    "    plt.legend()\n",
    "    plt.xlabel('Time')\n",
    "    plt.ylabel('Spacing (m)')"
   ]
  }
 ],
 "metadata": {
  "kernelspec": {
   "display_name": "Python [conda env:meixin_rl] *",
   "language": "python",
   "name": "conda-env-meixin_rl-py"
  },
  "language_info": {
   "codemirror_mode": {
    "name": "ipython",
    "version": 3
   },
   "file_extension": ".py",
   "mimetype": "text/x-python",
   "name": "python",
   "nbconvert_exporter": "python",
   "pygments_lexer": "ipython3",
   "version": "3.7.7"
  }
 },
 "nbformat": 4,
 "nbformat_minor": 4
}
