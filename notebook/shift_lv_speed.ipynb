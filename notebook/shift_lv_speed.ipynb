{
 "cells": [
  {
   "cell_type": "code",
   "execution_count": 1,
   "metadata": {},
   "outputs": [],
   "source": [
    "import numpy as np\n",
    "import os\n",
    "from tqdm import tqdm\n",
    "from dtaidistance import dtw\n",
    "\n",
    "root = '/media/meixin/transfollower/data'\n"
   ]
  },
  {
   "cell_type": "code",
   "execution_count": 2,
   "metadata": {
    "scrolled": false
   },
   "outputs": [
    {
     "name": "stderr",
     "output_type": "stream",
     "text": [
      "100%|██████████| 78817/78817 [4:40:15<00:00,  4.69it/s]    \n"
     ]
    }
   ],
   "source": [
    "split = 'train_SH'\n",
    "\n",
    "# [space, svSpd, relSpd, lvSpd] \n",
    "data = np.load(os.path.join(root, split + '.npy'), allow_pickle = True)\n",
    "\n",
    "N = len(data)\n",
    "\n",
    "for i in tqdm(range(N)):\n",
    "    event = data[i]\n",
    "    _, svSpd, _, lvSpd = event.T\n",
    "    \n",
    "    path = np.array(dtw.warping_path(svSpd, lvSpd))\n",
    "    RT = int(np.mean(path[:,0] - path[:,1]))\n",
    "#     print(RT)\n",
    "    \n",
    "    if RT <= 0:\n",
    "        lvSpdShift = lvSpd[:,None]\n",
    "    else:\n",
    "        lvSpdShift = np.append([0]*RT, lvSpd[:-RT])[:,None]\n",
    "    \n",
    "    data[i] = np.append(event, lvSpdShift, axis = 1)\n",
    "    \n",
    "np.save(os.path.join(root, split + '_shift' + '.npy'), data)"
   ]
  },
  {
   "cell_type": "code",
   "execution_count": 3,
   "metadata": {},
   "outputs": [
    {
     "name": "stderr",
     "output_type": "stream",
     "text": [
      "100%|██████████| 16890/16890 [1:00:53<00:00,  4.62it/s] \n"
     ]
    }
   ],
   "source": [
    "split = 'val_SH'\n",
    "\n",
    "# [space, svSpd, relSpd, lvSpd] \n",
    "data = np.load(os.path.join(root, split + '.npy'), allow_pickle = True)\n",
    "\n",
    "N = len(data)\n",
    "\n",
    "for i in tqdm(range(N)):\n",
    "    event = data[i]\n",
    "    _, svSpd, _, lvSpd = event.T\n",
    "    \n",
    "    path = np.array(dtw.warping_path(svSpd, lvSpd))\n",
    "    RT = int(np.mean(path[:,0] - path[:,1]))\n",
    "#     print(RT)\n",
    "    \n",
    "    if RT <= 0:\n",
    "        lvSpdShift = lvSpd[:,None]\n",
    "    else:\n",
    "        lvSpdShift = np.append([0]*RT, lvSpd[:-RT])[:,None]\n",
    "    \n",
    "    data[i] = np.append(event, lvSpdShift, axis = 1)\n",
    "    \n",
    "np.save(os.path.join(root, split + '_shift' + '.npy'), data)"
   ]
  },
  {
   "cell_type": "code",
   "execution_count": 4,
   "metadata": {},
   "outputs": [
    {
     "name": "stderr",
     "output_type": "stream",
     "text": [
      "100%|██████████| 16890/16890 [1:04:33<00:00,  4.36it/s] \n"
     ]
    }
   ],
   "source": [
    "split = 'test_SH'\n",
    "\n",
    "# [space, svSpd, relSpd, lvSpd] \n",
    "data = np.load(os.path.join(root, split + '.npy'), allow_pickle = True)\n",
    "\n",
    "N = len(data)\n",
    "\n",
    "for i in tqdm(range(N)):\n",
    "    event = data[i]\n",
    "    _, svSpd, _, lvSpd = event.T\n",
    "    \n",
    "    path = np.array(dtw.warping_path(svSpd, lvSpd))\n",
    "    RT = int(np.mean(path[:,0] - path[:,1]))\n",
    "#     print(RT)\n",
    "    \n",
    "    if RT <= 0:\n",
    "        lvSpdShift = lvSpd[:,None]\n",
    "    else:\n",
    "        lvSpdShift = np.append([0]*RT, lvSpd[:-RT])[:,None]\n",
    "    \n",
    "    data[i] = np.append(event, lvSpdShift, axis = 1)\n",
    "    \n",
    "np.save(os.path.join(root, split + '_shift' + '.npy'), data)"
   ]
  }
 ],
 "metadata": {
  "kernelspec": {
   "display_name": "Python [conda env:meixin_rl] *",
   "language": "python",
   "name": "conda-env-meixin_rl-py"
  },
  "language_info": {
   "codemirror_mode": {
    "name": "ipython",
    "version": 3
   },
   "file_extension": ".py",
   "mimetype": "text/x-python",
   "name": "python",
   "nbconvert_exporter": "python",
   "pygments_lexer": "ipython3",
   "version": "3.7.7"
  }
 },
 "nbformat": 4,
 "nbformat_minor": 4
}
