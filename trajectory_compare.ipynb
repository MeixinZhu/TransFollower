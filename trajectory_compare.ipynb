{
 "cells": [
  {
   "cell_type": "code",
   "execution_count": 44,
   "metadata": {},
   "outputs": [],
   "source": [
    "import torch\n",
    "from torch import nn\n",
    "import numpy as np\n",
    "import scipy.io as sio\n",
    "\n",
    "from data.dataset import get_data\n",
    "from model.model import Transfollower, lstm_model, nn_model\n",
    "from IDM.IDM import IDM_sim\n",
    "\n",
    "from config import Settings\n",
    "import matplotlib.pyplot as plt\n",
    "\n",
    "import plotly.graph_objects as go"
   ]
  },
  {
   "cell_type": "code",
   "execution_count": 77,
   "metadata": {},
   "outputs": [],
   "source": [
    "settings = Settings()\n",
    "\n",
    "device = torch.device(\"cuda\" if torch.cuda.is_available() else \"cpu\")\n",
    "criterion = nn.MSELoss()\n",
    "\n",
    "def val(model_name, data_name, batch_cnt = 0):\n",
    "    # parameters\n",
    "    SEQ_LEN = settings.SEQ_LEN\n",
    "    LABEL_LEN = 40 if model_name == 'nn' else settings.LABEL_LEN\n",
    "    PRED_LEN = settings.PRED_LEN\n",
    "    T = settings.T # data sampling interval\n",
    "    \n",
    "    if model_name == 'transfollower':\n",
    "        data_name += '_shift'\n",
    "\n",
    "    # load model\n",
    "    exp_name = f'{data_name}_{model_name}'\n",
    "    save = f'checkpoints/{exp_name}_model.pt'\n",
    "    with open(f'{save}', 'rb') as f:\n",
    "        model = torch.load(f).to(device)\n",
    "    model.eval()\n",
    "\n",
    "    # get data loader\n",
    "    if model_name == 'nn':\n",
    "        _, _, data_loader = get_data(data_name = data_name, label_len = SEQ_LEN, shuffle = False, batch_size = 1)\n",
    "    else:\n",
    "        _, _, data_loader = get_data(data_name= data_name, shuffle = False, batch_size = 1)\n",
    "\n",
    "    # evaluate\n",
    "\n",
    "    with torch.no_grad():\n",
    "        for i, item in enumerate(data_loader):\n",
    "            if i == batch_cnt:\n",
    "                if data_name == 'SH_shift':\n",
    "                    enc_inp = item['his'][:,:, [0,1,4]].float().to(device)\n",
    "                else:\n",
    "                    enc_inp = item['his'].float().to(device)\n",
    "\n",
    "                batch_y = item['svSpd'].float()\n",
    "                y_label = batch_y[:,-PRED_LEN:,:].to(device)\n",
    "                batch_y_mark = item['lvSpd'].float().to(device)\n",
    "\n",
    "                # decoder input\n",
    "                if data_name == 'SH_shift':\n",
    "                    dec_inp = torch.zeros([batch_y.shape[0], PRED_LEN, batch_y.shape[-1]]).float() \n",
    "                else:\n",
    "                    dec_inp = torch.zeros([batch_y.shape[0], PRED_LEN, batch_y.shape[-1]]).float() + \\\n",
    "                            batch_y[:,:LABEL_LEN,:].mean(axis = 1, keepdim=True)\n",
    "                dec_inp = torch.cat([batch_y[:,:LABEL_LEN,:], dec_inp], dim=1).float().to(device)\n",
    "                dec_inp = torch.cat([dec_inp, batch_y_mark], axis = -1) # adding lv speed\n",
    "\n",
    "                # encoder - decoder\n",
    "                if model_name == 'nn':\n",
    "                    out = model(dec_inp)\n",
    "                else:\n",
    "                    out = model(enc_inp, dec_inp)\n",
    "\n",
    "                lvSpd, spacing = item['lvSpd'][:, LABEL_LEN:,:].float().to(device), item['spacing'].float().to(device)\n",
    "                relSpd_ = (lvSpd - out)[:,:,0]\n",
    "#                 import pdb\n",
    "#                 pdb.set_trace()\n",
    "                spacing_ = torch.cumsum(T*(relSpd_[:,:-1] + relSpd_[:,1:])/2, dim = -1) + item['s0'].float().to(device)\n",
    "                loss_speed = criterion(out, y_label) \n",
    "                loss_spacing = criterion(spacing_, spacing)\n",
    "                \n",
    "                break\n",
    "\n",
    "    return loss_speed.item(), loss_spacing.item(), batch_y_mark[:,LABEL_LEN:,:].detach().squeeze().cpu().numpy(),\\\n",
    "            spacing.detach().squeeze().cpu().numpy(), y_label.detach().squeeze().cpu().numpy(), \\\n",
    "            spacing_.detach().squeeze().cpu().numpy(), out.detach().squeeze().cpu().numpy()\n"
   ]
  },
  {
   "cell_type": "markdown",
   "metadata": {},
   "source": [
    "# matplot"
   ]
  },
  {
   "cell_type": "code",
   "execution_count": 76,
   "metadata": {
    "scrolled": false
   },
   "outputs": [
    {
     "ename": "ValueError",
     "evalue": "not enough values to unpack (expected 7, got 6)",
     "output_type": "error",
     "traceback": [
      "\u001b[0;31m---------------------------------------------------------------------------\u001b[0m",
      "\u001b[0;31mValueError\u001b[0m                                Traceback (most recent call last)",
      "\u001b[0;32m<ipython-input-76-a32654313d24>\u001b[0m in \u001b[0;36m<module>\u001b[0;34m\u001b[0m\n\u001b[1;32m     26\u001b[0m     \u001b[0;32mfor\u001b[0m \u001b[0mmodel_name\u001b[0m \u001b[0;32min\u001b[0m \u001b[0mmodel_names\u001b[0m\u001b[0;34m:\u001b[0m\u001b[0;34m\u001b[0m\u001b[0;34m\u001b[0m\u001b[0m\n\u001b[1;32m     27\u001b[0m \u001b[0;31m#         assert svSpd == svSpd_obs\u001b[0m\u001b[0;34m\u001b[0m\u001b[0;34m\u001b[0m\u001b[0;34m\u001b[0m\u001b[0m\n\u001b[0;32m---> 28\u001b[0;31m         \u001b[0mspeed_error\u001b[0m\u001b[0;34m,\u001b[0m \u001b[0mspacing_error\u001b[0m\u001b[0;34m,\u001b[0m \u001b[0mlvSpd\u001b[0m\u001b[0;34m,\u001b[0m \u001b[0mspacing\u001b[0m\u001b[0;34m,\u001b[0m \u001b[0msvSpd\u001b[0m\u001b[0;34m,\u001b[0m \u001b[0mspacing_sim\u001b[0m\u001b[0;34m,\u001b[0m \u001b[0msvSpd_sim\u001b[0m \u001b[0;34m=\u001b[0m \u001b[0mval\u001b[0m\u001b[0;34m(\u001b[0m\u001b[0mmodel_name\u001b[0m\u001b[0;34m,\u001b[0m \u001b[0mdata_name\u001b[0m\u001b[0;34m,\u001b[0m \u001b[0mbatch_num\u001b[0m\u001b[0;34m)\u001b[0m\u001b[0;34m\u001b[0m\u001b[0;34m\u001b[0m\u001b[0m\n\u001b[0m\u001b[1;32m     29\u001b[0m         \u001b[0maxs\u001b[0m\u001b[0;34m[\u001b[0m\u001b[0;36m0\u001b[0m\u001b[0;34m]\u001b[0m\u001b[0;34m.\u001b[0m\u001b[0mplot\u001b[0m\u001b[0;34m(\u001b[0m\u001b[0msvSpd_sim\u001b[0m\u001b[0;34m,\u001b[0m \u001b[0;34m'--'\u001b[0m\u001b[0;34m,\u001b[0m \u001b[0mlabel\u001b[0m \u001b[0;34m=\u001b[0m \u001b[0mmodel_name\u001b[0m\u001b[0;34m)\u001b[0m\u001b[0;34m\u001b[0m\u001b[0;34m\u001b[0m\u001b[0m\n\u001b[1;32m     30\u001b[0m         \u001b[0maxs\u001b[0m\u001b[0;34m[\u001b[0m\u001b[0;36m1\u001b[0m\u001b[0;34m]\u001b[0m\u001b[0;34m.\u001b[0m\u001b[0mplot\u001b[0m\u001b[0;34m(\u001b[0m\u001b[0mspacing_sim\u001b[0m\u001b[0;34m,\u001b[0m \u001b[0;34m'--'\u001b[0m\u001b[0;34m,\u001b[0m \u001b[0mlabel\u001b[0m \u001b[0;34m=\u001b[0m \u001b[0mmodel_name\u001b[0m\u001b[0;34m)\u001b[0m\u001b[0;34m\u001b[0m\u001b[0;34m\u001b[0m\u001b[0m\n",
      "\u001b[0;31mValueError\u001b[0m: not enough values to unpack (expected 7, got 6)"
     ]
    },
    {
     "data": {
      "image/png": "[encoded data removed]",
      "text/plain": [
       "<Figure size 1080x1080 with 2 Axes>"
      ]
     },
     "metadata": {
      "needs_background": "light"
     },
     "output_type": "display_data"
    }
   ],
   "source": [
    "model_names = [ 'transfollower', 'lstm', 'nn']\n",
    "data_names = ['SH']\n",
    "\n",
    "calibration_res = sio.loadmat('IDM/IDM_SH_transformer.mat')\n",
    "para = calibration_res['bestX'][0]\n",
    "\n",
    "for data_name in data_names:\n",
    "    _,_, IDM_loader = get_data(data_name = data_name, shuffle = False, batch_size = 1)\n",
    "    \n",
    "    batch_num = 1\n",
    "    fig, axs = plt.subplots(2, figsize = (15, 15))\n",
    "    \n",
    "    for i, item in enumerate(IDM_loader):\n",
    "        if i == batch_num:\n",
    "            event = item['all'][0]\n",
    "            svSpd_obs, spacing_obs, lvSpd_obs, svSpd_sim, spacing_sim = IDM_sim(para, event, context = settings.SEQ_LEN)\n",
    "            break\n",
    "            \n",
    "#     axs[0].plot(lvSpd_obs, label = 'Observed LV')\n",
    "    axs[0].plot(svSpd_obs, label = 'Observed SV')\n",
    "    axs[0].plot(svSpd_sim, '--', label = 'IDM')\n",
    "    \n",
    "    axs[1].plot(spacing_obs, label = 'Observed spacing')\n",
    "    axs[1].plot(spacing_sim, '--', label = 'IDM')\n",
    "    \n",
    "    for model_name in model_names:\n",
    "#         assert svSpd == svSpd_obs\n",
    "        speed_error, spacing_error, lvSpd, spacing, svSpd, spacing_sim, svSpd_sim = val(model_name, data_name, batch_num)\n",
    "        axs[0].plot(svSpd_sim, '--', label = model_name)\n",
    "        axs[1].plot(spacing_sim, '--', label = model_name)\n",
    "        \n",
    "    axs[0].legend()\n",
    "    axs[0].set_xlabel('Time')\n",
    "    axs[0].set_ylabel('Speed (m/s)')\n",
    "    \n",
    "    axs[1].legend()\n",
    "    axs[1].set_xlabel('Time')\n",
    "    axs[1].set_ylabel('Spacing (m)')\n",
    "    "
   ]
  },
  {
   "cell_type": "markdown",
   "metadata": {},
   "source": [
    "# plotly"
   ]
  },
  {
   "cell_type": "code",
   "execution_count": 102,
   "metadata": {
    "scrolled": false
   },
   "outputs": [
    {
     "name": "stderr",
     "output_type": "stream",
     "text": [
      "/home/starlab/anaconda3/envs/meixin_rl/lib/python3.7/site-packages/ipykernel_launcher.py:35: UserWarning:\n",
      "\n",
      "To copy construct from a tensor, it is recommended to use sourceTensor.clone().detach() or sourceTensor.clone().detach().requires_grad_(True), rather than torch.tensor(sourceTensor).\n",
      "\n",
      "/home/starlab/anaconda3/envs/meixin_rl/lib/python3.7/site-packages/ipykernel_launcher.py:36: UserWarning:\n",
      "\n",
      "To copy construct from a tensor, it is recommended to use sourceTensor.clone().detach() or sourceTensor.clone().detach().requires_grad_(True), rather than torch.tensor(sourceTensor).\n",
      "\n"
     ]
    },
    {
     "data": {
      "application/vnd.plotly.v1+json": {
       "config": {
        "plotlyServerURL": "https://plot.ly"
       },
       "data": [
        {
         "line": {
          "width": 3
         },
         "mode": "lines",
         "name": "Observed",
         "opacity": 1,
         "type": "scatter",
         "x": [
          4,
          4.1,
          4.2,
          4.3,
          4.4,
          4.5,
          4.6,
          4.7,
          4.8,
          4.9,
          5,
          5.1,
          5.2,
          5.3,
          5.4,
          5.5,
          5.6,
          5.7,
          5.8,
          5.9,
          6,
          6.1,
          6.2,
          6.3,
          6.4,
          6.5,
          6.6,
          6.7,
          6.8,
          6.9,
          7,
          7.1,
          7.2,
          7.3,
          7.4,
          7.5,
          7.6,
          7.7,
          7.8,
          7.9,
          8,
          8.1,
          8.2,
          8.3,
          8.4,
          8.5,
          8.6,
          8.7,
          8.8,
          8.9,
          9,
          9.1,
          9.2,
          9.3,
          9.4,
          9.5,
          9.6,
          9.7,
          9.8,
          9.9,
          10,
          10.1,
          10.2,
          10.3,
          10.4,
          10.5,
          10.6,
          10.7,
          10.8,
          10.9,
          11,
          11.1,
          11.2,
          11.3,
          11.4,
          11.5,
          11.6,
          11.7,
          11.8,
          11.9,
          12,
          12.1,
          12.2,
          12.3,
          12.4,
          12.5,
          12.6,
          12.7,
          12.8,
          12.9,
          13,
          13.1,
          13.2,
          13.3,
          13.4,
          13.5,
          13.6,
          13.7,
          13.8,
          13.9,
          14,
          14.1,
          14.2,
          14.3,
          14.4,
          14.5,
          14.6,
          14.7,
          14.8,
          14.9
         ],
         "y": [
          5.395399600000001,
          5.3710941000000005,
          5.35112885,
          5.33550385,
          5.307726050000001,
          5.277344050000001,
          5.248264150000001,
          5.2183162,
          5.1861981,
          5.165364700000001,
          5.147135499999999,
          5.1284723,
          5.1102431,
          5.0950521,
          5.082899299999999,
          5.0672743,
          5.0512153,
          5.033854300000001,
          5.0056426,
          4.9913198,
          4.9965282,
          4.9683164,
          4.9691844000000005,
          4.9722225,
          4.9526911,
          4.9153646,
          4.9101562,
          4.8641492,
          4.8246527,
          4.7916667,
          4.7560765,
          4.7178821,
          4.6870661,
          4.655599,
          4.623480799999999,
          4.5948349,
          4.569661300000001,
          4.5527343,
          4.5277778,
          4.4947918,
          4.4626738,
          4.4201391,
          4.3628475,
          4.3007816000000005,
          4.2339414,
          4.1584206,
          4.0733511,
          3.9908857,
          3.9131946,
          3.8355035000000006,
          3.76150165,
          3.70334185,
          3.64344605,
          3.59309885,
          3.5570745500000003,
          3.5121527,
          3.46701385,
          3.4270832500000004,
          3.3767360500000003,
          3.31423615,
          3.25434045,
          3.1927086,
          3.1293406,
          3.0464413,
          2.9457468,
          2.8667536,
          2.7790799,
          2.6974826000000003,
          2.6440971,
          2.6141492000000004,
          2.5681424,
          2.5425348,
          2.5225695000000004,
          2.5013021999999996,
          2.4835071,
          2.4652779,
          2.4361981000000004,
          2.3884552,
          2.3376740500000004,
          2.2838546500000003,
          2.22612895,
          2.16449695,
          2.1080732500000003,
          2.0481773000000003,
          1.9848091,
          1.921875,
          1.859375,
          1.8007813000000001,
          1.7460939000000002,
          1.6957468000000002,
          1.6506080000000003,
          1.6132816,
          1.5772572999999999,
          1.5399308999999999,
          1.5056427000000001,
          1.4743927000000001,
          1.4414065000000003,
          1.4084203000000002,
          1.3689237,
          1.3261719,
          1.2801649,
          1.2315539000000002,
          1.1803387,
          1.1356339000000002,
          1.08941,
          1.0390628,
          0.9861114,
          0.9301218,
          0.8710939999999999,
          0.7955731
         ]
        },
        {
         "line": {
          "dash": "dash",
          "width": 2
         },
         "marker": {
          "size": 3
         },
         "mode": "lines+markers",
         "name": "IDM, MSE: 0.84",
         "opacity": 1,
         "type": "scatter",
         "x": [
          4,
          4.1,
          4.2,
          4.3,
          4.4,
          4.5,
          4.6,
          4.7,
          4.8,
          4.9,
          5,
          5.1,
          5.2,
          5.3,
          5.4,
          5.5,
          5.6,
          5.7,
          5.8,
          5.9,
          6,
          6.1,
          6.2,
          6.3,
          6.4,
          6.5,
          6.6,
          6.7,
          6.8,
          6.9,
          7,
          7.1,
          7.2,
          7.3,
          7.4,
          7.5,
          7.6,
          7.7,
          7.8,
          7.9,
          8,
          8.1,
          8.2,
          8.3,
          8.4,
          8.5,
          8.6,
          8.7,
          8.8,
          8.9,
          9,
          9.1,
          9.2,
          9.3,
          9.4,
          9.5,
          9.6,
          9.7,
          9.8,
          9.9,
          10,
          10.1,
          10.2,
          10.3,
          10.4,
          10.5,
          10.6,
          10.7,
          10.8,
          10.9,
          11,
          11.1,
          11.2,
          11.3,
          11.4,
          11.5,
          11.6,
          11.7,
          11.8,
          11.9,
          12,
          12.1,
          12.2,
          12.3,
          12.4,
          12.5,
          12.6,
          12.7,
          12.8,
          12.9,
          13,
          13.1,
          13.2,
          13.3,
          13.4,
          13.5,
          13.6,
          13.7,
          13.8,
          13.9,
          14,
          14.1,
          14.2,
          14.3,
          14.4,
          14.5,
          14.6,
          14.7,
          14.8,
          14.9
         ],
         "y": [
          5.506701786831554,
          5.588286342295615,
          5.666858241318224,
          5.742245254113949,
          5.814287157891524,
          5.882511543295591,
          5.947022726196545,
          6.007632372460636,
          6.064107824365703,
          6.116183948769677,
          6.164516506596849,
          6.2084845445710775,
          6.247925675420786,
          6.282717034760313,
          6.312158675009199,
          6.335489503754283,
          6.35240441274677,
          6.362733149168998,
          6.365443349683077,
          6.360805367935161,
          6.349404584495452,
          6.332204831007268,
          6.3065235390336705,
          6.276090312762752,
          6.2400543897022995,
          6.1961193920404485,
          6.1445665215143155,
          6.0875796278293075,
          6.021493679077611,
          5.948339534296061,
          5.870223946541418,
          5.787235717760051,
          5.700893764276908,
          5.6133989339468,
          5.524814651457837,
          5.436669501304198,
          5.349226050236339,
          5.26273046060377,
          5.1777688244610225,
          5.093669630847308,
          5.008299380922269,
          4.92185642683419,
          4.833654951099901,
          4.742704309236558,
          4.648858021616287,
          4.55359215005748,
          4.45634859692088,
          4.356532165749304,
          4.252927936079092,
          4.147959527722147,
          4.041773879874107,
          3.9331113367428094,
          3.823581551128817,
          3.716584751887028,
          3.61100141696651,
          3.507948322080335,
          3.4081522882870536,
          3.309632637752198,
          3.21107136340923,
          3.1116417604998476,
          3.0087410327184685,
          2.904643021112705,
          2.801054685554961,
          2.697825090723961,
          2.5950058618826453,
          2.494450745663355,
          2.396129403623472,
          2.2991845560252577,
          2.204035438935327,
          2.108081178313338,
          2.010157135054748,
          1.9092360420332661,
          1.8056469741391206,
          1.6993314796215626,
          1.5927150453027514,
          1.490468198410762,
          1.3922090778169325,
          1.29826640708359,
          1.2103471263452454,
          1.1284938690185737,
          1.0510877709133077,
          0.9777520106962854,
          0.9091788563784998,
          0.8435880081227749,
          0.7807513019472057,
          0.720458147313532,
          0.6634599824690575,
          0.6090020532530933,
          0.5578441686650926,
          0.5101040130077095,
          0.465317507349442,
          0.4230190093568197,
          0.38328425804111843,
          0.34605827006713313,
          0.31123203027878377,
          0.27877431291433025,
          0.2486624887966515,
          0.22113191847454558,
          0.19606829605409554,
          0.1734762500339303,
          0.15328344569826363,
          0.1356164304858175,
          0.12027468389007082,
          0.10700064944971693,
          0.09571771071253592,
          0.0863105515500536,
          0.0800342916744577,
          0.07664943244407159,
          0.07568645606401181,
          0.07639498631633028
         ]
        },
        {
         "line": {
          "dash": "dashdot",
          "width": 3
         },
         "name": "Transfollower, MSE: 0.03",
         "opacity": 1,
         "type": "scatter",
         "x": [
          4,
          4.1,
          4.2,
          4.3,
          4.4,
          4.5,
          4.6,
          4.7,
          4.8,
          4.9,
          5,
          5.1,
          5.2,
          5.3,
          5.4,
          5.5,
          5.6,
          5.7,
          5.8,
          5.9,
          6,
          6.1,
          6.2,
          6.3,
          6.4,
          6.5,
          6.6,
          6.7,
          6.8,
          6.9,
          7,
          7.1,
          7.2,
          7.3,
          7.4,
          7.5,
          7.6,
          7.7,
          7.8,
          7.9,
          8,
          8.1,
          8.2,
          8.3,
          8.4,
          8.5,
          8.6,
          8.7,
          8.8,
          8.9,
          9,
          9.1,
          9.2,
          9.3,
          9.4,
          9.5,
          9.6,
          9.7,
          9.8,
          9.9,
          10,
          10.1,
          10.2,
          10.3,
          10.4,
          10.5,
          10.6,
          10.7,
          10.8,
          10.9,
          11,
          11.1,
          11.2,
          11.3,
          11.4,
          11.5,
          11.6,
          11.7,
          11.8,
          11.9,
          12,
          12.1,
          12.2,
          12.3,
          12.4,
          12.5,
          12.6,
          12.7,
          12.8,
          12.9,
          13,
          13.1,
          13.2,
          13.3,
          13.4,
          13.5,
          13.6,
          13.7,
          13.8,
          13.9,
          14,
          14.1,
          14.2,
          14.3,
          14.4,
          14.5,
          14.6,
          14.7,
          14.8,
          14.9
         ],
         "y": [
          5.351924896240234,
          5.333149433135986,
          5.301656723022461,
          5.2921037673950195,
          5.27009916305542,
          5.26479959487915,
          5.233213901519775,
          5.235084533691406,
          5.19199800491333,
          5.19186544418335,
          5.1634440422058105,
          5.1786580085754395,
          5.155381679534912,
          5.176122188568115,
          5.1004719734191895,
          5.130801677703857,
          5.106863498687744,
          5.045593738555908,
          5.044978141784668,
          5.048671245574951,
          4.995593547821045,
          4.955572128295898,
          4.931220054626465,
          4.893959045410156,
          4.872328281402588,
          4.838961124420166,
          4.760356426239014,
          4.758915901184082,
          4.70073938369751,
          4.662701606750488,
          4.611230373382568,
          4.564796447753906,
          4.525274276733398,
          4.479248046875,
          4.467381954193115,
          4.420091152191162,
          4.387955188751221,
          4.372296333312988,
          4.346096992492676,
          4.315282344818115,
          4.25258207321167,
          4.199492454528809,
          4.157952308654785,
          4.1015167236328125,
          4.065929412841797,
          4.0089335441589355,
          3.9339025020599365,
          3.8508524894714355,
          3.7902281284332275,
          3.730161666870117,
          3.6641461849212646,
          3.6153810024261475,
          3.5643651485443115,
          3.531893730163574,
          3.4844915866851807,
          3.461930513381958,
          3.408465623855591,
          3.3504185676574707,
          3.3023369312286377,
          3.2455971240997314,
          3.153315544128418,
          3.137634754180908,
          3.0308446884155273,
          3.0086374282836914,
          2.951490640640259,
          2.9119064807891846,
          2.830674648284912,
          2.7788918018341064,
          2.6856274604797363,
          2.650935649871826,
          2.5301928520202637,
          2.413487672805786,
          2.3308255672454834,
          2.204444408416748,
          2.1732306480407715,
          2.1220433712005615,
          2.0774590969085693,
          2.04653000831604,
          2.014113664627075,
          1.9863395690917969,
          1.9643800258636475,
          1.9336248636245728,
          1.92837393283844,
          1.8409643173217773,
          1.8157463073730469,
          1.7853481769561768,
          1.7308413982391357,
          1.674476146697998,
          1.7124638557434082,
          1.6583930253982544,
          1.5885432958602905,
          1.5874664783477783,
          1.5243353843688965,
          1.4885406494140625,
          1.4701801538467407,
          1.4299699068069458,
          1.3973796367645264,
          1.3810522556304932,
          1.3889912366867065,
          1.3758513927459717,
          1.3177839517593384,
          1.3281173706054688,
          1.3285125494003296,
          1.3707664012908936,
          1.3204734325408936,
          1.4312489032745361,
          1.4541350603103638,
          1.4339529275894165,
          1.3847187757492065,
          1.5828895568847656
         ]
        },
        {
         "line": {
          "dash": "dash",
          "width": 2
         },
         "name": "LSTM, MSE: 0.12",
         "opacity": 1,
         "type": "scatter",
         "x": [
          4,
          4.1,
          4.2,
          4.3,
          4.4,
          4.5,
          4.6,
          4.7,
          4.8,
          4.9,
          5,
          5.1,
          5.2,
          5.3,
          5.4,
          5.5,
          5.6,
          5.7,
          5.8,
          5.9,
          6,
          6.1,
          6.2,
          6.3,
          6.4,
          6.5,
          6.6,
          6.7,
          6.8,
          6.9,
          7,
          7.1,
          7.2,
          7.3,
          7.4,
          7.5,
          7.6,
          7.7,
          7.8,
          7.9,
          8,
          8.1,
          8.2,
          8.3,
          8.4,
          8.5,
          8.6,
          8.7,
          8.8,
          8.9,
          9,
          9.1,
          9.2,
          9.3,
          9.4,
          9.5,
          9.6,
          9.7,
          9.8,
          9.9,
          10,
          10.1,
          10.2,
          10.3,
          10.4,
          10.5,
          10.6,
          10.7,
          10.8,
          10.9,
          11,
          11.1,
          11.2,
          11.3,
          11.4,
          11.5,
          11.6,
          11.7,
          11.8,
          11.9,
          12,
          12.1,
          12.2,
          12.3,
          12.4,
          12.5,
          12.6,
          12.7,
          12.8,
          12.9,
          13,
          13.1,
          13.2,
          13.3,
          13.4,
          13.5,
          13.6,
          13.7,
          13.8,
          13.9,
          14,
          14.1,
          14.2,
          14.3,
          14.4,
          14.5,
          14.6,
          14.7,
          14.8,
          14.9
         ],
         "y": [
          4.182095527648926,
          4.476085662841797,
          4.728738784790039,
          4.937396049499512,
          5.104372501373291,
          5.2349934577941895,
          5.334746837615967,
          5.408699989318848,
          5.4612627029418945,
          5.497280597686768,
          5.5196123123168945,
          5.530840873718262,
          5.533149242401123,
          5.5277814865112305,
          5.515562057495117,
          5.497468948364258,
          5.474464416503906,
          5.446700572967529,
          5.415020942687988,
          5.380454063415527,
          5.344156742095947,
          5.304899215698242,
          5.264735221862793,
          5.223624229431152,
          5.180276870727539,
          5.134446144104004,
          5.087040424346924,
          5.036396026611328,
          4.982928276062012,
          4.927527904510498,
          4.870371341705322,
          4.81205415725708,
          4.7535600662231445,
          4.6951375007629395,
          4.637423038482666,
          4.58066463470459,
          4.524997711181641,
          4.470643997192383,
          4.417374610900879,
          4.36423397064209,
          4.3108625411987305,
          4.2567644119262695,
          4.201297760009766,
          4.144083023071289,
          4.085386276245117,
          4.025067329406738,
          3.9628419876098633,
          3.8981714248657227,
          3.8315515518188477,
          3.763199806213379,
          3.69283390045166,
          3.620820999145508,
          3.5483245849609375,
          3.475602149963379,
          3.403191566467285,
          3.331639289855957,
          3.2607316970825195,
          3.1900720596313477,
          3.1192703247070312,
          3.04744815826416,
          2.9747467041015625,
          2.901644706726074,
          2.8283567428588867,
          2.7550506591796875,
          2.682316780090332,
          2.610506057739258,
          2.539661407470703,
          2.4699554443359375,
          2.400911331176758,
          2.332028388977051,
          2.262815475463867,
          2.1930809020996094,
          2.12270450592041,
          2.052149772644043,
          1.9826736450195312,
          1.9149646759033203,
          1.849532127380371,
          1.7871036529541016,
          1.7281417846679688,
          1.6725540161132812,
          1.620192527770996,
          1.571122169494629,
          1.5248966217041016,
          1.4811630249023438,
          1.4396400451660156,
          1.400324821472168,
          1.3629693984985352,
          1.3276081085205078,
          1.2942705154418945,
          1.2627677917480469,
          1.2328262329101562,
          1.2043218612670898,
          1.1771669387817383,
          1.1512670516967773,
          1.1265621185302734,
          1.1030149459838867,
          1.0807151794433594,
          1.0596189498901367,
          1.039687156677246,
          1.0208616256713867,
          1.0031843185424805,
          0.9865179061889648,
          0.9706649780273438,
          0.955596923828125,
          0.9412784576416016,
          0.9286966323852539,
          0.9173994064331055,
          0.9068403244018555,
          0.8965187072753906,
          0.8861217498779297
         ]
        },
        {
         "line": {
          "dash": "dot",
          "width": 2
         },
         "name": "NN, MSE: 0.68",
         "opacity": 1,
         "type": "scatter",
         "x": [
          4,
          4.1,
          4.2,
          4.3,
          4.4,
          4.5,
          4.6,
          4.7,
          4.8,
          4.9,
          5,
          5.1,
          5.2,
          5.3,
          5.4,
          5.5,
          5.6,
          5.7,
          5.8,
          5.9,
          6,
          6.1,
          6.2,
          6.3,
          6.4,
          6.5,
          6.6,
          6.7,
          6.8,
          6.9,
          7,
          7.1,
          7.2,
          7.3,
          7.4,
          7.5,
          7.6,
          7.7,
          7.8,
          7.9,
          8,
          8.1,
          8.2,
          8.3,
          8.4,
          8.5,
          8.6,
          8.7,
          8.8,
          8.9,
          9,
          9.1,
          9.2,
          9.3,
          9.4,
          9.5,
          9.6,
          9.7,
          9.8,
          9.9,
          10,
          10.1,
          10.2,
          10.3,
          10.4,
          10.5,
          10.6,
          10.7,
          10.8,
          10.9,
          11,
          11.1,
          11.2,
          11.3,
          11.4,
          11.5,
          11.6,
          11.7,
          11.8,
          11.9,
          12,
          12.1,
          12.2,
          12.3,
          12.4,
          12.5,
          12.6,
          12.7,
          12.8,
          12.9,
          13,
          13.1,
          13.2,
          13.3,
          13.4,
          13.5,
          13.6,
          13.7,
          13.8,
          13.9,
          14,
          14.1,
          14.2,
          14.3,
          14.4,
          14.5,
          14.6,
          14.7,
          14.8,
          14.9
         ],
         "y": [
          5.686774730682373,
          5.62603759765625,
          5.57180118560791,
          5.515188217163086,
          5.447451591491699,
          5.396562099456787,
          5.351103782653809,
          5.29150390625,
          5.219377517700195,
          5.177788257598877,
          5.118566036224365,
          5.057443141937256,
          4.995517253875732,
          4.923794269561768,
          4.83789587020874,
          4.7535247802734375,
          4.683969974517822,
          4.602782249450684,
          4.529492378234863,
          4.461637496948242,
          4.407353401184082,
          4.305620193481445,
          4.247585296630859,
          4.172569274902344,
          4.075249671936035,
          3.977810859680176,
          3.9035463333129883,
          3.784404754638672,
          3.69635009765625,
          3.634248733520508,
          3.55819034576416,
          3.491269111633301,
          3.446208953857422,
          3.402982711791992,
          3.377809524536133,
          3.3559885025024414,
          3.3389968872070312,
          3.3276138305664062,
          3.31088924407959,
          3.271420478820801,
          3.2313804626464844,
          3.1842098236083984,
          3.1165542602539062,
          3.0359973907470703,
          2.97122859954834,
          2.8949337005615234,
          2.8105363845825195,
          2.7117414474487305,
          2.641768455505371,
          2.5783042907714844,
          2.503323554992676,
          2.446000099182129,
          2.4193572998046875,
          2.3861026763916016,
          2.3637685775756836,
          2.3487119674682617,
          2.321683883666992,
          2.284666061401367,
          2.244870185852051,
          2.1897659301757812,
          2.1515960693359375,
          2.1229782104492188,
          2.0941085815429688,
          2.0664005279541016,
          2.046339988708496,
          2.024677276611328,
          1.998983383178711,
          1.9768075942993164,
          1.9368228912353516,
          1.885807991027832,
          1.8358936309814453,
          1.7982473373413086,
          1.7677631378173828,
          1.7447872161865234,
          1.7397584915161133,
          1.7345380783081055,
          1.7319421768188477,
          1.7383108139038086,
          1.7465782165527344,
          1.7483177185058594,
          1.7489585876464844,
          1.7541379928588867,
          1.7495050430297852,
          1.7439088821411133,
          1.7372655868530273,
          1.7364253997802734,
          1.7299957275390625,
          1.7303972244262695,
          1.731912612915039,
          1.7289609909057617,
          1.7381610870361328,
          1.7524957656860352,
          1.7658500671386719,
          1.7864751815795898,
          1.8042678833007812,
          1.8183927536010742,
          1.8095741271972656,
          1.813323974609375,
          1.8126916885375977,
          1.8161516189575195,
          1.7986183166503906,
          1.8093900680541992,
          1.8362607955932617,
          1.8424186706542969,
          1.8505926132202148,
          1.7413511276245117,
          1.7376384735107422,
          1.7273578643798828,
          1.7974615097045898,
          1.8956212997436523
         ]
        }
       ],
       "layout": {
        "height": 400,
        "legend": {
         "orientation": "h",
         "x": 0,
         "xanchor": "left",
         "y": 1.02,
         "yanchor": "bottom"
        },
        "margin": {
         "b": 0,
         "l": 0,
         "r": 0,
         "t": 0
        },
        "template": {
         "data": {
          "bar": [
           {
            "error_x": {
             "color": "#2a3f5f"
            },
            "error_y": {
             "color": "#2a3f5f"
            },
            "marker": {
             "line": {
              "color": "#E5ECF6",
              "width": 0.5
             },
             "pattern": {
              "fillmode": "overlay",
              "size": 10,
              "solidity": 0.2
             }
            },
            "type": "bar"
           }
          ],
          "barpolar": [
           {
            "marker": {
             "line": {
              "color": "#E5ECF6",
              "width": 0.5
             },
             "pattern": {
              "fillmode": "overlay",
              "size": 10,
              "solidity": 0.2
             }
            },
            "type": "barpolar"
           }
          ],
          "carpet": [
           {
            "aaxis": {
             "endlinecolor": "#2a3f5f",
             "gridcolor": "white",
             "linecolor": "white",
             "minorgridcolor": "white",
             "startlinecolor": "#2a3f5f"
            },
            "baxis": {
             "endlinecolor": "#2a3f5f",
             "gridcolor": "white",
             "linecolor": "white",
             "minorgridcolor": "white",
             "startlinecolor": "#2a3f5f"
            },
            "type": "carpet"
           }
          ],
          "choropleth": [
           {
            "colorbar": {
             "outlinewidth": 0,
             "ticks": ""
            },
            "type": "choropleth"
           }
          ],
          "contour": [
           {
            "colorbar": {
             "outlinewidth": 0,
             "ticks": ""
            },
            "colorscale": [
             [
              0,
              "#0d0887"
             ],
             [
              0.1111111111111111,
              "#46039f"
             ],
             [
              0.2222222222222222,
              "#7201a8"
             ],
             [
              0.3333333333333333,
              "#9c179e"
             ],
             [
              0.4444444444444444,
              "#bd3786"
             ],
             [
              0.5555555555555556,
              "#d8576b"
             ],
             [
              0.6666666666666666,
              "#ed7953"
             ],
             [
              0.7777777777777778,
              "#fb9f3a"
             ],
             [
              0.8888888888888888,
              "#fdca26"
             ],
             [
              1,
              "#f0f921"
             ]
            ],
            "type": "contour"
           }
          ],
          "contourcarpet": [
           {
            "colorbar": {
             "outlinewidth": 0,
             "ticks": ""
            },
            "type": "contourcarpet"
           }
          ],
          "heatmap": [
           {
            "colorbar": {
             "outlinewidth": 0,
             "ticks": ""
            },
            "colorscale": [
             [
              0,
              "#0d0887"
             ],
             [
              0.1111111111111111,
              "#46039f"
             ],
             [
              0.2222222222222222,
              "#7201a8"
             ],
             [
              0.3333333333333333,
              "#9c179e"
             ],
             [
              0.4444444444444444,
              "#bd3786"
             ],
             [
              0.5555555555555556,
              "#d8576b"
             ],
             [
              0.6666666666666666,
              "#ed7953"
             ],
             [
              0.7777777777777778,
              "#fb9f3a"
             ],
             [
              0.8888888888888888,
              "#fdca26"
             ],
             [
              1,
              "#f0f921"
             ]
            ],
            "type": "heatmap"
           }
          ],
          "heatmapgl": [
           {
            "colorbar": {
             "outlinewidth": 0,
             "ticks": ""
            },
            "colorscale": [
             [
              0,
              "#0d0887"
             ],
             [
              0.1111111111111111,
              "#46039f"
             ],
             [
              0.2222222222222222,
              "#7201a8"
             ],
             [
              0.3333333333333333,
              "#9c179e"
             ],
             [
              0.4444444444444444,
              "#bd3786"
             ],
             [
              0.5555555555555556,
              "#d8576b"
             ],
             [
              0.6666666666666666,
              "#ed7953"
             ],
             [
              0.7777777777777778,
              "#fb9f3a"
             ],
             [
              0.8888888888888888,
              "#fdca26"
             ],
             [
              1,
              "#f0f921"
             ]
            ],
            "type": "heatmapgl"
           }
          ],
          "histogram": [
           {
            "marker": {
             "pattern": {
              "fillmode": "overlay",
              "size": 10,
              "solidity": 0.2
             }
            },
            "type": "histogram"
           }
          ],
          "histogram2d": [
           {
            "colorbar": {
             "outlinewidth": 0,
             "ticks": ""
            },
            "colorscale": [
             [
              0,
              "#0d0887"
             ],
             [
              0.1111111111111111,
              "#46039f"
             ],
             [
              0.2222222222222222,
              "#7201a8"
             ],
             [
              0.3333333333333333,
              "#9c179e"
             ],
             [
              0.4444444444444444,
              "#bd3786"
             ],
             [
              0.5555555555555556,
              "#d8576b"
             ],
             [
              0.6666666666666666,
              "#ed7953"
             ],
             [
              0.7777777777777778,
              "#fb9f3a"
             ],
             [
              0.8888888888888888,
              "#fdca26"
             ],
             [
              1,
              "#f0f921"
             ]
            ],
            "type": "histogram2d"
           }
          ],
          "histogram2dcontour": [
           {
            "colorbar": {
             "outlinewidth": 0,
             "ticks": ""
            },
            "colorscale": [
             [
              0,
              "#0d0887"
             ],
             [
              0.1111111111111111,
              "#46039f"
             ],
             [
              0.2222222222222222,
              "#7201a8"
             ],
             [
              0.3333333333333333,
              "#9c179e"
             ],
             [
              0.4444444444444444,
              "#bd3786"
             ],
             [
              0.5555555555555556,
              "#d8576b"
             ],
             [
              0.6666666666666666,
              "#ed7953"
             ],
             [
              0.7777777777777778,
              "#fb9f3a"
             ],
             [
              0.8888888888888888,
              "#fdca26"
             ],
             [
              1,
              "#f0f921"
             ]
            ],
            "type": "histogram2dcontour"
           }
          ],
          "mesh3d": [
           {
            "colorbar": {
             "outlinewidth": 0,
             "ticks": ""
            },
            "type": "mesh3d"
           }
          ],
          "parcoords": [
           {
            "line": {
             "colorbar": {
              "outlinewidth": 0,
              "ticks": ""
             }
            },
            "type": "parcoords"
           }
          ],
          "pie": [
           {
            "automargin": true,
            "type": "pie"
           }
          ],
          "scatter": [
           {
            "marker": {
             "colorbar": {
              "outlinewidth": 0,
              "ticks": ""
             }
            },
            "type": "scatter"
           }
          ],
          "scatter3d": [
           {
            "line": {
             "colorbar": {
              "outlinewidth": 0,
              "ticks": ""
             }
            },
            "marker": {
             "colorbar": {
              "outlinewidth": 0,
              "ticks": ""
             }
            },
            "type": "scatter3d"
           }
          ],
          "scattercarpet": [
           {
            "marker": {
             "colorbar": {
              "outlinewidth": 0,
              "ticks": ""
             }
            },
            "type": "scattercarpet"
           }
          ],
          "scattergeo": [
           {
            "marker": {
             "colorbar": {
              "outlinewidth": 0,
              "ticks": ""
             }
            },
            "type": "scattergeo"
           }
          ],
          "scattergl": [
           {
            "marker": {
             "colorbar": {
              "outlinewidth": 0,
              "ticks": ""
             }
            },
            "type": "scattergl"
           }
          ],
          "scattermapbox": [
           {
            "marker": {
             "colorbar": {
              "outlinewidth": 0,
              "ticks": ""
             }
            },
            "type": "scattermapbox"
           }
          ],
          "scatterpolar": [
           {
            "marker": {
             "colorbar": {
              "outlinewidth": 0,
              "ticks": ""
             }
            },
            "type": "scatterpolar"
           }
          ],
          "scatterpolargl": [
           {
            "marker": {
             "colorbar": {
              "outlinewidth": 0,
              "ticks": ""
             }
            },
            "type": "scatterpolargl"
           }
          ],
          "scatterternary": [
           {
            "marker": {
             "colorbar": {
              "outlinewidth": 0,
              "ticks": ""
             }
            },
            "type": "scatterternary"
           }
          ],
          "surface": [
           {
            "colorbar": {
             "outlinewidth": 0,
             "ticks": ""
            },
            "colorscale": [
             [
              0,
              "#0d0887"
             ],
             [
              0.1111111111111111,
              "#46039f"
             ],
             [
              0.2222222222222222,
              "#7201a8"
             ],
             [
              0.3333333333333333,
              "#9c179e"
             ],
             [
              0.4444444444444444,
              "#bd3786"
             ],
             [
              0.5555555555555556,
              "#d8576b"
             ],
             [
              0.6666666666666666,
              "#ed7953"
             ],
             [
              0.7777777777777778,
              "#fb9f3a"
             ],
             [
              0.8888888888888888,
              "#fdca26"
             ],
             [
              1,
              "#f0f921"
             ]
            ],
            "type": "surface"
           }
          ],
          "table": [
           {
            "cells": {
             "fill": {
              "color": "#EBF0F8"
             },
             "line": {
              "color": "white"
             }
            },
            "header": {
             "fill": {
              "color": "#C8D4E3"
             },
             "line": {
              "color": "white"
             }
            },
            "type": "table"
           }
          ]
         },
         "layout": {
          "annotationdefaults": {
           "arrowcolor": "#2a3f5f",
           "arrowhead": 0,
           "arrowwidth": 1
          },
          "autotypenumbers": "strict",
          "coloraxis": {
           "colorbar": {
            "outlinewidth": 0,
            "ticks": ""
           }
          },
          "colorscale": {
           "diverging": [
            [
             0,
             "#8e0152"
            ],
            [
             0.1,
             "#c51b7d"
            ],
            [
             0.2,
             "#de77ae"
            ],
            [
             0.3,
             "#f1b6da"
            ],
            [
             0.4,
             "#fde0ef"
            ],
            [
             0.5,
             "#f7f7f7"
            ],
            [
             0.6,
             "#e6f5d0"
            ],
            [
             0.7,
             "#b8e186"
            ],
            [
             0.8,
             "#7fbc41"
            ],
            [
             0.9,
             "#4d9221"
            ],
            [
             1,
             "#276419"
            ]
           ],
           "sequential": [
            [
             0,
             "#0d0887"
            ],
            [
             0.1111111111111111,
             "#46039f"
            ],
            [
             0.2222222222222222,
             "#7201a8"
            ],
            [
             0.3333333333333333,
             "#9c179e"
            ],
            [
             0.4444444444444444,
             "#bd3786"
            ],
            [
             0.5555555555555556,
             "#d8576b"
            ],
            [
             0.6666666666666666,
             "#ed7953"
            ],
            [
             0.7777777777777778,
             "#fb9f3a"
            ],
            [
             0.8888888888888888,
             "#fdca26"
            ],
            [
             1,
             "#f0f921"
            ]
           ],
           "sequentialminus": [
            [
             0,
             "#0d0887"
            ],
            [
             0.1111111111111111,
             "#46039f"
            ],
            [
             0.2222222222222222,
             "#7201a8"
            ],
            [
             0.3333333333333333,
             "#9c179e"
            ],
            [
             0.4444444444444444,
             "#bd3786"
            ],
            [
             0.5555555555555556,
             "#d8576b"
            ],
            [
             0.6666666666666666,
             "#ed7953"
            ],
            [
             0.7777777777777778,
             "#fb9f3a"
            ],
            [
             0.8888888888888888,
             "#fdca26"
            ],
            [
             1,
             "#f0f921"
            ]
           ]
          },
          "colorway": [
           "#636efa",
           "#EF553B",
           "#00cc96",
           "#ab63fa",
           "#FFA15A",
           "#19d3f3",
           "#FF6692",
           "#B6E880",
           "#FF97FF",
           "#FECB52"
          ],
          "font": {
           "color": "#2a3f5f"
          },
          "geo": {
           "bgcolor": "white",
           "lakecolor": "white",
           "landcolor": "#E5ECF6",
           "showlakes": true,
           "showland": true,
           "subunitcolor": "white"
          },
          "hoverlabel": {
           "align": "left"
          },
          "hovermode": "closest",
          "mapbox": {
           "style": "light"
          },
          "paper_bgcolor": "white",
          "plot_bgcolor": "#E5ECF6",
          "polar": {
           "angularaxis": {
            "gridcolor": "white",
            "linecolor": "white",
            "ticks": ""
           },
           "bgcolor": "#E5ECF6",
           "radialaxis": {
            "gridcolor": "white",
            "linecolor": "white",
            "ticks": ""
           }
          },
          "scene": {
           "xaxis": {
            "backgroundcolor": "#E5ECF6",
            "gridcolor": "white",
            "gridwidth": 2,
            "linecolor": "white",
            "showbackground": true,
            "ticks": "",
            "zerolinecolor": "white"
           },
           "yaxis": {
            "backgroundcolor": "#E5ECF6",
            "gridcolor": "white",
            "gridwidth": 2,
            "linecolor": "white",
            "showbackground": true,
            "ticks": "",
            "zerolinecolor": "white"
           },
           "zaxis": {
            "backgroundcolor": "#E5ECF6",
            "gridcolor": "white",
            "gridwidth": 2,
            "linecolor": "white",
            "showbackground": true,
            "ticks": "",
            "zerolinecolor": "white"
           }
          },
          "shapedefaults": {
           "line": {
            "color": "#2a3f5f"
           }
          },
          "ternary": {
           "aaxis": {
            "gridcolor": "white",
            "linecolor": "white",
            "ticks": ""
           },
           "baxis": {
            "gridcolor": "white",
            "linecolor": "white",
            "ticks": ""
           },
           "bgcolor": "#E5ECF6",
           "caxis": {
            "gridcolor": "white",
            "linecolor": "white",
            "ticks": ""
           }
          },
          "title": {
           "x": 0.05
          },
          "xaxis": {
           "automargin": true,
           "gridcolor": "white",
           "linecolor": "white",
           "ticks": "",
           "title": {
            "standoff": 15
           },
           "zerolinecolor": "white",
           "zerolinewidth": 2
          },
          "yaxis": {
           "automargin": true,
           "gridcolor": "white",
           "linecolor": "white",
           "ticks": "",
           "title": {
            "standoff": 15
           },
           "zerolinecolor": "white",
           "zerolinewidth": 2
          }
         }
        },
        "width": 800,
        "xaxis": {
         "title": {
          "text": "Time (s)"
         }
        },
        "yaxis": {
         "title": {
          "text": "Following Vehilce Speed (m/s)"
         }
        }
       }
      },
      "text/html": [
       "<div>                            <div id=\"26e2274b-3e7e-47f6-b86d-f6a9485f6044\" class=\"plotly-graph-div\" style=\"height:400px; width:800px;\"></div>            <script type=\"text/javascript\">                require([\"plotly\"], function(Plotly) {                    window.PLOTLYENV=window.PLOTLYENV || {};                                    if (document.getElementById(\"26e2274b-3e7e-47f6-b86d-f6a9485f6044\")) {                    Plotly.newPlot(                        \"26e2274b-3e7e-47f6-b86d-f6a9485f6044\",                        [{\"line\":{\"width\":3},\"mode\":\"lines\",\"name\":\"Observed\",\"opacity\":1,\"type\":\"scatter\",\"x\":[4.0,4.1,4.2,4.3,4.4,4.5,4.6,4.7,4.8,4.9,5.0,5.1,5.2,5.3,5.4,5.5,5.6,5.7,5.8,5.9,6.0,6.1,6.2,6.3,6.4,6.5,6.6,6.7,6.8,6.9,7.0,7.1,7.2,7.3,7.4,7.5,7.6,7.7,7.8,7.9,8.0,8.1,8.2,8.3,8.4,8.5,8.6,8.7,8.8,8.9,9.0,9.1,9.2,9.3,9.4,9.5,9.6,9.7,9.8,9.9,10.0,10.1,10.2,10.3,10.4,10.5,10.6,10.7,10.8,10.9,11.0,11.1,11.2,11.3,11.4,11.5,11.6,11.7,11.8,11.9,12.0,12.1,12.2,12.3,12.4,12.5,12.6,12.7,12.8,12.9,13.0,13.1,13.2,13.3,13.4,13.5,13.6,13.7,13.8,13.9,14.0,14.1,14.2,14.3,14.4,14.5,14.6,14.7,14.8,14.9],\"y\":[5.395399600000001,5.3710941000000005,5.35112885,5.33550385,5.307726050000001,5.277344050000001,5.248264150000001,5.2183162,5.1861981,5.165364700000001,5.147135499999999,5.1284723,5.1102431,5.0950521,5.082899299999999,5.0672743,5.0512153,5.033854300000001,5.0056426,4.9913198,4.9965282,4.9683164,4.9691844000000005,4.9722225,4.9526911,4.9153646,4.9101562,4.8641492,4.8246527,4.7916667,4.7560765,4.7178821,4.6870661,4.655599,4.623480799999999,4.5948349,4.569661300000001,4.5527343,4.5277778,4.4947918,4.4626738,4.4201391,4.3628475,4.3007816000000005,4.2339414,4.1584206,4.0733511,3.9908857,3.9131946,3.8355035000000006,3.76150165,3.70334185,3.64344605,3.59309885,3.5570745500000003,3.5121527,3.46701385,3.4270832500000004,3.3767360500000003,3.31423615,3.25434045,3.1927086,3.1293406,3.0464413,2.9457468,2.8667536,2.7790799,2.6974826000000003,2.6440971,2.6141492000000004,2.5681424,2.5425348,2.5225695000000004,2.5013021999999996,2.4835071,2.4652779,2.4361981000000004,2.3884552,2.3376740500000004,2.2838546500000003,2.22612895,2.16449695,2.1080732500000003,2.0481773000000003,1.9848091,1.921875,1.859375,1.8007813000000001,1.7460939000000002,1.6957468000000002,1.6506080000000003,1.6132816,1.5772572999999999,1.5399308999999999,1.5056427000000001,1.4743927000000001,1.4414065000000003,1.4084203000000002,1.3689237,1.3261719,1.2801649,1.2315539000000002,1.1803387,1.1356339000000002,1.08941,1.0390628,0.9861114,0.9301218,0.8710939999999999,0.7955731]},{\"line\":{\"dash\":\"dash\",\"width\":2},\"marker\":{\"size\":3},\"mode\":\"lines+markers\",\"name\":\"IDM, MSE: 0.84\",\"opacity\":1,\"type\":\"scatter\",\"x\":[4.0,4.1,4.2,4.3,4.4,4.5,4.6,4.7,4.8,4.9,5.0,5.1,5.2,5.3,5.4,5.5,5.6,5.7,5.8,5.9,6.0,6.1,6.2,6.3,6.4,6.5,6.6,6.7,6.8,6.9,7.0,7.1,7.2,7.3,7.4,7.5,7.6,7.7,7.8,7.9,8.0,8.1,8.2,8.3,8.4,8.5,8.6,8.7,8.8,8.9,9.0,9.1,9.2,9.3,9.4,9.5,9.6,9.7,9.8,9.9,10.0,10.1,10.2,10.3,10.4,10.5,10.6,10.7,10.8,10.9,11.0,11.1,11.2,11.3,11.4,11.5,11.6,11.7,11.8,11.9,12.0,12.1,12.2,12.3,12.4,12.5,12.6,12.7,12.8,12.9,13.0,13.1,13.2,13.3,13.4,13.5,13.6,13.7,13.8,13.9,14.0,14.1,14.2,14.3,14.4,14.5,14.6,14.7,14.8,14.9],\"y\":[5.506701786831554,5.588286342295615,5.666858241318224,5.742245254113949,5.814287157891524,5.882511543295591,5.947022726196545,6.007632372460636,6.064107824365703,6.116183948769677,6.164516506596849,6.2084845445710775,6.247925675420786,6.282717034760313,6.312158675009199,6.335489503754283,6.35240441274677,6.362733149168998,6.365443349683077,6.360805367935161,6.349404584495452,6.332204831007268,6.3065235390336705,6.276090312762752,6.2400543897022995,6.1961193920404485,6.1445665215143155,6.0875796278293075,6.021493679077611,5.948339534296061,5.870223946541418,5.787235717760051,5.700893764276908,5.6133989339468,5.524814651457837,5.436669501304198,5.349226050236339,5.26273046060377,5.1777688244610225,5.093669630847308,5.008299380922269,4.92185642683419,4.833654951099901,4.742704309236558,4.648858021616287,4.55359215005748,4.45634859692088,4.356532165749304,4.252927936079092,4.147959527722147,4.041773879874107,3.9331113367428094,3.823581551128817,3.716584751887028,3.61100141696651,3.507948322080335,3.4081522882870536,3.309632637752198,3.21107136340923,3.1116417604998476,3.0087410327184685,2.904643021112705,2.801054685554961,2.697825090723961,2.5950058618826453,2.494450745663355,2.396129403623472,2.2991845560252577,2.204035438935327,2.108081178313338,2.010157135054748,1.9092360420332661,1.8056469741391206,1.6993314796215626,1.5927150453027514,1.490468198410762,1.3922090778169325,1.29826640708359,1.2103471263452454,1.1284938690185737,1.0510877709133077,0.9777520106962854,0.9091788563784998,0.8435880081227749,0.7807513019472057,0.720458147313532,0.6634599824690575,0.6090020532530933,0.5578441686650926,0.5101040130077095,0.465317507349442,0.4230190093568197,0.38328425804111843,0.34605827006713313,0.31123203027878377,0.27877431291433025,0.2486624887966515,0.22113191847454558,0.19606829605409554,0.1734762500339303,0.15328344569826363,0.1356164304858175,0.12027468389007082,0.10700064944971693,0.09571771071253592,0.0863105515500536,0.0800342916744577,0.07664943244407159,0.07568645606401181,0.07639498631633028]},{\"line\":{\"dash\":\"dashdot\",\"width\":3},\"name\":\"Transfollower, MSE: 0.03\",\"opacity\":1,\"type\":\"scatter\",\"x\":[4.0,4.1,4.2,4.3,4.4,4.5,4.6,4.7,4.8,4.9,5.0,5.1,5.2,5.3,5.4,5.5,5.6,5.7,5.8,5.9,6.0,6.1,6.2,6.3,6.4,6.5,6.6,6.7,6.8,6.9,7.0,7.1,7.2,7.3,7.4,7.5,7.6,7.7,7.8,7.9,8.0,8.1,8.2,8.3,8.4,8.5,8.6,8.7,8.8,8.9,9.0,9.1,9.2,9.3,9.4,9.5,9.6,9.7,9.8,9.9,10.0,10.1,10.2,10.3,10.4,10.5,10.6,10.7,10.8,10.9,11.0,11.1,11.2,11.3,11.4,11.5,11.6,11.7,11.8,11.9,12.0,12.1,12.2,12.3,12.4,12.5,12.6,12.7,12.8,12.9,13.0,13.1,13.2,13.3,13.4,13.5,13.6,13.7,13.8,13.9,14.0,14.1,14.2,14.3,14.4,14.5,14.6,14.7,14.8,14.9],\"y\":[5.351924896240234,5.333149433135986,5.301656723022461,5.2921037673950195,5.27009916305542,5.26479959487915,5.233213901519775,5.235084533691406,5.19199800491333,5.19186544418335,5.1634440422058105,5.1786580085754395,5.155381679534912,5.176122188568115,5.1004719734191895,5.130801677703857,5.106863498687744,5.045593738555908,5.044978141784668,5.048671245574951,4.995593547821045,4.955572128295898,4.931220054626465,4.893959045410156,4.872328281402588,4.838961124420166,4.760356426239014,4.758915901184082,4.70073938369751,4.662701606750488,4.611230373382568,4.564796447753906,4.525274276733398,4.479248046875,4.467381954193115,4.420091152191162,4.387955188751221,4.372296333312988,4.346096992492676,4.315282344818115,4.25258207321167,4.199492454528809,4.157952308654785,4.1015167236328125,4.065929412841797,4.0089335441589355,3.9339025020599365,3.8508524894714355,3.7902281284332275,3.730161666870117,3.6641461849212646,3.6153810024261475,3.5643651485443115,3.531893730163574,3.4844915866851807,3.461930513381958,3.408465623855591,3.3504185676574707,3.3023369312286377,3.2455971240997314,3.153315544128418,3.137634754180908,3.0308446884155273,3.0086374282836914,2.951490640640259,2.9119064807891846,2.830674648284912,2.7788918018341064,2.6856274604797363,2.650935649871826,2.5301928520202637,2.413487672805786,2.3308255672454834,2.204444408416748,2.1732306480407715,2.1220433712005615,2.0774590969085693,2.04653000831604,2.014113664627075,1.9863395690917969,1.9643800258636475,1.9336248636245728,1.92837393283844,1.8409643173217773,1.8157463073730469,1.7853481769561768,1.7308413982391357,1.674476146697998,1.7124638557434082,1.6583930253982544,1.5885432958602905,1.5874664783477783,1.5243353843688965,1.4885406494140625,1.4701801538467407,1.4299699068069458,1.3973796367645264,1.3810522556304932,1.3889912366867065,1.3758513927459717,1.3177839517593384,1.3281173706054688,1.3285125494003296,1.3707664012908936,1.3204734325408936,1.4312489032745361,1.4541350603103638,1.4339529275894165,1.3847187757492065,1.5828895568847656]},{\"line\":{\"dash\":\"dash\",\"width\":2},\"name\":\"LSTM, MSE: 0.12\",\"opacity\":1,\"type\":\"scatter\",\"x\":[4.0,4.1,4.2,4.3,4.4,4.5,4.6,4.7,4.8,4.9,5.0,5.1,5.2,5.3,5.4,5.5,5.6,5.7,5.8,5.9,6.0,6.1,6.2,6.3,6.4,6.5,6.6,6.7,6.8,6.9,7.0,7.1,7.2,7.3,7.4,7.5,7.6,7.7,7.8,7.9,8.0,8.1,8.2,8.3,8.4,8.5,8.6,8.7,8.8,8.9,9.0,9.1,9.2,9.3,9.4,9.5,9.6,9.7,9.8,9.9,10.0,10.1,10.2,10.3,10.4,10.5,10.6,10.7,10.8,10.9,11.0,11.1,11.2,11.3,11.4,11.5,11.6,11.7,11.8,11.9,12.0,12.1,12.2,12.3,12.4,12.5,12.6,12.7,12.8,12.9,13.0,13.1,13.2,13.3,13.4,13.5,13.6,13.7,13.8,13.9,14.0,14.1,14.2,14.3,14.4,14.5,14.6,14.7,14.8,14.9],\"y\":[4.182095527648926,4.476085662841797,4.728738784790039,4.937396049499512,5.104372501373291,5.2349934577941895,5.334746837615967,5.408699989318848,5.4612627029418945,5.497280597686768,5.5196123123168945,5.530840873718262,5.533149242401123,5.5277814865112305,5.515562057495117,5.497468948364258,5.474464416503906,5.446700572967529,5.415020942687988,5.380454063415527,5.344156742095947,5.304899215698242,5.264735221862793,5.223624229431152,5.180276870727539,5.134446144104004,5.087040424346924,5.036396026611328,4.982928276062012,4.927527904510498,4.870371341705322,4.81205415725708,4.7535600662231445,4.6951375007629395,4.637423038482666,4.58066463470459,4.524997711181641,4.470643997192383,4.417374610900879,4.36423397064209,4.3108625411987305,4.2567644119262695,4.201297760009766,4.144083023071289,4.085386276245117,4.025067329406738,3.9628419876098633,3.8981714248657227,3.8315515518188477,3.763199806213379,3.69283390045166,3.620820999145508,3.5483245849609375,3.475602149963379,3.403191566467285,3.331639289855957,3.2607316970825195,3.1900720596313477,3.1192703247070312,3.04744815826416,2.9747467041015625,2.901644706726074,2.8283567428588867,2.7550506591796875,2.682316780090332,2.610506057739258,2.539661407470703,2.4699554443359375,2.400911331176758,2.332028388977051,2.262815475463867,2.1930809020996094,2.12270450592041,2.052149772644043,1.9826736450195312,1.9149646759033203,1.849532127380371,1.7871036529541016,1.7281417846679688,1.6725540161132812,1.620192527770996,1.571122169494629,1.5248966217041016,1.4811630249023438,1.4396400451660156,1.400324821472168,1.3629693984985352,1.3276081085205078,1.2942705154418945,1.2627677917480469,1.2328262329101562,1.2043218612670898,1.1771669387817383,1.1512670516967773,1.1265621185302734,1.1030149459838867,1.0807151794433594,1.0596189498901367,1.039687156677246,1.0208616256713867,1.0031843185424805,0.9865179061889648,0.9706649780273438,0.955596923828125,0.9412784576416016,0.9286966323852539,0.9173994064331055,0.9068403244018555,0.8965187072753906,0.8861217498779297]},{\"line\":{\"dash\":\"dot\",\"width\":2},\"name\":\"NN, MSE: 0.68\",\"opacity\":1,\"type\":\"scatter\",\"x\":[4.0,4.1,4.2,4.3,4.4,4.5,4.6,4.7,4.8,4.9,5.0,5.1,5.2,5.3,5.4,5.5,5.6,5.7,5.8,5.9,6.0,6.1,6.2,6.3,6.4,6.5,6.6,6.7,6.8,6.9,7.0,7.1,7.2,7.3,7.4,7.5,7.6,7.7,7.8,7.9,8.0,8.1,8.2,8.3,8.4,8.5,8.6,8.7,8.8,8.9,9.0,9.1,9.2,9.3,9.4,9.5,9.6,9.7,9.8,9.9,10.0,10.1,10.2,10.3,10.4,10.5,10.6,10.7,10.8,10.9,11.0,11.1,11.2,11.3,11.4,11.5,11.6,11.7,11.8,11.9,12.0,12.1,12.2,12.3,12.4,12.5,12.6,12.7,12.8,12.9,13.0,13.1,13.2,13.3,13.4,13.5,13.6,13.7,13.8,13.9,14.0,14.1,14.2,14.3,14.4,14.5,14.6,14.7,14.8,14.9],\"y\":[5.686774730682373,5.62603759765625,5.57180118560791,5.515188217163086,5.447451591491699,5.396562099456787,5.351103782653809,5.29150390625,5.219377517700195,5.177788257598877,5.118566036224365,5.057443141937256,4.995517253875732,4.923794269561768,4.83789587020874,4.7535247802734375,4.683969974517822,4.602782249450684,4.529492378234863,4.461637496948242,4.407353401184082,4.305620193481445,4.247585296630859,4.172569274902344,4.075249671936035,3.977810859680176,3.9035463333129883,3.784404754638672,3.69635009765625,3.634248733520508,3.55819034576416,3.491269111633301,3.446208953857422,3.402982711791992,3.377809524536133,3.3559885025024414,3.3389968872070312,3.3276138305664062,3.31088924407959,3.271420478820801,3.2313804626464844,3.1842098236083984,3.1165542602539062,3.0359973907470703,2.97122859954834,2.8949337005615234,2.8105363845825195,2.7117414474487305,2.641768455505371,2.5783042907714844,2.503323554992676,2.446000099182129,2.4193572998046875,2.3861026763916016,2.3637685775756836,2.3487119674682617,2.321683883666992,2.284666061401367,2.244870185852051,2.1897659301757812,2.1515960693359375,2.1229782104492188,2.0941085815429688,2.0664005279541016,2.046339988708496,2.024677276611328,1.998983383178711,1.9768075942993164,1.9368228912353516,1.885807991027832,1.8358936309814453,1.7982473373413086,1.7677631378173828,1.7447872161865234,1.7397584915161133,1.7345380783081055,1.7319421768188477,1.7383108139038086,1.7465782165527344,1.7483177185058594,1.7489585876464844,1.7541379928588867,1.7495050430297852,1.7439088821411133,1.7372655868530273,1.7364253997802734,1.7299957275390625,1.7303972244262695,1.731912612915039,1.7289609909057617,1.7381610870361328,1.7524957656860352,1.7658500671386719,1.7864751815795898,1.8042678833007812,1.8183927536010742,1.8095741271972656,1.813323974609375,1.8126916885375977,1.8161516189575195,1.7986183166503906,1.8093900680541992,1.8362607955932617,1.8424186706542969,1.8505926132202148,1.7413511276245117,1.7376384735107422,1.7273578643798828,1.7974615097045898,1.8956212997436523]}],                        {\"height\":400,\"legend\":{\"orientation\":\"h\",\"x\":0,\"xanchor\":\"left\",\"y\":1.02,\"yanchor\":\"bottom\"},\"margin\":{\"b\":0,\"l\":0,\"r\":0,\"t\":0},\"template\":{\"data\":{\"bar\":[{\"error_x\":{\"color\":\"#2a3f5f\"},\"error_y\":{\"color\":\"#2a3f5f\"},\"marker\":{\"line\":{\"color\":\"#E5ECF6\",\"width\":0.5},\"pattern\":{\"fillmode\":\"overlay\",\"size\":10,\"solidity\":0.2}},\"type\":\"bar\"}],\"barpolar\":[{\"marker\":{\"line\":{\"color\":\"#E5ECF6\",\"width\":0.5},\"pattern\":{\"fillmode\":\"overlay\",\"size\":10,\"solidity\":0.2}},\"type\":\"barpolar\"}],\"carpet\":[{\"aaxis\":{\"endlinecolor\":\"#2a3f5f\",\"gridcolor\":\"white\",\"linecolor\":\"white\",\"minorgridcolor\":\"white\",\"startlinecolor\":\"#2a3f5f\"},\"baxis\":{\"endlinecolor\":\"#2a3f5f\",\"gridcolor\":\"white\",\"linecolor\":\"white\",\"minorgridcolor\":\"white\",\"startlinecolor\":\"#2a3f5f\"},\"type\":\"carpet\"}],\"choropleth\":[{\"colorbar\":{\"outlinewidth\":0,\"ticks\":\"\"},\"type\":\"choropleth\"}],\"contour\":[{\"colorbar\":{\"outlinewidth\":0,\"ticks\":\"\"},\"colorscale\":[[0.0,\"#0d0887\"],[0.1111111111111111,\"#46039f\"],[0.2222222222222222,\"#7201a8\"],[0.3333333333333333,\"#9c179e\"],[0.4444444444444444,\"#bd3786\"],[0.5555555555555556,\"#d8576b\"],[0.6666666666666666,\"#ed7953\"],[0.7777777777777778,\"#fb9f3a\"],[0.8888888888888888,\"#fdca26\"],[1.0,\"#f0f921\"]],\"type\":\"contour\"}],\"contourcarpet\":[{\"colorbar\":{\"outlinewidth\":0,\"ticks\":\"\"},\"type\":\"contourcarpet\"}],\"heatmap\":[{\"colorbar\":{\"outlinewidth\":0,\"ticks\":\"\"},\"colorscale\":[[0.0,\"#0d0887\"],[0.1111111111111111,\"#46039f\"],[0.2222222222222222,\"#7201a8\"],[0.3333333333333333,\"#9c179e\"],[0.4444444444444444,\"#bd3786\"],[0.5555555555555556,\"#d8576b\"],[0.6666666666666666,\"#ed7953\"],[0.7777777777777778,\"#fb9f3a\"],[0.8888888888888888,\"#fdca26\"],[1.0,\"#f0f921\"]],\"type\":\"heatmap\"}],\"heatmapgl\":[{\"colorbar\":{\"outlinewidth\":0,\"ticks\":\"\"},\"colorscale\":[[0.0,\"#0d0887\"],[0.1111111111111111,\"#46039f\"],[0.2222222222222222,\"#7201a8\"],[0.3333333333333333,\"#9c179e\"],[0.4444444444444444,\"#bd3786\"],[0.5555555555555556,\"#d8576b\"],[0.6666666666666666,\"#ed7953\"],[0.7777777777777778,\"#fb9f3a\"],[0.8888888888888888,\"#fdca26\"],[1.0,\"#f0f921\"]],\"type\":\"heatmapgl\"}],\"histogram\":[{\"marker\":{\"pattern\":{\"fillmode\":\"overlay\",\"size\":10,\"solidity\":0.2}},\"type\":\"histogram\"}],\"histogram2d\":[{\"colorbar\":{\"outlinewidth\":0,\"ticks\":\"\"},\"colorscale\":[[0.0,\"#0d0887\"],[0.1111111111111111,\"#46039f\"],[0.2222222222222222,\"#7201a8\"],[0.3333333333333333,\"#9c179e\"],[0.4444444444444444,\"#bd3786\"],[0.5555555555555556,\"#d8576b\"],[0.6666666666666666,\"#ed7953\"],[0.7777777777777778,\"#fb9f3a\"],[0.8888888888888888,\"#fdca26\"],[1.0,\"#f0f921\"]],\"type\":\"histogram2d\"}],\"histogram2dcontour\":[{\"colorbar\":{\"outlinewidth\":0,\"ticks\":\"\"},\"colorscale\":[[0.0,\"#0d0887\"],[0.1111111111111111,\"#46039f\"],[0.2222222222222222,\"#7201a8\"],[0.3333333333333333,\"#9c179e\"],[0.4444444444444444,\"#bd3786\"],[0.5555555555555556,\"#d8576b\"],[0.6666666666666666,\"#ed7953\"],[0.7777777777777778,\"#fb9f3a\"],[0.8888888888888888,\"#fdca26\"],[1.0,\"#f0f921\"]],\"type\":\"histogram2dcontour\"}],\"mesh3d\":[{\"colorbar\":{\"outlinewidth\":0,\"ticks\":\"\"},\"type\":\"mesh3d\"}],\"parcoords\":[{\"line\":{\"colorbar\":{\"outlinewidth\":0,\"ticks\":\"\"}},\"type\":\"parcoords\"}],\"pie\":[{\"automargin\":true,\"type\":\"pie\"}],\"scatter\":[{\"marker\":{\"colorbar\":{\"outlinewidth\":0,\"ticks\":\"\"}},\"type\":\"scatter\"}],\"scatter3d\":[{\"line\":{\"colorbar\":{\"outlinewidth\":0,\"ticks\":\"\"}},\"marker\":{\"colorbar\":{\"outlinewidth\":0,\"ticks\":\"\"}},\"type\":\"scatter3d\"}],\"scattercarpet\":[{\"marker\":{\"colorbar\":{\"outlinewidth\":0,\"ticks\":\"\"}},\"type\":\"scattercarpet\"}],\"scattergeo\":[{\"marker\":{\"colorbar\":{\"outlinewidth\":0,\"ticks\":\"\"}},\"type\":\"scattergeo\"}],\"scattergl\":[{\"marker\":{\"colorbar\":{\"outlinewidth\":0,\"ticks\":\"\"}},\"type\":\"scattergl\"}],\"scattermapbox\":[{\"marker\":{\"colorbar\":{\"outlinewidth\":0,\"ticks\":\"\"}},\"type\":\"scattermapbox\"}],\"scatterpolar\":[{\"marker\":{\"colorbar\":{\"outlinewidth\":0,\"ticks\":\"\"}},\"type\":\"scatterpolar\"}],\"scatterpolargl\":[{\"marker\":{\"colorbar\":{\"outlinewidth\":0,\"ticks\":\"\"}},\"type\":\"scatterpolargl\"}],\"scatterternary\":[{\"marker\":{\"colorbar\":{\"outlinewidth\":0,\"ticks\":\"\"}},\"type\":\"scatterternary\"}],\"surface\":[{\"colorbar\":{\"outlinewidth\":0,\"ticks\":\"\"},\"colorscale\":[[0.0,\"#0d0887\"],[0.1111111111111111,\"#46039f\"],[0.2222222222222222,\"#7201a8\"],[0.3333333333333333,\"#9c179e\"],[0.4444444444444444,\"#bd3786\"],[0.5555555555555556,\"#d8576b\"],[0.6666666666666666,\"#ed7953\"],[0.7777777777777778,\"#fb9f3a\"],[0.8888888888888888,\"#fdca26\"],[1.0,\"#f0f921\"]],\"type\":\"surface\"}],\"table\":[{\"cells\":{\"fill\":{\"color\":\"#EBF0F8\"},\"line\":{\"color\":\"white\"}},\"header\":{\"fill\":{\"color\":\"#C8D4E3\"},\"line\":{\"color\":\"white\"}},\"type\":\"table\"}]},\"layout\":{\"annotationdefaults\":{\"arrowcolor\":\"#2a3f5f\",\"arrowhead\":0,\"arrowwidth\":1},\"autotypenumbers\":\"strict\",\"coloraxis\":{\"colorbar\":{\"outlinewidth\":0,\"ticks\":\"\"}},\"colorscale\":{\"diverging\":[[0,\"#8e0152\"],[0.1,\"#c51b7d\"],[0.2,\"#de77ae\"],[0.3,\"#f1b6da\"],[0.4,\"#fde0ef\"],[0.5,\"#f7f7f7\"],[0.6,\"#e6f5d0\"],[0.7,\"#b8e186\"],[0.8,\"#7fbc41\"],[0.9,\"#4d9221\"],[1,\"#276419\"]],\"sequential\":[[0.0,\"#0d0887\"],[0.1111111111111111,\"#46039f\"],[0.2222222222222222,\"#7201a8\"],[0.3333333333333333,\"#9c179e\"],[0.4444444444444444,\"#bd3786\"],[0.5555555555555556,\"#d8576b\"],[0.6666666666666666,\"#ed7953\"],[0.7777777777777778,\"#fb9f3a\"],[0.8888888888888888,\"#fdca26\"],[1.0,\"#f0f921\"]],\"sequentialminus\":[[0.0,\"#0d0887\"],[0.1111111111111111,\"#46039f\"],[0.2222222222222222,\"#7201a8\"],[0.3333333333333333,\"#9c179e\"],[0.4444444444444444,\"#bd3786\"],[0.5555555555555556,\"#d8576b\"],[0.6666666666666666,\"#ed7953\"],[0.7777777777777778,\"#fb9f3a\"],[0.8888888888888888,\"#fdca26\"],[1.0,\"#f0f921\"]]},\"colorway\":[\"#636efa\",\"#EF553B\",\"#00cc96\",\"#ab63fa\",\"#FFA15A\",\"#19d3f3\",\"#FF6692\",\"#B6E880\",\"#FF97FF\",\"#FECB52\"],\"font\":{\"color\":\"#2a3f5f\"},\"geo\":{\"bgcolor\":\"white\",\"lakecolor\":\"white\",\"landcolor\":\"#E5ECF6\",\"showlakes\":true,\"showland\":true,\"subunitcolor\":\"white\"},\"hoverlabel\":{\"align\":\"left\"},\"hovermode\":\"closest\",\"mapbox\":{\"style\":\"light\"},\"paper_bgcolor\":\"white\",\"plot_bgcolor\":\"#E5ECF6\",\"polar\":{\"angularaxis\":{\"gridcolor\":\"white\",\"linecolor\":\"white\",\"ticks\":\"\"},\"bgcolor\":\"#E5ECF6\",\"radialaxis\":{\"gridcolor\":\"white\",\"linecolor\":\"white\",\"ticks\":\"\"}},\"scene\":{\"xaxis\":{\"backgroundcolor\":\"#E5ECF6\",\"gridcolor\":\"white\",\"gridwidth\":2,\"linecolor\":\"white\",\"showbackground\":true,\"ticks\":\"\",\"zerolinecolor\":\"white\"},\"yaxis\":{\"backgroundcolor\":\"#E5ECF6\",\"gridcolor\":\"white\",\"gridwidth\":2,\"linecolor\":\"white\",\"showbackground\":true,\"ticks\":\"\",\"zerolinecolor\":\"white\"},\"zaxis\":{\"backgroundcolor\":\"#E5ECF6\",\"gridcolor\":\"white\",\"gridwidth\":2,\"linecolor\":\"white\",\"showbackground\":true,\"ticks\":\"\",\"zerolinecolor\":\"white\"}},\"shapedefaults\":{\"line\":{\"color\":\"#2a3f5f\"}},\"ternary\":{\"aaxis\":{\"gridcolor\":\"white\",\"linecolor\":\"white\",\"ticks\":\"\"},\"baxis\":{\"gridcolor\":\"white\",\"linecolor\":\"white\",\"ticks\":\"\"},\"bgcolor\":\"#E5ECF6\",\"caxis\":{\"gridcolor\":\"white\",\"linecolor\":\"white\",\"ticks\":\"\"}},\"title\":{\"x\":0.05},\"xaxis\":{\"automargin\":true,\"gridcolor\":\"white\",\"linecolor\":\"white\",\"ticks\":\"\",\"title\":{\"standoff\":15},\"zerolinecolor\":\"white\",\"zerolinewidth\":2},\"yaxis\":{\"automargin\":true,\"gridcolor\":\"white\",\"linecolor\":\"white\",\"ticks\":\"\",\"title\":{\"standoff\":15},\"zerolinecolor\":\"white\",\"zerolinewidth\":2}}},\"width\":800,\"xaxis\":{\"title\":{\"text\":\"Time (s)\"}},\"yaxis\":{\"title\":{\"text\":\"Following Vehilce Speed (m/s)\"}}},                        {\"responsive\": true}                    ).then(function(){\n",
       "                            \n",
       "var gd = document.getElementById('26e2274b-3e7e-47f6-b86d-f6a9485f6044');\n",
       "var x = new MutationObserver(function (mutations, observer) {{\n",
       "        var display = window.getComputedStyle(gd).display;\n",
       "        if (!display || display === 'none') {{\n",
       "            console.log([gd, 'removed!']);\n",
       "            Plotly.purge(gd);\n",
       "            observer.disconnect();\n",
       "        }}\n",
       "}});\n",
       "\n",
       "// Listen for the removal of the full notebook cells\n",
       "var notebookContainer = gd.closest('#notebook-container');\n",
       "if (notebookContainer) {{\n",
       "    x.observe(notebookContainer, {childList: true});\n",
       "}}\n",
       "\n",
       "// Listen for the clearing of the current output cell\n",
       "var outputEl = gd.closest('.output');\n",
       "if (outputEl) {{\n",
       "    x.observe(outputEl, {childList: true});\n",
       "}}\n",
       "\n",
       "                        })                };                });            </script>        </div>"
      ]
     },
     "metadata": {},
     "output_type": "display_data"
    },
    {
     "data": {
      "application/vnd.plotly.v1+json": {
       "config": {
        "plotlyServerURL": "https://plot.ly"
       },
       "data": [
        {
         "line": {
          "width": 3
         },
         "mode": "lines",
         "name": "Observed",
         "opacity": 1,
         "type": "scatter",
         "x": [
          4,
          4.1,
          4.2,
          4.3,
          4.4,
          4.5,
          4.6,
          4.7,
          4.8,
          4.9,
          5,
          5.1,
          5.2,
          5.3,
          5.4,
          5.5,
          5.6,
          5.7,
          5.8,
          5.9,
          6,
          6.1,
          6.2,
          6.3,
          6.4,
          6.5,
          6.6,
          6.7,
          6.8,
          6.9,
          7,
          7.1,
          7.2,
          7.3,
          7.4,
          7.5,
          7.6,
          7.7,
          7.8,
          7.9,
          8,
          8.1,
          8.2,
          8.3,
          8.4,
          8.5,
          8.6,
          8.7,
          8.8,
          8.9,
          9,
          9.1,
          9.2,
          9.3,
          9.4,
          9.5,
          9.6,
          9.7,
          9.8,
          9.9,
          10,
          10.1,
          10.2,
          10.3,
          10.4,
          10.5,
          10.6,
          10.7,
          10.8,
          10.9,
          11,
          11.1,
          11.2,
          11.3,
          11.4,
          11.5,
          11.6,
          11.7,
          11.8,
          11.9,
          12,
          12.1,
          12.2,
          12.3,
          12.4,
          12.5,
          12.6,
          12.7,
          12.8,
          12.9,
          13,
          13.1,
          13.2,
          13.3,
          13.4,
          13.5,
          13.6,
          13.7,
          13.8,
          13.9,
          14,
          14.1,
          14.2,
          14.3,
          14.4,
          14.5,
          14.6,
          14.7,
          14.8,
          14.9
         ],
         "y": [
          16.972800799999998,
          16.998401,
          17.0176012,
          17.043201200000002,
          17.068801200000003,
          17.0880014,
          17.1008012,
          17.113601,
          17.120001000000002,
          17.120001000000002,
          17.1072012,
          17.088001000000002,
          17.062401,
          17.036801,
          16.998400999999998,
          16.9472008,
          16.8960012,
          16.8320012,
          16.7552014,
          16.6784014,
          16.5888014,
          16.486401200000003,
          16.390401200000003,
          16.2688008,
          16.140800600000002,
          16.0256006,
          15.8976006,
          15.7376006,
          15.590400800000001,
          15.436801000000003,
          15.2704008,
          15.104000600000003,
          14.963200600000002,
          14.796800600000003,
          14.630400600000002,
          14.4768008,
          14.304001000000001,
          14.1184008,
          13.958400800000001,
          13.772800600000002,
          13.587200600000001,
          13.427200600000003,
          13.248000600000001,
          13.068800600000001,
          12.928000800000001,
          12.7552008,
          12.5632008,
          12.390401,
          12.1920008,
          11.974400800000002,
          11.788800600000002,
          11.6224004,
          11.4368004,
          11.2768004,
          11.0976004,
          10.912000599999999,
          10.7264008,
          10.566400600000001,
          10.374400600000001,
          10.2016004,
          10.028800400000002,
          9.830400200000001,
          9.6320004,
          9.4656004,
          9.2864004,
          9.1072004,
          8.953600400000001,
          8.800000200000001,
          8.6272002,
          8.4672002,
          8.307200000000002,
          8.115200000000002,
          7.920000000000001,
          7.7408,
          7.5296002,
          7.3248002,
          7.1456002000000005,
          6.9376002,
          6.7328003999999995,
          6.5664002,
          6.400000200000001,
          6.2144002,
          6.0672002,
          5.920000000000001,
          5.7536000000000005,
          5.5872,
          5.452800000000001,
          5.299200000000001,
          5.152000000000001,
          5.030400000000001,
          4.896,
          4.7616000000000005,
          4.646400000000001,
          4.5184,
          4.3904,
          4.2816,
          4.16,
          4.041600000000001,
          3.9392000000000005,
          3.8240000000000003,
          3.7152000000000007,
          3.6256000000000004,
          3.5264,
          3.4304,
          3.3536,
          3.2768,
          3.1872000000000003,
          3.104,
          3.0144,
          2.9248000000000003
         ]
        },
        {
         "line": {
          "dash": "dash",
          "width": 2
         },
         "marker": {
          "size": 3
         },
         "mode": "lines+markers",
         "name": "IDM, MSE: 8.57",
         "opacity": 1,
         "type": "scatter",
         "x": [
          4,
          4.1,
          4.2,
          4.3,
          4.4,
          4.5,
          4.6,
          4.7,
          4.8,
          4.9,
          5,
          5.1,
          5.2,
          5.3,
          5.4,
          5.5,
          5.6,
          5.7,
          5.8,
          5.9,
          6,
          6.1,
          6.2,
          6.3,
          6.4,
          6.5,
          6.6,
          6.7,
          6.8,
          6.9,
          7,
          7.1,
          7.2,
          7.3,
          7.4,
          7.5,
          7.6,
          7.7,
          7.8,
          7.9,
          8,
          8.1,
          8.2,
          8.3,
          8.4,
          8.5,
          8.6,
          8.7,
          8.8,
          8.9,
          9,
          9.1,
          9.2,
          9.3,
          9.4,
          9.5,
          9.6,
          9.7,
          9.8,
          9.9,
          10,
          10.1,
          10.2,
          10.3,
          10.4,
          10.5,
          10.6,
          10.7,
          10.8,
          10.9,
          11,
          11.1,
          11.2,
          11.3,
          11.4,
          11.5,
          11.6,
          11.7,
          11.8,
          11.9,
          12,
          12.1,
          12.2,
          12.3,
          12.4,
          12.5,
          12.6,
          12.7,
          12.8,
          12.9,
          13,
          13.1,
          13.2,
          13.3,
          13.4,
          13.5,
          13.6,
          13.7,
          13.8,
          13.9,
          14,
          14.1,
          14.2,
          14.3,
          14.4,
          14.5,
          14.6,
          14.7,
          14.8,
          14.9
         ],
         "y": [
          16.974235690658425,
          16.990810969202066,
          16.991164887521375,
          16.976041347749767,
          16.945376222149495,
          16.89978979209014,
          16.840593488615532,
          16.768189751182675,
          16.68282845634136,
          16.58639200768459,
          16.479981994916265,
          16.36311233235787,
          16.236227591358276,
          16.09896021584922,
          15.950114000360745,
          15.789240271422571,
          15.616770055597518,
          15.43226665750173,
          15.235832677559126,
          15.029368361678214,
          14.815250264056683,
          14.592412023281547,
          14.3623506447795,
          14.128290297189679,
          13.887728742066427,
          13.63932283797929,
          13.385564582301551,
          13.12567254483437,
          12.858658974489023,
          12.58798328382034,
          12.315442269778465,
          12.042267216563392,
          11.771108152461544,
          11.503526772550359,
          11.240570083280128,
          10.983411660642027,
          10.732341693064999,
          10.487863647522994,
          10.249864288269755,
          10.016420845504339,
          9.78619567491586,
          9.558828529528036,
          9.33320229063133,
          9.108565782614507,
          8.885723816071865,
          8.665219407488177,
          8.446310955139259,
          8.22787875700575,
          8.01060976691433,
          7.796000298724268,
          7.583363885844455,
          7.3728618000136095,
          7.167366550620028,
          6.968185480469236,
          6.775314842026559,
          6.589828717574217,
          6.410982014555847,
          6.236797623253884,
          6.065953388195813,
          5.896366342000359,
          5.7277760323394435,
          5.562459282147885,
          5.401276856814502,
          5.244121963000556,
          5.0920898203702265,
          4.946242009992926,
          4.806004677528585,
          4.6710671045461485,
          4.539985089798119,
          4.410291573935686,
          4.2804942382672815,
          4.150058439412881,
          4.019069503604261,
          3.8890141659162274,
          3.7646523046700118,
          3.648932392484336,
          3.541872328672951,
          3.4450812194279252,
          3.3599570052564833,
          3.2850913904882924,
          3.2186114884916983,
          3.160700794411219,
          3.1099827610574797,
          3.064156945332416,
          3.0225892998289168,
          2.98586303236588,
          2.9537296258767505,
          2.926114339090643,
          2.9041157879947335,
          2.8868104139110935,
          2.872357077893236,
          2.8601347320579227,
          2.850346513688026,
          2.8427387972826135,
          2.8371529622653178,
          2.833654415105662,
          2.8330725350201127,
          2.8355741546565527,
          2.8405813439301206,
          2.8478588966257194,
          2.8578377518391096,
          2.8699786980299056,
          2.882278772311111,
          2.8947136356441217,
          2.907829912636009,
          2.9301521395228796,
          2.961093607361654,
          2.9900710811557274,
          3.0135150767303234,
          3.0292443596113063
         ]
        },
        {
         "line": {
          "dash": "dashdot",
          "width": 3
         },
         "name": "Transfollower, MSE: 0.21",
         "opacity": 1,
         "type": "scatter",
         "x": [
          4,
          4.1,
          4.2,
          4.3,
          4.4,
          4.5,
          4.6,
          4.7,
          4.8,
          4.9,
          5,
          5.1,
          5.2,
          5.3,
          5.4,
          5.5,
          5.6,
          5.7,
          5.8,
          5.9,
          6,
          6.1,
          6.2,
          6.3,
          6.4,
          6.5,
          6.6,
          6.7,
          6.8,
          6.9,
          7,
          7.1,
          7.2,
          7.3,
          7.4,
          7.5,
          7.6,
          7.7,
          7.8,
          7.9,
          8,
          8.1,
          8.2,
          8.3,
          8.4,
          8.5,
          8.6,
          8.7,
          8.8,
          8.9,
          9,
          9.1,
          9.2,
          9.3,
          9.4,
          9.5,
          9.6,
          9.7,
          9.8,
          9.9,
          10,
          10.1,
          10.2,
          10.3,
          10.4,
          10.5,
          10.6,
          10.7,
          10.8,
          10.9,
          11,
          11.1,
          11.2,
          11.3,
          11.4,
          11.5,
          11.6,
          11.7,
          11.8,
          11.9,
          12,
          12.1,
          12.2,
          12.3,
          12.4,
          12.5,
          12.6,
          12.7,
          12.8,
          12.9,
          13,
          13.1,
          13.2,
          13.3,
          13.4,
          13.5,
          13.6,
          13.7,
          13.8,
          13.9,
          14,
          14.1,
          14.2,
          14.3,
          14.4,
          14.5,
          14.6,
          14.7,
          14.8,
          14.9
         ],
         "y": [
          17.009872436523438,
          17.041242599487305,
          17.06688690185547,
          17.0859375,
          17.098445892333984,
          17.105825424194336,
          17.10774040222168,
          17.104612350463867,
          17.097997665405273,
          17.08785629272461,
          17.072532653808594,
          17.05176544189453,
          17.024456024169922,
          16.99152374267578,
          16.951467514038086,
          16.901508331298828,
          16.84514045715332,
          16.78058624267578,
          16.705751419067383,
          16.62493133544922,
          16.53861427307129,
          16.446149826049805,
          16.34996223449707,
          16.24689292907715,
          16.13473129272461,
          16.018041610717773,
          15.893793106079102,
          15.75925064086914,
          15.618894577026367,
          15.47358512878418,
          15.324481010437012,
          15.173225402832031,
          15.021132469177246,
          14.867754936218262,
          14.7142972946167,
          14.562119483947754,
          14.410226821899414,
          14.258332252502441,
          14.105392456054688,
          13.951871871948242,
          13.798408508300781,
          13.642685890197754,
          13.483894348144531,
          13.322257995605469,
          13.158132553100586,
          12.99258041381836,
          12.825553894042969,
          12.65670394897461,
          12.486119270324707,
          12.313254356384277,
          12.137519836425781,
          11.960872650146484,
          11.783885955810547,
          11.606575965881348,
          11.429716110229492,
          11.253154754638672,
          11.076915740966797,
          10.899468421936035,
          10.718620300292969,
          10.536104202270508,
          10.351907730102539,
          10.167587280273438,
          9.983402252197266,
          9.798004150390625,
          9.613459587097168,
          9.430622100830078,
          9.249971389770508,
          9.070825576782227,
          8.889908790588379,
          8.7069673538208,
          8.525317192077637,
          8.342856407165527,
          8.161286354064941,
          7.982643127441406,
          7.806318283081055,
          7.633419036865234,
          7.46495246887207,
          7.302227020263672,
          7.144280433654785,
          6.989243507385254,
          6.837874412536621,
          6.688403129577637,
          6.541749000549316,
          6.398562431335449,
          6.256841659545898,
          6.118094444274902,
          5.9838361740112305,
          5.850832939147949,
          5.718381881713867,
          5.590353012084961,
          5.463747024536133,
          5.33868408203125,
          5.216899871826172,
          5.096242904663086,
          4.977236747741699,
          4.861659049987793,
          4.7487287521362305,
          4.636094093322754,
          4.523606300354004,
          4.415241241455078,
          4.309532165527344,
          4.20179557800293,
          4.090630531311035,
          3.979320526123047,
          3.8731584548950195,
          3.7681474685668945,
          3.660554885864258,
          3.5506820678710938,
          3.42563533782959
         ]
        },
        {
         "line": {
          "dash": "dash",
          "width": 2
         },
         "name": "LSTM, MSE: 0.39",
         "opacity": 1,
         "type": "scatter",
         "x": [
          4,
          4.1,
          4.2,
          4.3,
          4.4,
          4.5,
          4.6,
          4.7,
          4.8,
          4.9,
          5,
          5.1,
          5.2,
          5.3,
          5.4,
          5.5,
          5.6,
          5.7,
          5.8,
          5.9,
          6,
          6.1,
          6.2,
          6.3,
          6.4,
          6.5,
          6.6,
          6.7,
          6.8,
          6.9,
          7,
          7.1,
          7.2,
          7.3,
          7.4,
          7.5,
          7.6,
          7.7,
          7.8,
          7.9,
          8,
          8.1,
          8.2,
          8.3,
          8.4,
          8.5,
          8.6,
          8.7,
          8.8,
          8.9,
          9,
          9.1,
          9.2,
          9.3,
          9.4,
          9.5,
          9.6,
          9.7,
          9.8,
          9.9,
          10,
          10.1,
          10.2,
          10.3,
          10.4,
          10.5,
          10.6,
          10.7,
          10.8,
          10.9,
          11,
          11.1,
          11.2,
          11.3,
          11.4,
          11.5,
          11.6,
          11.7,
          11.8,
          11.9,
          12,
          12.1,
          12.2,
          12.3,
          12.4,
          12.5,
          12.6,
          12.7,
          12.8,
          12.9,
          13,
          13.1,
          13.2,
          13.3,
          13.4,
          13.5,
          13.6,
          13.7,
          13.8,
          13.9,
          14,
          14.1,
          14.2,
          14.3,
          14.4,
          14.5,
          14.6,
          14.7,
          14.8,
          14.9
         ],
         "y": [
          17.111217498779297,
          17.214086532592773,
          17.28611183166504,
          17.33118438720703,
          17.353469848632812,
          17.357263565063477,
          17.345420837402344,
          17.320148468017578,
          17.28479766845703,
          17.241579055786133,
          17.19083595275879,
          17.133573532104492,
          17.069791793823242,
          16.99852180480957,
          16.91937828063965,
          16.832706451416016,
          16.73790168762207,
          16.634790420532227,
          16.524864196777344,
          16.41002655029297,
          16.288816452026367,
          16.162208557128906,
          16.032861709594727,
          15.897912979125977,
          15.755578994750977,
          15.607780456542969,
          15.453324317932129,
          15.29079818725586,
          15.123091697692871,
          14.951583862304688,
          14.777159690856934,
          14.602127075195312,
          14.427824974060059,
          14.25515079498291,
          14.085162162780762,
          13.91810417175293,
          13.75444221496582,
          13.594066619873047,
          13.435114860534668,
          13.276233673095703,
          13.116992950439453,
          12.956238746643066,
          12.79315185546875,
          12.628414154052734,
          12.462509155273438,
          12.294702529907227,
          12.123863220214844,
          11.950580596923828,
          11.776278495788574,
          11.600326538085938,
          11.42288589477539,
          11.246768951416016,
          11.073399543762207,
          10.902968406677246,
          10.736688613891602,
          10.574028015136719,
          10.413192749023438,
          10.25291633605957,
          10.091129302978516,
          9.927448272705078,
          9.763981819152832,
          9.601584434509277,
          9.440202713012695,
          9.28094482421875,
          9.124927520751953,
          8.971711158752441,
          8.82105827331543,
          8.67159366607666,
          8.520858764648438,
          8.367231369018555,
          8.209970474243164,
          8.04893684387207,
          7.885387420654297,
          7.723886489868164,
          7.56744384765625,
          7.416293144226074,
          7.272193908691406,
          7.136737823486328,
          7.008779525756836,
          6.886641502380371,
          6.770606994628906,
          6.6594343185424805,
          6.5509443283081055,
          6.444553375244141,
          6.340888977050781,
          6.2397871017456055,
          6.141265869140625,
          6.046515464782715,
          5.954755783081055,
          5.864294052124023,
          5.774631500244141,
          5.686083793640137,
          5.5985212326049805,
          5.511908531188965,
          5.426431655883789,
          5.343034744262695,
          5.262009620666504,
          5.1829118728637695,
          5.105639457702637,
          5.030754089355469,
          4.957855224609375,
          4.8850908279418945,
          4.8125762939453125,
          4.740984916687012,
          4.678910255432129,
          4.625862121582031,
          4.5714616775512695,
          4.512354850769043,
          4.446556091308594
         ]
        },
        {
         "line": {
          "dash": "dot",
          "width": 2
         },
         "name": "NN, MSE: 18.62",
         "opacity": 1,
         "type": "scatter",
         "x": [
          4,
          4.1,
          4.2,
          4.3,
          4.4,
          4.5,
          4.6,
          4.7,
          4.8,
          4.9,
          5,
          5.1,
          5.2,
          5.3,
          5.4,
          5.5,
          5.6,
          5.7,
          5.8,
          5.9,
          6,
          6.1,
          6.2,
          6.3,
          6.4,
          6.5,
          6.6,
          6.7,
          6.8,
          6.9,
          7,
          7.1,
          7.2,
          7.3,
          7.4,
          7.5,
          7.6,
          7.7,
          7.8,
          7.9,
          8,
          8.1,
          8.2,
          8.3,
          8.4,
          8.5,
          8.6,
          8.7,
          8.8,
          8.9,
          9,
          9.1,
          9.2,
          9.3,
          9.4,
          9.5,
          9.6,
          9.7,
          9.8,
          9.9,
          10,
          10.1,
          10.2,
          10.3,
          10.4,
          10.5,
          10.6,
          10.7,
          10.8,
          10.9,
          11,
          11.1,
          11.2,
          11.3,
          11.4,
          11.5,
          11.6,
          11.7,
          11.8,
          11.9,
          12,
          12.1,
          12.2,
          12.3,
          12.4,
          12.5,
          12.6,
          12.7,
          12.8,
          12.9,
          13,
          13.1,
          13.2,
          13.3,
          13.4,
          13.5,
          13.6,
          13.7,
          13.8,
          13.9,
          14,
          14.1,
          14.2,
          14.3,
          14.4,
          14.5,
          14.6,
          14.7,
          14.8,
          14.9
         ],
         "y": [
          16.978485107421875,
          16.981704711914062,
          16.98268699645996,
          16.98171615600586,
          16.978769302368164,
          16.973665237426758,
          16.96686553955078,
          16.95954704284668,
          16.952266693115234,
          16.9450740814209,
          16.938053131103516,
          16.93134117126465,
          16.924640655517578,
          16.91745376586914,
          16.909391403198242,
          16.89944076538086,
          16.886356353759766,
          16.869718551635742,
          16.85000991821289,
          16.827951431274414,
          16.803544998168945,
          16.777761459350586,
          16.75182342529297,
          16.72467803955078,
          16.69542694091797,
          16.664636611938477,
          16.631954193115234,
          16.596355438232422,
          16.557641983032227,
          16.516407012939453,
          16.4736328125,
          16.43000602722168,
          16.385679244995117,
          16.340593338012695,
          16.294818878173828,
          16.248294830322266,
          16.20108413696289,
          16.15318489074707,
          16.104198455810547,
          16.053930282592773,
          16.00229263305664,
          15.949403762817383,
          15.895956993103027,
          15.842331886291504,
          15.788641929626465,
          15.734956741333008,
          15.681055068969727,
          15.626583099365234,
          15.571014404296875,
          15.51378345489502,
          15.454559326171875,
          15.393630981445312,
          15.331185340881348,
          15.267200469970703,
          15.202037811279297,
          15.135476112365723,
          15.066864013671875,
          14.995577812194824,
          14.920394897460938,
          14.840755462646484,
          14.757379531860352,
          14.67062759399414,
          14.580390930175781,
          14.487363815307617,
          14.392436981201172,
          14.29554557800293,
          14.196584701538086,
          14.094982147216797,
          13.989763259887695,
          13.879792213439941,
          13.763619422912598,
          13.640073776245117,
          13.509639739990234,
          13.375653266906738,
          13.240377426147461,
          13.104127883911133,
          12.968347549438477,
          12.834409713745117,
          12.701741218566895,
          12.569375991821289,
          12.437752723693848,
          12.306199073791504,
          12.173340797424316,
          12.038930892944336,
          11.903581619262695,
          11.767322540283203,
          11.63031005859375,
          11.493538856506348,
          11.356587409973145,
          11.217548370361328,
          11.075210571289062,
          10.92982006072998,
          10.781063079833984,
          10.628805160522461,
          10.473672866821289,
          10.318065643310547,
          10.162911415100098,
          10.007477760314941,
          9.851790428161621,
          9.697368621826172,
          9.543554306030273,
          9.38636589050293,
          9.22623062133789,
          9.06483268737793,
          8.916659355163574,
          8.78196907043457,
          8.645530700683594,
          8.500350952148438,
          8.339030265808105
         ]
        }
       ],
       "layout": {
        "height": 400,
        "legend": {
         "orientation": "h",
         "x": 0,
         "xanchor": "left",
         "y": 1.02,
         "yanchor": "bottom"
        },
        "margin": {
         "b": 0,
         "l": 0,
         "r": 0,
         "t": 0
        },
        "template": {
         "data": {
          "bar": [
           {
            "error_x": {
             "color": "#2a3f5f"
            },
            "error_y": {
             "color": "#2a3f5f"
            },
            "marker": {
             "line": {
              "color": "#E5ECF6",
              "width": 0.5
             },
             "pattern": {
              "fillmode": "overlay",
              "size": 10,
              "solidity": 0.2
             }
            },
            "type": "bar"
           }
          ],
          "barpolar": [
           {
            "marker": {
             "line": {
              "color": "#E5ECF6",
              "width": 0.5
             },
             "pattern": {
              "fillmode": "overlay",
              "size": 10,
              "solidity": 0.2
             }
            },
            "type": "barpolar"
           }
          ],
          "carpet": [
           {
            "aaxis": {
             "endlinecolor": "#2a3f5f",
             "gridcolor": "white",
             "linecolor": "white",
             "minorgridcolor": "white",
             "startlinecolor": "#2a3f5f"
            },
            "baxis": {
             "endlinecolor": "#2a3f5f",
             "gridcolor": "white",
             "linecolor": "white",
             "minorgridcolor": "white",
             "startlinecolor": "#2a3f5f"
            },
            "type": "carpet"
           }
          ],
          "choropleth": [
           {
            "colorbar": {
             "outlinewidth": 0,
             "ticks": ""
            },
            "type": "choropleth"
           }
          ],
          "contour": [
           {
            "colorbar": {
             "outlinewidth": 0,
             "ticks": ""
            },
            "colorscale": [
             [
              0,
              "#0d0887"
             ],
             [
              0.1111111111111111,
              "#46039f"
             ],
             [
              0.2222222222222222,
              "#7201a8"
             ],
             [
              0.3333333333333333,
              "#9c179e"
             ],
             [
              0.4444444444444444,
              "#bd3786"
             ],
             [
              0.5555555555555556,
              "#d8576b"
             ],
             [
              0.6666666666666666,
              "#ed7953"
             ],
             [
              0.7777777777777778,
              "#fb9f3a"
             ],
             [
              0.8888888888888888,
              "#fdca26"
             ],
             [
              1,
              "#f0f921"
             ]
            ],
            "type": "contour"
           }
          ],
          "contourcarpet": [
           {
            "colorbar": {
             "outlinewidth": 0,
             "ticks": ""
            },
            "type": "contourcarpet"
           }
          ],
          "heatmap": [
           {
            "colorbar": {
             "outlinewidth": 0,
             "ticks": ""
            },
            "colorscale": [
             [
              0,
              "#0d0887"
             ],
             [
              0.1111111111111111,
              "#46039f"
             ],
             [
              0.2222222222222222,
              "#7201a8"
             ],
             [
              0.3333333333333333,
              "#9c179e"
             ],
             [
              0.4444444444444444,
              "#bd3786"
             ],
             [
              0.5555555555555556,
              "#d8576b"
             ],
             [
              0.6666666666666666,
              "#ed7953"
             ],
             [
              0.7777777777777778,
              "#fb9f3a"
             ],
             [
              0.8888888888888888,
              "#fdca26"
             ],
             [
              1,
              "#f0f921"
             ]
            ],
            "type": "heatmap"
           }
          ],
          "heatmapgl": [
           {
            "colorbar": {
             "outlinewidth": 0,
             "ticks": ""
            },
            "colorscale": [
             [
              0,
              "#0d0887"
             ],
             [
              0.1111111111111111,
              "#46039f"
             ],
             [
              0.2222222222222222,
              "#7201a8"
             ],
             [
              0.3333333333333333,
              "#9c179e"
             ],
             [
              0.4444444444444444,
              "#bd3786"
             ],
             [
              0.5555555555555556,
              "#d8576b"
             ],
             [
              0.6666666666666666,
              "#ed7953"
             ],
             [
              0.7777777777777778,
              "#fb9f3a"
             ],
             [
              0.8888888888888888,
              "#fdca26"
             ],
             [
              1,
              "#f0f921"
             ]
            ],
            "type": "heatmapgl"
           }
          ],
          "histogram": [
           {
            "marker": {
             "pattern": {
              "fillmode": "overlay",
              "size": 10,
              "solidity": 0.2
             }
            },
            "type": "histogram"
           }
          ],
          "histogram2d": [
           {
            "colorbar": {
             "outlinewidth": 0,
             "ticks": ""
            },
            "colorscale": [
             [
              0,
              "#0d0887"
             ],
             [
              0.1111111111111111,
              "#46039f"
             ],
             [
              0.2222222222222222,
              "#7201a8"
             ],
             [
              0.3333333333333333,
              "#9c179e"
             ],
             [
              0.4444444444444444,
              "#bd3786"
             ],
             [
              0.5555555555555556,
              "#d8576b"
             ],
             [
              0.6666666666666666,
              "#ed7953"
             ],
             [
              0.7777777777777778,
              "#fb9f3a"
             ],
             [
              0.8888888888888888,
              "#fdca26"
             ],
             [
              1,
              "#f0f921"
             ]
            ],
            "type": "histogram2d"
           }
          ],
          "histogram2dcontour": [
           {
            "colorbar": {
             "outlinewidth": 0,
             "ticks": ""
            },
            "colorscale": [
             [
              0,
              "#0d0887"
             ],
             [
              0.1111111111111111,
              "#46039f"
             ],
             [
              0.2222222222222222,
              "#7201a8"
             ],
             [
              0.3333333333333333,
              "#9c179e"
             ],
             [
              0.4444444444444444,
              "#bd3786"
             ],
             [
              0.5555555555555556,
              "#d8576b"
             ],
             [
              0.6666666666666666,
              "#ed7953"
             ],
             [
              0.7777777777777778,
              "#fb9f3a"
             ],
             [
              0.8888888888888888,
              "#fdca26"
             ],
             [
              1,
              "#f0f921"
             ]
            ],
            "type": "histogram2dcontour"
           }
          ],
          "mesh3d": [
           {
            "colorbar": {
             "outlinewidth": 0,
             "ticks": ""
            },
            "type": "mesh3d"
           }
          ],
          "parcoords": [
           {
            "line": {
             "colorbar": {
              "outlinewidth": 0,
              "ticks": ""
             }
            },
            "type": "parcoords"
           }
          ],
          "pie": [
           {
            "automargin": true,
            "type": "pie"
           }
          ],
          "scatter": [
           {
            "marker": {
             "colorbar": {
              "outlinewidth": 0,
              "ticks": ""
             }
            },
            "type": "scatter"
           }
          ],
          "scatter3d": [
           {
            "line": {
             "colorbar": {
              "outlinewidth": 0,
              "ticks": ""
             }
            },
            "marker": {
             "colorbar": {
              "outlinewidth": 0,
              "ticks": ""
             }
            },
            "type": "scatter3d"
           }
          ],
          "scattercarpet": [
           {
            "marker": {
             "colorbar": {
              "outlinewidth": 0,
              "ticks": ""
             }
            },
            "type": "scattercarpet"
           }
          ],
          "scattergeo": [
           {
            "marker": {
             "colorbar": {
              "outlinewidth": 0,
              "ticks": ""
             }
            },
            "type": "scattergeo"
           }
          ],
          "scattergl": [
           {
            "marker": {
             "colorbar": {
              "outlinewidth": 0,
              "ticks": ""
             }
            },
            "type": "scattergl"
           }
          ],
          "scattermapbox": [
           {
            "marker": {
             "colorbar": {
              "outlinewidth": 0,
              "ticks": ""
             }
            },
            "type": "scattermapbox"
           }
          ],
          "scatterpolar": [
           {
            "marker": {
             "colorbar": {
              "outlinewidth": 0,
              "ticks": ""
             }
            },
            "type": "scatterpolar"
           }
          ],
          "scatterpolargl": [
           {
            "marker": {
             "colorbar": {
              "outlinewidth": 0,
              "ticks": ""
             }
            },
            "type": "scatterpolargl"
           }
          ],
          "scatterternary": [
           {
            "marker": {
             "colorbar": {
              "outlinewidth": 0,
              "ticks": ""
             }
            },
            "type": "scatterternary"
           }
          ],
          "surface": [
           {
            "colorbar": {
             "outlinewidth": 0,
             "ticks": ""
            },
            "colorscale": [
             [
              0,
              "#0d0887"
             ],
             [
              0.1111111111111111,
              "#46039f"
             ],
             [
              0.2222222222222222,
              "#7201a8"
             ],
             [
              0.3333333333333333,
              "#9c179e"
             ],
             [
              0.4444444444444444,
              "#bd3786"
             ],
             [
              0.5555555555555556,
              "#d8576b"
             ],
             [
              0.6666666666666666,
              "#ed7953"
             ],
             [
              0.7777777777777778,
              "#fb9f3a"
             ],
             [
              0.8888888888888888,
              "#fdca26"
             ],
             [
              1,
              "#f0f921"
             ]
            ],
            "type": "surface"
           }
          ],
          "table": [
           {
            "cells": {
             "fill": {
              "color": "#EBF0F8"
             },
             "line": {
              "color": "white"
             }
            },
            "header": {
             "fill": {
              "color": "#C8D4E3"
             },
             "line": {
              "color": "white"
             }
            },
            "type": "table"
           }
          ]
         },
         "layout": {
          "annotationdefaults": {
           "arrowcolor": "#2a3f5f",
           "arrowhead": 0,
           "arrowwidth": 1
          },
          "autotypenumbers": "strict",
          "coloraxis": {
           "colorbar": {
            "outlinewidth": 0,
            "ticks": ""
           }
          },
          "colorscale": {
           "diverging": [
            [
             0,
             "#8e0152"
            ],
            [
             0.1,
             "#c51b7d"
            ],
            [
             0.2,
             "#de77ae"
            ],
            [
             0.3,
             "#f1b6da"
            ],
            [
             0.4,
             "#fde0ef"
            ],
            [
             0.5,
             "#f7f7f7"
            ],
            [
             0.6,
             "#e6f5d0"
            ],
            [
             0.7,
             "#b8e186"
            ],
            [
             0.8,
             "#7fbc41"
            ],
            [
             0.9,
             "#4d9221"
            ],
            [
             1,
             "#276419"
            ]
           ],
           "sequential": [
            [
             0,
             "#0d0887"
            ],
            [
             0.1111111111111111,
             "#46039f"
            ],
            [
             0.2222222222222222,
             "#7201a8"
            ],
            [
             0.3333333333333333,
             "#9c179e"
            ],
            [
             0.4444444444444444,
             "#bd3786"
            ],
            [
             0.5555555555555556,
             "#d8576b"
            ],
            [
             0.6666666666666666,
             "#ed7953"
            ],
            [
             0.7777777777777778,
             "#fb9f3a"
            ],
            [
             0.8888888888888888,
             "#fdca26"
            ],
            [
             1,
             "#f0f921"
            ]
           ],
           "sequentialminus": [
            [
             0,
             "#0d0887"
            ],
            [
             0.1111111111111111,
             "#46039f"
            ],
            [
             0.2222222222222222,
             "#7201a8"
            ],
            [
             0.3333333333333333,
             "#9c179e"
            ],
            [
             0.4444444444444444,
             "#bd3786"
            ],
            [
             0.5555555555555556,
             "#d8576b"
            ],
            [
             0.6666666666666666,
             "#ed7953"
            ],
            [
             0.7777777777777778,
             "#fb9f3a"
            ],
            [
             0.8888888888888888,
             "#fdca26"
            ],
            [
             1,
             "#f0f921"
            ]
           ]
          },
          "colorway": [
           "#636efa",
           "#EF553B",
           "#00cc96",
           "#ab63fa",
           "#FFA15A",
           "#19d3f3",
           "#FF6692",
           "#B6E880",
           "#FF97FF",
           "#FECB52"
          ],
          "font": {
           "color": "#2a3f5f"
          },
          "geo": {
           "bgcolor": "white",
           "lakecolor": "white",
           "landcolor": "#E5ECF6",
           "showlakes": true,
           "showland": true,
           "subunitcolor": "white"
          },
          "hoverlabel": {
           "align": "left"
          },
          "hovermode": "closest",
          "mapbox": {
           "style": "light"
          },
          "paper_bgcolor": "white",
          "plot_bgcolor": "#E5ECF6",
          "polar": {
           "angularaxis": {
            "gridcolor": "white",
            "linecolor": "white",
            "ticks": ""
           },
           "bgcolor": "#E5ECF6",
           "radialaxis": {
            "gridcolor": "white",
            "linecolor": "white",
            "ticks": ""
           }
          },
          "scene": {
           "xaxis": {
            "backgroundcolor": "#E5ECF6",
            "gridcolor": "white",
            "gridwidth": 2,
            "linecolor": "white",
            "showbackground": true,
            "ticks": "",
            "zerolinecolor": "white"
           },
           "yaxis": {
            "backgroundcolor": "#E5ECF6",
            "gridcolor": "white",
            "gridwidth": 2,
            "linecolor": "white",
            "showbackground": true,
            "ticks": "",
            "zerolinecolor": "white"
           },
           "zaxis": {
            "backgroundcolor": "#E5ECF6",
            "gridcolor": "white",
            "gridwidth": 2,
            "linecolor": "white",
            "showbackground": true,
            "ticks": "",
            "zerolinecolor": "white"
           }
          },
          "shapedefaults": {
           "line": {
            "color": "#2a3f5f"
           }
          },
          "ternary": {
           "aaxis": {
            "gridcolor": "white",
            "linecolor": "white",
            "ticks": ""
           },
           "baxis": {
            "gridcolor": "white",
            "linecolor": "white",
            "ticks": ""
           },
           "bgcolor": "#E5ECF6",
           "caxis": {
            "gridcolor": "white",
            "linecolor": "white",
            "ticks": ""
           }
          },
          "title": {
           "x": 0.05
          },
          "xaxis": {
           "automargin": true,
           "gridcolor": "white",
           "linecolor": "white",
           "ticks": "",
           "title": {
            "standoff": 15
           },
           "zerolinecolor": "white",
           "zerolinewidth": 2
          },
          "yaxis": {
           "automargin": true,
           "gridcolor": "white",
           "linecolor": "white",
           "ticks": "",
           "title": {
            "standoff": 15
           },
           "zerolinecolor": "white",
           "zerolinewidth": 2
          }
         }
        },
        "width": 800,
        "xaxis": {
         "title": {
          "text": "Time (s)"
         }
        },
        "yaxis": {
         "title": {
          "text": "Inter Vehilce Spacing (m)"
         }
        }
       }
      },
      "text/html": [
       "<div>                            <div id=\"3c2085de-efaf-4e06-b8e9-957d4f883e60\" class=\"plotly-graph-div\" style=\"height:400px; width:800px;\"></div>            <script type=\"text/javascript\">                require([\"plotly\"], function(Plotly) {                    window.PLOTLYENV=window.PLOTLYENV || {};                                    if (document.getElementById(\"3c2085de-efaf-4e06-b8e9-957d4f883e60\")) {                    Plotly.newPlot(                        \"3c2085de-efaf-4e06-b8e9-957d4f883e60\",                        [{\"line\":{\"width\":3},\"mode\":\"lines\",\"name\":\"Observed\",\"opacity\":1,\"type\":\"scatter\",\"x\":[4.0,4.1,4.2,4.3,4.4,4.5,4.6,4.7,4.8,4.9,5.0,5.1,5.2,5.3,5.4,5.5,5.6,5.7,5.8,5.9,6.0,6.1,6.2,6.3,6.4,6.5,6.6,6.7,6.8,6.9,7.0,7.1,7.2,7.3,7.4,7.5,7.6,7.7,7.8,7.9,8.0,8.1,8.2,8.3,8.4,8.5,8.6,8.7,8.8,8.9,9.0,9.1,9.2,9.3,9.4,9.5,9.6,9.7,9.8,9.9,10.0,10.1,10.2,10.3,10.4,10.5,10.6,10.7,10.8,10.9,11.0,11.1,11.2,11.3,11.4,11.5,11.6,11.7,11.8,11.9,12.0,12.1,12.2,12.3,12.4,12.5,12.6,12.7,12.8,12.9,13.0,13.1,13.2,13.3,13.4,13.5,13.6,13.7,13.8,13.9,14.0,14.1,14.2,14.3,14.4,14.5,14.6,14.7,14.8,14.9],\"y\":[16.972800799999998,16.998401,17.0176012,17.043201200000002,17.068801200000003,17.0880014,17.1008012,17.113601,17.120001000000002,17.120001000000002,17.1072012,17.088001000000002,17.062401,17.036801,16.998400999999998,16.9472008,16.8960012,16.8320012,16.7552014,16.6784014,16.5888014,16.486401200000003,16.390401200000003,16.2688008,16.140800600000002,16.0256006,15.8976006,15.7376006,15.590400800000001,15.436801000000003,15.2704008,15.104000600000003,14.963200600000002,14.796800600000003,14.630400600000002,14.4768008,14.304001000000001,14.1184008,13.958400800000001,13.772800600000002,13.587200600000001,13.427200600000003,13.248000600000001,13.068800600000001,12.928000800000001,12.7552008,12.5632008,12.390401,12.1920008,11.974400800000002,11.788800600000002,11.6224004,11.4368004,11.2768004,11.0976004,10.912000599999999,10.7264008,10.566400600000001,10.374400600000001,10.2016004,10.028800400000002,9.830400200000001,9.6320004,9.4656004,9.2864004,9.1072004,8.953600400000001,8.800000200000001,8.6272002,8.4672002,8.307200000000002,8.115200000000002,7.920000000000001,7.7408,7.5296002,7.3248002,7.1456002000000005,6.9376002,6.7328003999999995,6.5664002,6.400000200000001,6.2144002,6.0672002,5.920000000000001,5.7536000000000005,5.5872,5.452800000000001,5.299200000000001,5.152000000000001,5.030400000000001,4.896,4.7616000000000005,4.646400000000001,4.5184,4.3904,4.2816,4.16,4.041600000000001,3.9392000000000005,3.8240000000000003,3.7152000000000007,3.6256000000000004,3.5264,3.4304,3.3536,3.2768,3.1872000000000003,3.104,3.0144,2.9248000000000003]},{\"line\":{\"dash\":\"dash\",\"width\":2},\"marker\":{\"size\":3},\"mode\":\"lines+markers\",\"name\":\"IDM, MSE: 8.57\",\"opacity\":1,\"type\":\"scatter\",\"x\":[4.0,4.1,4.2,4.3,4.4,4.5,4.6,4.7,4.8,4.9,5.0,5.1,5.2,5.3,5.4,5.5,5.6,5.7,5.8,5.9,6.0,6.1,6.2,6.3,6.4,6.5,6.6,6.7,6.8,6.9,7.0,7.1,7.2,7.3,7.4,7.5,7.6,7.7,7.8,7.9,8.0,8.1,8.2,8.3,8.4,8.5,8.6,8.7,8.8,8.9,9.0,9.1,9.2,9.3,9.4,9.5,9.6,9.7,9.8,9.9,10.0,10.1,10.2,10.3,10.4,10.5,10.6,10.7,10.8,10.9,11.0,11.1,11.2,11.3,11.4,11.5,11.6,11.7,11.8,11.9,12.0,12.1,12.2,12.3,12.4,12.5,12.6,12.7,12.8,12.9,13.0,13.1,13.2,13.3,13.4,13.5,13.6,13.7,13.8,13.9,14.0,14.1,14.2,14.3,14.4,14.5,14.6,14.7,14.8,14.9],\"y\":[16.974235690658425,16.990810969202066,16.991164887521375,16.976041347749767,16.945376222149495,16.89978979209014,16.840593488615532,16.768189751182675,16.68282845634136,16.58639200768459,16.479981994916265,16.36311233235787,16.236227591358276,16.09896021584922,15.950114000360745,15.789240271422571,15.616770055597518,15.43226665750173,15.235832677559126,15.029368361678214,14.815250264056683,14.592412023281547,14.3623506447795,14.128290297189679,13.887728742066427,13.63932283797929,13.385564582301551,13.12567254483437,12.858658974489023,12.58798328382034,12.315442269778465,12.042267216563392,11.771108152461544,11.503526772550359,11.240570083280128,10.983411660642027,10.732341693064999,10.487863647522994,10.249864288269755,10.016420845504339,9.78619567491586,9.558828529528036,9.33320229063133,9.108565782614507,8.885723816071865,8.665219407488177,8.446310955139259,8.22787875700575,8.01060976691433,7.796000298724268,7.583363885844455,7.3728618000136095,7.167366550620028,6.968185480469236,6.775314842026559,6.589828717574217,6.410982014555847,6.236797623253884,6.065953388195813,5.896366342000359,5.7277760323394435,5.562459282147885,5.401276856814502,5.244121963000556,5.0920898203702265,4.946242009992926,4.806004677528585,4.6710671045461485,4.539985089798119,4.410291573935686,4.2804942382672815,4.150058439412881,4.019069503604261,3.8890141659162274,3.7646523046700118,3.648932392484336,3.541872328672951,3.4450812194279252,3.3599570052564833,3.2850913904882924,3.2186114884916983,3.160700794411219,3.1099827610574797,3.064156945332416,3.0225892998289168,2.98586303236588,2.9537296258767505,2.926114339090643,2.9041157879947335,2.8868104139110935,2.872357077893236,2.8601347320579227,2.850346513688026,2.8427387972826135,2.8371529622653178,2.833654415105662,2.8330725350201127,2.8355741546565527,2.8405813439301206,2.8478588966257194,2.8578377518391096,2.8699786980299056,2.882278772311111,2.8947136356441217,2.907829912636009,2.9301521395228796,2.961093607361654,2.9900710811557274,3.0135150767303234,3.0292443596113063]},{\"line\":{\"dash\":\"dashdot\",\"width\":3},\"name\":\"Transfollower, MSE: 0.21\",\"opacity\":1,\"type\":\"scatter\",\"x\":[4.0,4.1,4.2,4.3,4.4,4.5,4.6,4.7,4.8,4.9,5.0,5.1,5.2,5.3,5.4,5.5,5.6,5.7,5.8,5.9,6.0,6.1,6.2,6.3,6.4,6.5,6.6,6.7,6.8,6.9,7.0,7.1,7.2,7.3,7.4,7.5,7.6,7.7,7.8,7.9,8.0,8.1,8.2,8.3,8.4,8.5,8.6,8.7,8.8,8.9,9.0,9.1,9.2,9.3,9.4,9.5,9.6,9.7,9.8,9.9,10.0,10.1,10.2,10.3,10.4,10.5,10.6,10.7,10.8,10.9,11.0,11.1,11.2,11.3,11.4,11.5,11.6,11.7,11.8,11.9,12.0,12.1,12.2,12.3,12.4,12.5,12.6,12.7,12.8,12.9,13.0,13.1,13.2,13.3,13.4,13.5,13.6,13.7,13.8,13.9,14.0,14.1,14.2,14.3,14.4,14.5,14.6,14.7,14.8,14.9],\"y\":[17.009872436523438,17.041242599487305,17.06688690185547,17.0859375,17.098445892333984,17.105825424194336,17.10774040222168,17.104612350463867,17.097997665405273,17.08785629272461,17.072532653808594,17.05176544189453,17.024456024169922,16.99152374267578,16.951467514038086,16.901508331298828,16.84514045715332,16.78058624267578,16.705751419067383,16.62493133544922,16.53861427307129,16.446149826049805,16.34996223449707,16.24689292907715,16.13473129272461,16.018041610717773,15.893793106079102,15.75925064086914,15.618894577026367,15.47358512878418,15.324481010437012,15.173225402832031,15.021132469177246,14.867754936218262,14.7142972946167,14.562119483947754,14.410226821899414,14.258332252502441,14.105392456054688,13.951871871948242,13.798408508300781,13.642685890197754,13.483894348144531,13.322257995605469,13.158132553100586,12.99258041381836,12.825553894042969,12.65670394897461,12.486119270324707,12.313254356384277,12.137519836425781,11.960872650146484,11.783885955810547,11.606575965881348,11.429716110229492,11.253154754638672,11.076915740966797,10.899468421936035,10.718620300292969,10.536104202270508,10.351907730102539,10.167587280273438,9.983402252197266,9.798004150390625,9.613459587097168,9.430622100830078,9.249971389770508,9.070825576782227,8.889908790588379,8.7069673538208,8.525317192077637,8.342856407165527,8.161286354064941,7.982643127441406,7.806318283081055,7.633419036865234,7.46495246887207,7.302227020263672,7.144280433654785,6.989243507385254,6.837874412536621,6.688403129577637,6.541749000549316,6.398562431335449,6.256841659545898,6.118094444274902,5.9838361740112305,5.850832939147949,5.718381881713867,5.590353012084961,5.463747024536133,5.33868408203125,5.216899871826172,5.096242904663086,4.977236747741699,4.861659049987793,4.7487287521362305,4.636094093322754,4.523606300354004,4.415241241455078,4.309532165527344,4.20179557800293,4.090630531311035,3.979320526123047,3.8731584548950195,3.7681474685668945,3.660554885864258,3.5506820678710938,3.42563533782959]},{\"line\":{\"dash\":\"dash\",\"width\":2},\"name\":\"LSTM, MSE: 0.39\",\"opacity\":1,\"type\":\"scatter\",\"x\":[4.0,4.1,4.2,4.3,4.4,4.5,4.6,4.7,4.8,4.9,5.0,5.1,5.2,5.3,5.4,5.5,5.6,5.7,5.8,5.9,6.0,6.1,6.2,6.3,6.4,6.5,6.6,6.7,6.8,6.9,7.0,7.1,7.2,7.3,7.4,7.5,7.6,7.7,7.8,7.9,8.0,8.1,8.2,8.3,8.4,8.5,8.6,8.7,8.8,8.9,9.0,9.1,9.2,9.3,9.4,9.5,9.6,9.7,9.8,9.9,10.0,10.1,10.2,10.3,10.4,10.5,10.6,10.7,10.8,10.9,11.0,11.1,11.2,11.3,11.4,11.5,11.6,11.7,11.8,11.9,12.0,12.1,12.2,12.3,12.4,12.5,12.6,12.7,12.8,12.9,13.0,13.1,13.2,13.3,13.4,13.5,13.6,13.7,13.8,13.9,14.0,14.1,14.2,14.3,14.4,14.5,14.6,14.7,14.8,14.9],\"y\":[17.111217498779297,17.214086532592773,17.28611183166504,17.33118438720703,17.353469848632812,17.357263565063477,17.345420837402344,17.320148468017578,17.28479766845703,17.241579055786133,17.19083595275879,17.133573532104492,17.069791793823242,16.99852180480957,16.91937828063965,16.832706451416016,16.73790168762207,16.634790420532227,16.524864196777344,16.41002655029297,16.288816452026367,16.162208557128906,16.032861709594727,15.897912979125977,15.755578994750977,15.607780456542969,15.453324317932129,15.29079818725586,15.123091697692871,14.951583862304688,14.777159690856934,14.602127075195312,14.427824974060059,14.25515079498291,14.085162162780762,13.91810417175293,13.75444221496582,13.594066619873047,13.435114860534668,13.276233673095703,13.116992950439453,12.956238746643066,12.79315185546875,12.628414154052734,12.462509155273438,12.294702529907227,12.123863220214844,11.950580596923828,11.776278495788574,11.600326538085938,11.42288589477539,11.246768951416016,11.073399543762207,10.902968406677246,10.736688613891602,10.574028015136719,10.413192749023438,10.25291633605957,10.091129302978516,9.927448272705078,9.763981819152832,9.601584434509277,9.440202713012695,9.28094482421875,9.124927520751953,8.971711158752441,8.82105827331543,8.67159366607666,8.520858764648438,8.367231369018555,8.209970474243164,8.04893684387207,7.885387420654297,7.723886489868164,7.56744384765625,7.416293144226074,7.272193908691406,7.136737823486328,7.008779525756836,6.886641502380371,6.770606994628906,6.6594343185424805,6.5509443283081055,6.444553375244141,6.340888977050781,6.2397871017456055,6.141265869140625,6.046515464782715,5.954755783081055,5.864294052124023,5.774631500244141,5.686083793640137,5.5985212326049805,5.511908531188965,5.426431655883789,5.343034744262695,5.262009620666504,5.1829118728637695,5.105639457702637,5.030754089355469,4.957855224609375,4.8850908279418945,4.8125762939453125,4.740984916687012,4.678910255432129,4.625862121582031,4.5714616775512695,4.512354850769043,4.446556091308594]},{\"line\":{\"dash\":\"dot\",\"width\":2},\"name\":\"NN, MSE: 18.62\",\"opacity\":1,\"type\":\"scatter\",\"x\":[4.0,4.1,4.2,4.3,4.4,4.5,4.6,4.7,4.8,4.9,5.0,5.1,5.2,5.3,5.4,5.5,5.6,5.7,5.8,5.9,6.0,6.1,6.2,6.3,6.4,6.5,6.6,6.7,6.8,6.9,7.0,7.1,7.2,7.3,7.4,7.5,7.6,7.7,7.8,7.9,8.0,8.1,8.2,8.3,8.4,8.5,8.6,8.7,8.8,8.9,9.0,9.1,9.2,9.3,9.4,9.5,9.6,9.7,9.8,9.9,10.0,10.1,10.2,10.3,10.4,10.5,10.6,10.7,10.8,10.9,11.0,11.1,11.2,11.3,11.4,11.5,11.6,11.7,11.8,11.9,12.0,12.1,12.2,12.3,12.4,12.5,12.6,12.7,12.8,12.9,13.0,13.1,13.2,13.3,13.4,13.5,13.6,13.7,13.8,13.9,14.0,14.1,14.2,14.3,14.4,14.5,14.6,14.7,14.8,14.9],\"y\":[16.978485107421875,16.981704711914062,16.98268699645996,16.98171615600586,16.978769302368164,16.973665237426758,16.96686553955078,16.95954704284668,16.952266693115234,16.9450740814209,16.938053131103516,16.93134117126465,16.924640655517578,16.91745376586914,16.909391403198242,16.89944076538086,16.886356353759766,16.869718551635742,16.85000991821289,16.827951431274414,16.803544998168945,16.777761459350586,16.75182342529297,16.72467803955078,16.69542694091797,16.664636611938477,16.631954193115234,16.596355438232422,16.557641983032227,16.516407012939453,16.4736328125,16.43000602722168,16.385679244995117,16.340593338012695,16.294818878173828,16.248294830322266,16.20108413696289,16.15318489074707,16.104198455810547,16.053930282592773,16.00229263305664,15.949403762817383,15.895956993103027,15.842331886291504,15.788641929626465,15.734956741333008,15.681055068969727,15.626583099365234,15.571014404296875,15.51378345489502,15.454559326171875,15.393630981445312,15.331185340881348,15.267200469970703,15.202037811279297,15.135476112365723,15.066864013671875,14.995577812194824,14.920394897460938,14.840755462646484,14.757379531860352,14.67062759399414,14.580390930175781,14.487363815307617,14.392436981201172,14.29554557800293,14.196584701538086,14.094982147216797,13.989763259887695,13.879792213439941,13.763619422912598,13.640073776245117,13.509639739990234,13.375653266906738,13.240377426147461,13.104127883911133,12.968347549438477,12.834409713745117,12.701741218566895,12.569375991821289,12.437752723693848,12.306199073791504,12.173340797424316,12.038930892944336,11.903581619262695,11.767322540283203,11.63031005859375,11.493538856506348,11.356587409973145,11.217548370361328,11.075210571289062,10.92982006072998,10.781063079833984,10.628805160522461,10.473672866821289,10.318065643310547,10.162911415100098,10.007477760314941,9.851790428161621,9.697368621826172,9.543554306030273,9.38636589050293,9.22623062133789,9.06483268737793,8.916659355163574,8.78196907043457,8.645530700683594,8.500350952148438,8.339030265808105]}],                        {\"height\":400,\"legend\":{\"orientation\":\"h\",\"x\":0,\"xanchor\":\"left\",\"y\":1.02,\"yanchor\":\"bottom\"},\"margin\":{\"b\":0,\"l\":0,\"r\":0,\"t\":0},\"template\":{\"data\":{\"bar\":[{\"error_x\":{\"color\":\"#2a3f5f\"},\"error_y\":{\"color\":\"#2a3f5f\"},\"marker\":{\"line\":{\"color\":\"#E5ECF6\",\"width\":0.5},\"pattern\":{\"fillmode\":\"overlay\",\"size\":10,\"solidity\":0.2}},\"type\":\"bar\"}],\"barpolar\":[{\"marker\":{\"line\":{\"color\":\"#E5ECF6\",\"width\":0.5},\"pattern\":{\"fillmode\":\"overlay\",\"size\":10,\"solidity\":0.2}},\"type\":\"barpolar\"}],\"carpet\":[{\"aaxis\":{\"endlinecolor\":\"#2a3f5f\",\"gridcolor\":\"white\",\"linecolor\":\"white\",\"minorgridcolor\":\"white\",\"startlinecolor\":\"#2a3f5f\"},\"baxis\":{\"endlinecolor\":\"#2a3f5f\",\"gridcolor\":\"white\",\"linecolor\":\"white\",\"minorgridcolor\":\"white\",\"startlinecolor\":\"#2a3f5f\"},\"type\":\"carpet\"}],\"choropleth\":[{\"colorbar\":{\"outlinewidth\":0,\"ticks\":\"\"},\"type\":\"choropleth\"}],\"contour\":[{\"colorbar\":{\"outlinewidth\":0,\"ticks\":\"\"},\"colorscale\":[[0.0,\"#0d0887\"],[0.1111111111111111,\"#46039f\"],[0.2222222222222222,\"#7201a8\"],[0.3333333333333333,\"#9c179e\"],[0.4444444444444444,\"#bd3786\"],[0.5555555555555556,\"#d8576b\"],[0.6666666666666666,\"#ed7953\"],[0.7777777777777778,\"#fb9f3a\"],[0.8888888888888888,\"#fdca26\"],[1.0,\"#f0f921\"]],\"type\":\"contour\"}],\"contourcarpet\":[{\"colorbar\":{\"outlinewidth\":0,\"ticks\":\"\"},\"type\":\"contourcarpet\"}],\"heatmap\":[{\"colorbar\":{\"outlinewidth\":0,\"ticks\":\"\"},\"colorscale\":[[0.0,\"#0d0887\"],[0.1111111111111111,\"#46039f\"],[0.2222222222222222,\"#7201a8\"],[0.3333333333333333,\"#9c179e\"],[0.4444444444444444,\"#bd3786\"],[0.5555555555555556,\"#d8576b\"],[0.6666666666666666,\"#ed7953\"],[0.7777777777777778,\"#fb9f3a\"],[0.8888888888888888,\"#fdca26\"],[1.0,\"#f0f921\"]],\"type\":\"heatmap\"}],\"heatmapgl\":[{\"colorbar\":{\"outlinewidth\":0,\"ticks\":\"\"},\"colorscale\":[[0.0,\"#0d0887\"],[0.1111111111111111,\"#46039f\"],[0.2222222222222222,\"#7201a8\"],[0.3333333333333333,\"#9c179e\"],[0.4444444444444444,\"#bd3786\"],[0.5555555555555556,\"#d8576b\"],[0.6666666666666666,\"#ed7953\"],[0.7777777777777778,\"#fb9f3a\"],[0.8888888888888888,\"#fdca26\"],[1.0,\"#f0f921\"]],\"type\":\"heatmapgl\"}],\"histogram\":[{\"marker\":{\"pattern\":{\"fillmode\":\"overlay\",\"size\":10,\"solidity\":0.2}},\"type\":\"histogram\"}],\"histogram2d\":[{\"colorbar\":{\"outlinewidth\":0,\"ticks\":\"\"},\"colorscale\":[[0.0,\"#0d0887\"],[0.1111111111111111,\"#46039f\"],[0.2222222222222222,\"#7201a8\"],[0.3333333333333333,\"#9c179e\"],[0.4444444444444444,\"#bd3786\"],[0.5555555555555556,\"#d8576b\"],[0.6666666666666666,\"#ed7953\"],[0.7777777777777778,\"#fb9f3a\"],[0.8888888888888888,\"#fdca26\"],[1.0,\"#f0f921\"]],\"type\":\"histogram2d\"}],\"histogram2dcontour\":[{\"colorbar\":{\"outlinewidth\":0,\"ticks\":\"\"},\"colorscale\":[[0.0,\"#0d0887\"],[0.1111111111111111,\"#46039f\"],[0.2222222222222222,\"#7201a8\"],[0.3333333333333333,\"#9c179e\"],[0.4444444444444444,\"#bd3786\"],[0.5555555555555556,\"#d8576b\"],[0.6666666666666666,\"#ed7953\"],[0.7777777777777778,\"#fb9f3a\"],[0.8888888888888888,\"#fdca26\"],[1.0,\"#f0f921\"]],\"type\":\"histogram2dcontour\"}],\"mesh3d\":[{\"colorbar\":{\"outlinewidth\":0,\"ticks\":\"\"},\"type\":\"mesh3d\"}],\"parcoords\":[{\"line\":{\"colorbar\":{\"outlinewidth\":0,\"ticks\":\"\"}},\"type\":\"parcoords\"}],\"pie\":[{\"automargin\":true,\"type\":\"pie\"}],\"scatter\":[{\"marker\":{\"colorbar\":{\"outlinewidth\":0,\"ticks\":\"\"}},\"type\":\"scatter\"}],\"scatter3d\":[{\"line\":{\"colorbar\":{\"outlinewidth\":0,\"ticks\":\"\"}},\"marker\":{\"colorbar\":{\"outlinewidth\":0,\"ticks\":\"\"}},\"type\":\"scatter3d\"}],\"scattercarpet\":[{\"marker\":{\"colorbar\":{\"outlinewidth\":0,\"ticks\":\"\"}},\"type\":\"scattercarpet\"}],\"scattergeo\":[{\"marker\":{\"colorbar\":{\"outlinewidth\":0,\"ticks\":\"\"}},\"type\":\"scattergeo\"}],\"scattergl\":[{\"marker\":{\"colorbar\":{\"outlinewidth\":0,\"ticks\":\"\"}},\"type\":\"scattergl\"}],\"scattermapbox\":[{\"marker\":{\"colorbar\":{\"outlinewidth\":0,\"ticks\":\"\"}},\"type\":\"scattermapbox\"}],\"scatterpolar\":[{\"marker\":{\"colorbar\":{\"outlinewidth\":0,\"ticks\":\"\"}},\"type\":\"scatterpolar\"}],\"scatterpolargl\":[{\"marker\":{\"colorbar\":{\"outlinewidth\":0,\"ticks\":\"\"}},\"type\":\"scatterpolargl\"}],\"scatterternary\":[{\"marker\":{\"colorbar\":{\"outlinewidth\":0,\"ticks\":\"\"}},\"type\":\"scatterternary\"}],\"surface\":[{\"colorbar\":{\"outlinewidth\":0,\"ticks\":\"\"},\"colorscale\":[[0.0,\"#0d0887\"],[0.1111111111111111,\"#46039f\"],[0.2222222222222222,\"#7201a8\"],[0.3333333333333333,\"#9c179e\"],[0.4444444444444444,\"#bd3786\"],[0.5555555555555556,\"#d8576b\"],[0.6666666666666666,\"#ed7953\"],[0.7777777777777778,\"#fb9f3a\"],[0.8888888888888888,\"#fdca26\"],[1.0,\"#f0f921\"]],\"type\":\"surface\"}],\"table\":[{\"cells\":{\"fill\":{\"color\":\"#EBF0F8\"},\"line\":{\"color\":\"white\"}},\"header\":{\"fill\":{\"color\":\"#C8D4E3\"},\"line\":{\"color\":\"white\"}},\"type\":\"table\"}]},\"layout\":{\"annotationdefaults\":{\"arrowcolor\":\"#2a3f5f\",\"arrowhead\":0,\"arrowwidth\":1},\"autotypenumbers\":\"strict\",\"coloraxis\":{\"colorbar\":{\"outlinewidth\":0,\"ticks\":\"\"}},\"colorscale\":{\"diverging\":[[0,\"#8e0152\"],[0.1,\"#c51b7d\"],[0.2,\"#de77ae\"],[0.3,\"#f1b6da\"],[0.4,\"#fde0ef\"],[0.5,\"#f7f7f7\"],[0.6,\"#e6f5d0\"],[0.7,\"#b8e186\"],[0.8,\"#7fbc41\"],[0.9,\"#4d9221\"],[1,\"#276419\"]],\"sequential\":[[0.0,\"#0d0887\"],[0.1111111111111111,\"#46039f\"],[0.2222222222222222,\"#7201a8\"],[0.3333333333333333,\"#9c179e\"],[0.4444444444444444,\"#bd3786\"],[0.5555555555555556,\"#d8576b\"],[0.6666666666666666,\"#ed7953\"],[0.7777777777777778,\"#fb9f3a\"],[0.8888888888888888,\"#fdca26\"],[1.0,\"#f0f921\"]],\"sequentialminus\":[[0.0,\"#0d0887\"],[0.1111111111111111,\"#46039f\"],[0.2222222222222222,\"#7201a8\"],[0.3333333333333333,\"#9c179e\"],[0.4444444444444444,\"#bd3786\"],[0.5555555555555556,\"#d8576b\"],[0.6666666666666666,\"#ed7953\"],[0.7777777777777778,\"#fb9f3a\"],[0.8888888888888888,\"#fdca26\"],[1.0,\"#f0f921\"]]},\"colorway\":[\"#636efa\",\"#EF553B\",\"#00cc96\",\"#ab63fa\",\"#FFA15A\",\"#19d3f3\",\"#FF6692\",\"#B6E880\",\"#FF97FF\",\"#FECB52\"],\"font\":{\"color\":\"#2a3f5f\"},\"geo\":{\"bgcolor\":\"white\",\"lakecolor\":\"white\",\"landcolor\":\"#E5ECF6\",\"showlakes\":true,\"showland\":true,\"subunitcolor\":\"white\"},\"hoverlabel\":{\"align\":\"left\"},\"hovermode\":\"closest\",\"mapbox\":{\"style\":\"light\"},\"paper_bgcolor\":\"white\",\"plot_bgcolor\":\"#E5ECF6\",\"polar\":{\"angularaxis\":{\"gridcolor\":\"white\",\"linecolor\":\"white\",\"ticks\":\"\"},\"bgcolor\":\"#E5ECF6\",\"radialaxis\":{\"gridcolor\":\"white\",\"linecolor\":\"white\",\"ticks\":\"\"}},\"scene\":{\"xaxis\":{\"backgroundcolor\":\"#E5ECF6\",\"gridcolor\":\"white\",\"gridwidth\":2,\"linecolor\":\"white\",\"showbackground\":true,\"ticks\":\"\",\"zerolinecolor\":\"white\"},\"yaxis\":{\"backgroundcolor\":\"#E5ECF6\",\"gridcolor\":\"white\",\"gridwidth\":2,\"linecolor\":\"white\",\"showbackground\":true,\"ticks\":\"\",\"zerolinecolor\":\"white\"},\"zaxis\":{\"backgroundcolor\":\"#E5ECF6\",\"gridcolor\":\"white\",\"gridwidth\":2,\"linecolor\":\"white\",\"showbackground\":true,\"ticks\":\"\",\"zerolinecolor\":\"white\"}},\"shapedefaults\":{\"line\":{\"color\":\"#2a3f5f\"}},\"ternary\":{\"aaxis\":{\"gridcolor\":\"white\",\"linecolor\":\"white\",\"ticks\":\"\"},\"baxis\":{\"gridcolor\":\"white\",\"linecolor\":\"white\",\"ticks\":\"\"},\"bgcolor\":\"#E5ECF6\",\"caxis\":{\"gridcolor\":\"white\",\"linecolor\":\"white\",\"ticks\":\"\"}},\"title\":{\"x\":0.05},\"xaxis\":{\"automargin\":true,\"gridcolor\":\"white\",\"linecolor\":\"white\",\"ticks\":\"\",\"title\":{\"standoff\":15},\"zerolinecolor\":\"white\",\"zerolinewidth\":2},\"yaxis\":{\"automargin\":true,\"gridcolor\":\"white\",\"linecolor\":\"white\",\"ticks\":\"\",\"title\":{\"standoff\":15},\"zerolinecolor\":\"white\",\"zerolinewidth\":2}}},\"width\":800,\"xaxis\":{\"title\":{\"text\":\"Time (s)\"}},\"yaxis\":{\"title\":{\"text\":\"Inter Vehilce Spacing (m)\"}}},                        {\"responsive\": true}                    ).then(function(){\n",
       "                            \n",
       "var gd = document.getElementById('3c2085de-efaf-4e06-b8e9-957d4f883e60');\n",
       "var x = new MutationObserver(function (mutations, observer) {{\n",
       "        var display = window.getComputedStyle(gd).display;\n",
       "        if (!display || display === 'none') {{\n",
       "            console.log([gd, 'removed!']);\n",
       "            Plotly.purge(gd);\n",
       "            observer.disconnect();\n",
       "        }}\n",
       "}});\n",
       "\n",
       "// Listen for the removal of the full notebook cells\n",
       "var notebookContainer = gd.closest('#notebook-container');\n",
       "if (notebookContainer) {{\n",
       "    x.observe(notebookContainer, {childList: true});\n",
       "}}\n",
       "\n",
       "// Listen for the clearing of the current output cell\n",
       "var outputEl = gd.closest('.output');\n",
       "if (outputEl) {{\n",
       "    x.observe(outputEl, {childList: true});\n",
       "}}\n",
       "\n",
       "                        })                };                });            </script>        </div>"
      ]
     },
     "metadata": {},
     "output_type": "display_data"
    },
    {
     "data": {
      "application/vnd.plotly.v1+json": {
       "config": {
        "plotlyServerURL": "https://plot.ly"
       },
       "data": [
        {
         "line": {
          "width": 3
         },
         "mode": "lines",
         "name": "Observed",
         "opacity": 1,
         "type": "scatter",
         "x": [
          4,
          4.1,
          4.2,
          4.3,
          4.4,
          4.5,
          4.6,
          4.7,
          4.8,
          4.9,
          5,
          5.1,
          5.2,
          5.3,
          5.4,
          5.5,
          5.6,
          5.7,
          5.8,
          5.9,
          6,
          6.1,
          6.2,
          6.3,
          6.4,
          6.5,
          6.6,
          6.7,
          6.8,
          6.9,
          7,
          7.1,
          7.2,
          7.3,
          7.4,
          7.5,
          7.6,
          7.7,
          7.8,
          7.9,
          8,
          8.1,
          8.2,
          8.3,
          8.4,
          8.5,
          8.6,
          8.7,
          8.8,
          8.9,
          9,
          9.1,
          9.2,
          9.3,
          9.4,
          9.5,
          9.6,
          9.7,
          9.8,
          9.9,
          10,
          10.1,
          10.2,
          10.3,
          10.4,
          10.5,
          10.6,
          10.7,
          10.8,
          10.9,
          11,
          11.1,
          11.2,
          11.3,
          11.4,
          11.5,
          11.6,
          11.7,
          11.8,
          11.9,
          12,
          12.1,
          12.2,
          12.3,
          12.4,
          12.5,
          12.6,
          12.7,
          12.8,
          12.9,
          13,
          13.1,
          13.2,
          13.3,
          13.4,
          13.5,
          13.6,
          13.7,
          13.8,
          13.9,
          14,
          14.1,
          14.2,
          14.3,
          14.4,
          14.5,
          14.6,
          14.7,
          14.8,
          14.9
         ],
         "y": [
          15.2361124,
          15.2361122,
          15.2282996,
          15.207466199999999,
          15.199653600000001,
          15.1944452,
          15.179254400000001,
          15.156685,
          15.1315113,
          15.0967889,
          15.0529519,
          15.014323300000001,
          14.974392700000003,
          14.928385800000003,
          14.8784727,
          14.8242193,
          14.761719300000003,
          14.677517900000002,
          14.5889762,
          14.493924100000001,
          14.392361500000002,
          14.287760800000001,
          14.200087200000002,
          14.083333800000002,
          13.960721050000004,
          13.832249050000001,
          13.715061650000003,
          13.609158850000002,
          13.525825450000001,
          13.441841000000002,
          13.340712400000001,
          13.225912000000001,
          13.10753095,
          13.002930250000002,
          12.91872885,
          12.871419850000002,
          12.825629950000002,
          12.771268000000001,
          12.722656900000002,
          12.673177700000002,
          12.6358513,
          12.5937505,
          12.5607644,
          12.522570100000001,
          12.4869797,
          12.4513893,
          12.416667100000002,
          12.368924,
          12.323785,
          12.273438000000002,
          12.2044277,
          12.148004100000001,
          12.0954867,
          12.031250500000002,
          11.964410100000002,
          11.898003800000001,
          11.836805900000002,
          11.7894969,
          11.7395837,
          11.6779517,
          11.620660099999998,
          11.5759553,
          11.53993105,
          11.529080450000002,
          11.53168475,
          11.53168475,
          11.51085145,
          11.484375800000002,
          11.4522578,
          11.4253481,
          11.404948800000001,
          11.3962682,
          11.384983400000001,
          11.3710944,
          11.3580735,
          11.3446186,
          11.330729700000001,
          11.319445,
          11.319445100000001,
          11.328125800000002,
          11.353733500000002,
          11.396268200000002,
          11.4379348,
          11.470052700000002,
          11.553385900000002,
          11.679688000000002,
          11.777344300000001,
          11.864149900000001,
          11.9874139,
          12.0694452,
          12.110243800000001,
          12.185330700000002,
          12.293837700000001,
          12.388455700000002,
          12.473091100000001,
          12.547743900000002,
          12.626736900000001,
          12.710938299999999,
          12.7903654,
          12.8780389,
          12.970052700000002,
          13.0481777,
          13.122830500000001,
          13.203559700000001,
          13.27973165,
          13.35525245,
          13.42513085,
          13.47895025,
          13.53233555,
          13.575087200000002
         ]
        },
        {
         "line": {
          "dash": "dash",
          "width": 2
         },
         "marker": {
          "size": 3
         },
         "mode": "lines+markers",
         "name": "IDM, MSE: 1.15",
         "opacity": 1,
         "type": "scatter",
         "x": [
          4,
          4.1,
          4.2,
          4.3,
          4.4,
          4.5,
          4.6,
          4.7,
          4.8,
          4.9,
          5,
          5.1,
          5.2,
          5.3,
          5.4,
          5.5,
          5.6,
          5.7,
          5.8,
          5.9,
          6,
          6.1,
          6.2,
          6.3,
          6.4,
          6.5,
          6.6,
          6.7,
          6.8,
          6.9,
          7,
          7.1,
          7.2,
          7.3,
          7.4,
          7.5,
          7.6,
          7.7,
          7.8,
          7.9,
          8,
          8.1,
          8.2,
          8.3,
          8.4,
          8.5,
          8.6,
          8.7,
          8.8,
          8.9,
          9,
          9.1,
          9.2,
          9.3,
          9.4,
          9.5,
          9.6,
          9.7,
          9.8,
          9.9,
          10,
          10.1,
          10.2,
          10.3,
          10.4,
          10.5,
          10.6,
          10.7,
          10.8,
          10.9,
          11,
          11.1,
          11.2,
          11.3,
          11.4,
          11.5,
          11.6,
          11.7,
          11.8,
          11.9,
          12,
          12.1,
          12.2,
          12.3,
          12.4,
          12.5,
          12.6,
          12.7,
          12.8,
          12.9,
          13,
          13.1,
          13.2,
          13.3,
          13.4,
          13.5,
          13.6,
          13.7,
          13.8,
          13.9,
          14,
          14.1,
          14.2,
          14.3,
          14.4,
          14.5,
          14.6,
          14.7,
          14.8,
          14.9
         ],
         "y": [
          14.540472506309175,
          14.10803801122431,
          13.801650973703934,
          13.573001544680663,
          13.39272312071384,
          13.248832983720021,
          13.13198962412066,
          13.034002778675585,
          12.949595344680045,
          12.875638156812634,
          12.808798947930429,
          12.746558362293461,
          12.691562051000485,
          12.645005258864266,
          12.604691951759447,
          12.569149770806606,
          12.537137205899525,
          12.50717324160127,
          12.476432988239447,
          12.446838047305695,
          12.419785831888387,
          12.400880373343131,
          12.38641854017486,
          12.377533679549343,
          12.372541225235604,
          12.368404686610152,
          12.360470890161073,
          12.352231028553813,
          12.346818409461852,
          12.344132542646397,
          12.345658332299799,
          12.34930249501224,
          12.353588866596612,
          12.356307895851977,
          12.357015417207789,
          12.357765446055472,
          12.360088074473827,
          12.362146341297398,
          12.361351449905507,
          12.358459299828526,
          12.353560960467227,
          12.347974185229605,
          12.34130749250727,
          12.334518416609361,
          12.327121796918874,
          12.317516189290206,
          12.30588962520868,
          12.293472426724676,
          12.280042775564523,
          12.267878370911879,
          12.258240680380098,
          12.250964499971913,
          12.246020523730989,
          12.242601968550968,
          12.237694723669687,
          12.227481925222135,
          12.210423660220789,
          12.185468294781215,
          12.154590415731091,
          12.117991523149204,
          12.074883099298987,
          12.028554650092081,
          11.982963080734763,
          11.941148460072831,
          11.905292523799597,
          11.878000786816585,
          11.855843500477988,
          11.836164228089894,
          11.820046632479274,
          11.808403556749688,
          11.801167709799216,
          11.800118533670723,
          11.80544380482535,
          11.814549646683421,
          11.825259065598212,
          11.839024421728931,
          11.855497002751262,
          11.87437365282024,
          11.89489296133233,
          11.918390082332818,
          11.943801177063284,
          11.972066674884998,
          12.003970148196359,
          12.037248986769553,
          12.069987829359317,
          12.104720132103933,
          12.14143815456749,
          12.178329548245568,
          12.213590167466661,
          12.247672487096171,
          12.277499233256869,
          12.301752911008688,
          12.321489589433138,
          12.341972983901682,
          12.362198941489105,
          12.381499163024223,
          12.397837936099794,
          12.411666216530865,
          12.422029121012118,
          12.430241494544102,
          12.43629890335628,
          12.439896311909793,
          12.440087778418885,
          12.431843480467034,
          12.417722359632682,
          12.396743278076409,
          12.370160086183953,
          12.337813286120898,
          12.306271384498038,
          12.275409512161712
         ]
        },
        {
         "line": {
          "dash": "dashdot",
          "width": 3
         },
         "name": "Transfollower, MSE: 0.28",
         "opacity": 1,
         "type": "scatter",
         "x": [
          4,
          4.1,
          4.2,
          4.3,
          4.4,
          4.5,
          4.6,
          4.7,
          4.8,
          4.9,
          5,
          5.1,
          5.2,
          5.3,
          5.4,
          5.5,
          5.6,
          5.7,
          5.8,
          5.9,
          6,
          6.1,
          6.2,
          6.3,
          6.4,
          6.5,
          6.6,
          6.7,
          6.8,
          6.9,
          7,
          7.1,
          7.2,
          7.3,
          7.4,
          7.5,
          7.6,
          7.7,
          7.8,
          7.9,
          8,
          8.1,
          8.2,
          8.3,
          8.4,
          8.5,
          8.6,
          8.7,
          8.8,
          8.9,
          9,
          9.1,
          9.2,
          9.3,
          9.4,
          9.5,
          9.6,
          9.7,
          9.8,
          9.9,
          10,
          10.1,
          10.2,
          10.3,
          10.4,
          10.5,
          10.6,
          10.7,
          10.8,
          10.9,
          11,
          11.1,
          11.2,
          11.3,
          11.4,
          11.5,
          11.6,
          11.7,
          11.8,
          11.9,
          12,
          12.1,
          12.2,
          12.3,
          12.4,
          12.5,
          12.6,
          12.7,
          12.8,
          12.9,
          13,
          13.1,
          13.2,
          13.3,
          13.4,
          13.5,
          13.6,
          13.7,
          13.8,
          13.9,
          14,
          14.1,
          14.2,
          14.3,
          14.4,
          14.5,
          14.6,
          14.7,
          14.8,
          14.9
         ],
         "y": [
          15.285528182983398,
          15.186784744262695,
          15.17685604095459,
          15.11823558807373,
          15.084601402282715,
          15.032064437866211,
          15.002315521240234,
          14.937843322753906,
          14.898980140686035,
          14.823214530944824,
          14.777746200561523,
          14.707114219665527,
          14.602707862854004,
          14.548847198486328,
          14.493310928344727,
          14.434074401855469,
          14.376220703125,
          14.25278377532959,
          14.21847915649414,
          14.153890609741211,
          14.126659393310547,
          14.096121788024902,
          14.0384521484375,
          13.991981506347656,
          13.980278015136719,
          13.878697395324707,
          13.795952796936035,
          13.778308868408203,
          13.749079704284668,
          13.694938659667969,
          13.724273681640625,
          13.65214729309082,
          13.619603157043457,
          13.537429809570312,
          13.456470489501953,
          13.461690902709961,
          13.395195007324219,
          13.33079719543457,
          13.23462200164795,
          13.154016494750977,
          13.10960865020752,
          13.027999877929688,
          12.970136642456055,
          12.898892402648926,
          12.8287935256958,
          12.75648307800293,
          12.692366600036621,
          12.651409149169922,
          12.611014366149902,
          12.556644439697266,
          12.545161247253418,
          12.500065803527832,
          12.476278305053711,
          12.415315628051758,
          12.353144645690918,
          12.211121559143066,
          12.130790710449219,
          12.039891242980957,
          11.925654411315918,
          11.827683448791504,
          11.744229316711426,
          11.649717330932617,
          11.645204544067383,
          11.616432189941406,
          11.610457420349121,
          11.586755752563477,
          11.548566818237305,
          11.540179252624512,
          11.521206855773926,
          11.535024642944336,
          11.518248558044434,
          11.5767822265625,
          11.623343467712402,
          11.637802124023438,
          11.654403686523438,
          11.689592361450195,
          11.739189147949219,
          11.776900291442871,
          11.834007263183594,
          11.919462203979492,
          11.909004211425781,
          12.003482818603516,
          12.02442455291748,
          12.080219268798828,
          12.165875434875488,
          12.186471939086914,
          12.2244291305542,
          12.249068260192871,
          12.27287483215332,
          12.24658203125,
          12.204858779907227,
          12.17298698425293,
          12.183486938476562,
          12.213346481323242,
          12.216902732849121,
          12.208627700805664,
          12.217660903930664,
          12.16928768157959,
          12.19984245300293,
          12.158744812011719,
          12.17000675201416,
          12.119739532470703,
          12.092731475830078,
          12.052090644836426,
          12.00801944732666,
          11.895532608032227,
          11.875876426696777,
          11.808542251586914,
          11.825638771057129,
          11.813037872314453
         ]
        },
        {
         "line": {
          "dash": "dash",
          "width": 2
         },
         "name": "LSTM, MSE: 0.37",
         "opacity": 1,
         "type": "scatter",
         "x": [
          4,
          4.1,
          4.2,
          4.3,
          4.4,
          4.5,
          4.6,
          4.7,
          4.8,
          4.9,
          5,
          5.1,
          5.2,
          5.3,
          5.4,
          5.5,
          5.6,
          5.7,
          5.8,
          5.9,
          6,
          6.1,
          6.2,
          6.3,
          6.4,
          6.5,
          6.6,
          6.7,
          6.8,
          6.9,
          7,
          7.1,
          7.2,
          7.3,
          7.4,
          7.5,
          7.6,
          7.7,
          7.8,
          7.9,
          8,
          8.1,
          8.2,
          8.3,
          8.4,
          8.5,
          8.6,
          8.7,
          8.8,
          8.9,
          9,
          9.1,
          9.2,
          9.3,
          9.4,
          9.5,
          9.6,
          9.7,
          9.8,
          9.9,
          10,
          10.1,
          10.2,
          10.3,
          10.4,
          10.5,
          10.6,
          10.7,
          10.8,
          10.9,
          11,
          11.1,
          11.2,
          11.3,
          11.4,
          11.5,
          11.6,
          11.7,
          11.8,
          11.9,
          12,
          12.1,
          12.2,
          12.3,
          12.4,
          12.5,
          12.6,
          12.7,
          12.8,
          12.9,
          13,
          13.1,
          13.2,
          13.3,
          13.4,
          13.5,
          13.6,
          13.7,
          13.8,
          13.9,
          14,
          14.1,
          14.2,
          14.3,
          14.4,
          14.5,
          14.6,
          14.7,
          14.8,
          14.9
         ],
         "y": [
          15.697771072387695,
          15.443851470947266,
          15.242083549499512,
          15.078227996826172,
          14.94204044342041,
          14.825627326965332,
          14.722612380981445,
          14.628487586975098,
          14.540371894836426,
          14.455855369567871,
          14.373115539550781,
          14.29310131072998,
          14.216877937316895,
          14.143875122070312,
          14.073444366455078,
          14.00490951538086,
          13.937393188476562,
          13.869131088256836,
          13.8009672164917,
          13.734029769897461,
          13.672327041625977,
          13.614717483520508,
          13.56205940246582,
          13.513526916503906,
          13.466897964477539,
          13.418411254882812,
          13.369765281677246,
          13.323562622070312,
          13.280498504638672,
          13.242060661315918,
          13.207069396972656,
          13.17417049407959,
          13.14128303527832,
          13.107589721679688,
          13.07448673248291,
          13.043475151062012,
          13.013481140136719,
          12.982274055480957,
          12.949958801269531,
          12.916563987731934,
          12.883116722106934,
          12.849531173706055,
          12.816539764404297,
          12.783886909484863,
          12.750279426574707,
          12.715557098388672,
          12.68054485321045,
          12.645224571228027,
          12.611310958862305,
          12.580116271972656,
          12.551833152770996,
          12.52649211883545,
          12.503413200378418,
          12.47995662689209,
          12.45251178741455,
          12.419205665588379,
          12.378989219665527,
          12.333236694335938,
          12.28250789642334,
          12.226566314697266,
          12.167642593383789,
          12.108821868896484,
          12.052875518798828,
          12.002049446105957,
          11.958877563476562,
          11.92159366607666,
          11.887872695922852,
          11.857902526855469,
          11.83232593536377,
          11.81126594543457,
          11.796319007873535,
          11.788142204284668,
          11.784701347351074,
          11.783571243286133,
          11.785517692565918,
          11.790308952331543,
          11.797666549682617,
          11.806804656982422,
          11.818967819213867,
          11.833322525024414,
          11.850807189941406,
          11.872547149658203,
          11.89622688293457,
          11.919159889221191,
          11.943774223327637,
          11.97053337097168,
          11.997408866882324,
          12.0218505859375,
          12.043996810913086,
          12.060370445251465,
          12.069343566894531,
          12.072221755981445,
          12.075054168701172,
          12.078165054321289,
          12.081165313720703,
          12.081904411315918,
          12.080458641052246,
          12.07590103149414,
          12.069419860839844,
          12.061275482177734,
          12.051315307617188,
          12.038702964782715,
          12.018967628479004,
          11.993695259094238,
          11.96247673034668,
          11.926480293273926,
          11.885948181152344,
          11.845958709716797,
          11.80742359161377,
          11.772666931152344
         ]
        },
        {
         "line": {
          "dash": "dot",
          "width": 2
         },
         "name": "NN, MSE: 1.37",
         "opacity": 1,
         "type": "scatter",
         "x": [
          4,
          4.1,
          4.2,
          4.3,
          4.4,
          4.5,
          4.6,
          4.7,
          4.8,
          4.9,
          5,
          5.1,
          5.2,
          5.3,
          5.4,
          5.5,
          5.6,
          5.7,
          5.8,
          5.9,
          6,
          6.1,
          6.2,
          6.3,
          6.4,
          6.5,
          6.6,
          6.7,
          6.8,
          6.9,
          7,
          7.1,
          7.2,
          7.3,
          7.4,
          7.5,
          7.6,
          7.7,
          7.8,
          7.9,
          8,
          8.1,
          8.2,
          8.3,
          8.4,
          8.5,
          8.6,
          8.7,
          8.8,
          8.9,
          9,
          9.1,
          9.2,
          9.3,
          9.4,
          9.5,
          9.6,
          9.7,
          9.8,
          9.9,
          10,
          10.1,
          10.2,
          10.3,
          10.4,
          10.5,
          10.6,
          10.7,
          10.8,
          10.9,
          11,
          11.1,
          11.2,
          11.3,
          11.4,
          11.5,
          11.6,
          11.7,
          11.8,
          11.9,
          12,
          12.1,
          12.2,
          12.3,
          12.4,
          12.5,
          12.6,
          12.7,
          12.8,
          12.9,
          13,
          13.1,
          13.2,
          13.3,
          13.4,
          13.5,
          13.6,
          13.7,
          13.8,
          13.9,
          14,
          14.1,
          14.2,
          14.3,
          14.4,
          14.5,
          14.6,
          14.7,
          14.8,
          14.9
         ],
         "y": [
          13.240964889526367,
          13.229501724243164,
          13.225022315979004,
          13.213079452514648,
          13.208597183227539,
          13.20561408996582,
          13.196904182434082,
          13.1839599609375,
          13.16952133178711,
          13.1496000289917,
          13.1244535446167,
          13.113761901855469,
          13.113798141479492,
          13.11035442352295,
          13.10466194152832,
          13.096964836120605,
          13.08570384979248,
          13.063512802124023,
          13.050643920898438,
          13.043858528137207,
          13.061187744140625,
          13.068464279174805,
          13.084877014160156,
          13.096527099609375,
          13.095222473144531,
          13.0707426071167,
          13.062405586242676,
          13.069174766540527,
          13.077638626098633,
          13.095780372619629,
          13.105947494506836,
          13.10893440246582,
          13.098617553710938,
          13.086309432983398,
          13.084188461303711,
          13.090570449829102,
          13.087663650512695,
          13.070246696472168,
          13.056814193725586,
          13.043519020080566,
          13.035703659057617,
          13.025737762451172,
          13.01988410949707,
          13.011676788330078,
          12.995624542236328,
          12.979565620422363,
          12.968411445617676,
          12.955891609191895,
          12.953575134277344,
          12.957929611206055,
          12.962892532348633,
          12.969014167785645,
          12.972391128540039,
          12.961456298828125,
          12.931294441223145,
          12.892298698425293,
          12.83707332611084,
          12.781882286071777,
          12.725030899047852,
          12.660761833190918,
          12.61203384399414,
          12.584371566772461,
          12.574461936950684,
          12.580123901367188,
          12.606478691101074,
          12.61884880065918,
          12.618337631225586,
          12.626880645751953,
          12.644513130187988,
          12.665440559387207,
          12.703131675720215,
          12.7482271194458,
          12.779026985168457,
          12.795536041259766,
          12.825231552124023,
          12.854649543762207,
          12.879987716674805,
          12.897462844848633,
          12.924539566040039,
          12.946508407592773,
          12.976113319396973,
          13.01334285736084,
          13.036645889282227,
          13.046621322631836,
          13.076399803161621,
          13.111101150512695,
          13.132708549499512,
          13.136613845825195,
          13.144224166870117,
          13.122438430786133,
          13.089978218078613,
          13.067232131958008,
          13.081707000732422,
          13.089085578918457,
          13.091407775878906,
          13.078612327575684,
          13.067943572998047,
          13.051530838012695,
          13.042250633239746,
          13.032182693481445,
          13.019562721252441,
          13.000669479370117,
          12.953142166137695,
          12.917374610900879,
          12.87502384185791,
          12.823450088500977,
          12.76647663116455,
          12.749926567077637,
          12.733098983764648,
          12.734835624694824
         ]
        }
       ],
       "layout": {
        "height": 400,
        "legend": {
         "orientation": "h",
         "x": 0,
         "xanchor": "left",
         "y": 1.02,
         "yanchor": "bottom"
        },
        "margin": {
         "b": 0,
         "l": 0,
         "r": 0,
         "t": 0
        },
        "template": {
         "data": {
          "bar": [
           {
            "error_x": {
             "color": "#2a3f5f"
            },
            "error_y": {
             "color": "#2a3f5f"
            },
            "marker": {
             "line": {
              "color": "#E5ECF6",
              "width": 0.5
             },
             "pattern": {
              "fillmode": "overlay",
              "size": 10,
              "solidity": 0.2
             }
            },
            "type": "bar"
           }
          ],
          "barpolar": [
           {
            "marker": {
             "line": {
              "color": "#E5ECF6",
              "width": 0.5
             },
             "pattern": {
              "fillmode": "overlay",
              "size": 10,
              "solidity": 0.2
             }
            },
            "type": "barpolar"
           }
          ],
          "carpet": [
           {
            "aaxis": {
             "endlinecolor": "#2a3f5f",
             "gridcolor": "white",
             "linecolor": "white",
             "minorgridcolor": "white",
             "startlinecolor": "#2a3f5f"
            },
            "baxis": {
             "endlinecolor": "#2a3f5f",
             "gridcolor": "white",
             "linecolor": "white",
             "minorgridcolor": "white",
             "startlinecolor": "#2a3f5f"
            },
            "type": "carpet"
           }
          ],
          "choropleth": [
           {
            "colorbar": {
             "outlinewidth": 0,
             "ticks": ""
            },
            "type": "choropleth"
           }
          ],
          "contour": [
           {
            "colorbar": {
             "outlinewidth": 0,
             "ticks": ""
            },
            "colorscale": [
             [
              0,
              "#0d0887"
             ],
             [
              0.1111111111111111,
              "#46039f"
             ],
             [
              0.2222222222222222,
              "#7201a8"
             ],
             [
              0.3333333333333333,
              "#9c179e"
             ],
             [
              0.4444444444444444,
              "#bd3786"
             ],
             [
              0.5555555555555556,
              "#d8576b"
             ],
             [
              0.6666666666666666,
              "#ed7953"
             ],
             [
              0.7777777777777778,
              "#fb9f3a"
             ],
             [
              0.8888888888888888,
              "#fdca26"
             ],
             [
              1,
              "#f0f921"
             ]
            ],
            "type": "contour"
           }
          ],
          "contourcarpet": [
           {
            "colorbar": {
             "outlinewidth": 0,
             "ticks": ""
            },
            "type": "contourcarpet"
           }
          ],
          "heatmap": [
           {
            "colorbar": {
             "outlinewidth": 0,
             "ticks": ""
            },
            "colorscale": [
             [
              0,
              "#0d0887"
             ],
             [
              0.1111111111111111,
              "#46039f"
             ],
             [
              0.2222222222222222,
              "#7201a8"
             ],
             [
              0.3333333333333333,
              "#9c179e"
             ],
             [
              0.4444444444444444,
              "#bd3786"
             ],
             [
              0.5555555555555556,
              "#d8576b"
             ],
             [
              0.6666666666666666,
              "#ed7953"
             ],
             [
              0.7777777777777778,
              "#fb9f3a"
             ],
             [
              0.8888888888888888,
              "#fdca26"
             ],
             [
              1,
              "#f0f921"
             ]
            ],
            "type": "heatmap"
           }
          ],
          "heatmapgl": [
           {
            "colorbar": {
             "outlinewidth": 0,
             "ticks": ""
            },
            "colorscale": [
             [
              0,
              "#0d0887"
             ],
             [
              0.1111111111111111,
              "#46039f"
             ],
             [
              0.2222222222222222,
              "#7201a8"
             ],
             [
              0.3333333333333333,
              "#9c179e"
             ],
             [
              0.4444444444444444,
              "#bd3786"
             ],
             [
              0.5555555555555556,
              "#d8576b"
             ],
             [
              0.6666666666666666,
              "#ed7953"
             ],
             [
              0.7777777777777778,
              "#fb9f3a"
             ],
             [
              0.8888888888888888,
              "#fdca26"
             ],
             [
              1,
              "#f0f921"
             ]
            ],
            "type": "heatmapgl"
           }
          ],
          "histogram": [
           {
            "marker": {
             "pattern": {
              "fillmode": "overlay",
              "size": 10,
              "solidity": 0.2
             }
            },
            "type": "histogram"
           }
          ],
          "histogram2d": [
           {
            "colorbar": {
             "outlinewidth": 0,
             "ticks": ""
            },
            "colorscale": [
             [
              0,
              "#0d0887"
             ],
             [
              0.1111111111111111,
              "#46039f"
             ],
             [
              0.2222222222222222,
              "#7201a8"
             ],
             [
              0.3333333333333333,
              "#9c179e"
             ],
             [
              0.4444444444444444,
              "#bd3786"
             ],
             [
              0.5555555555555556,
              "#d8576b"
             ],
             [
              0.6666666666666666,
              "#ed7953"
             ],
             [
              0.7777777777777778,
              "#fb9f3a"
             ],
             [
              0.8888888888888888,
              "#fdca26"
             ],
             [
              1,
              "#f0f921"
             ]
            ],
            "type": "histogram2d"
           }
          ],
          "histogram2dcontour": [
           {
            "colorbar": {
             "outlinewidth": 0,
             "ticks": ""
            },
            "colorscale": [
             [
              0,
              "#0d0887"
             ],
             [
              0.1111111111111111,
              "#46039f"
             ],
             [
              0.2222222222222222,
              "#7201a8"
             ],
             [
              0.3333333333333333,
              "#9c179e"
             ],
             [
              0.4444444444444444,
              "#bd3786"
             ],
             [
              0.5555555555555556,
              "#d8576b"
             ],
             [
              0.6666666666666666,
              "#ed7953"
             ],
             [
              0.7777777777777778,
              "#fb9f3a"
             ],
             [
              0.8888888888888888,
              "#fdca26"
             ],
             [
              1,
              "#f0f921"
             ]
            ],
            "type": "histogram2dcontour"
           }
          ],
          "mesh3d": [
           {
            "colorbar": {
             "outlinewidth": 0,
             "ticks": ""
            },
            "type": "mesh3d"
           }
          ],
          "parcoords": [
           {
            "line": {
             "colorbar": {
              "outlinewidth": 0,
              "ticks": ""
             }
            },
            "type": "parcoords"
           }
          ],
          "pie": [
           {
            "automargin": true,
            "type": "pie"
           }
          ],
          "scatter": [
           {
            "marker": {
             "colorbar": {
              "outlinewidth": 0,
              "ticks": ""
             }
            },
            "type": "scatter"
           }
          ],
          "scatter3d": [
           {
            "line": {
             "colorbar": {
              "outlinewidth": 0,
              "ticks": ""
             }
            },
            "marker": {
             "colorbar": {
              "outlinewidth": 0,
              "ticks": ""
             }
            },
            "type": "scatter3d"
           }
          ],
          "scattercarpet": [
           {
            "marker": {
             "colorbar": {
              "outlinewidth": 0,
              "ticks": ""
             }
            },
            "type": "scattercarpet"
           }
          ],
          "scattergeo": [
           {
            "marker": {
             "colorbar": {
              "outlinewidth": 0,
              "ticks": ""
             }
            },
            "type": "scattergeo"
           }
          ],
          "scattergl": [
           {
            "marker": {
             "colorbar": {
              "outlinewidth": 0,
              "ticks": ""
             }
            },
            "type": "scattergl"
           }
          ],
          "scattermapbox": [
           {
            "marker": {
             "colorbar": {
              "outlinewidth": 0,
              "ticks": ""
             }
            },
            "type": "scattermapbox"
           }
          ],
          "scatterpolar": [
           {
            "marker": {
             "colorbar": {
              "outlinewidth": 0,
              "ticks": ""
             }
            },
            "type": "scatterpolar"
           }
          ],
          "scatterpolargl": [
           {
            "marker": {
             "colorbar": {
              "outlinewidth": 0,
              "ticks": ""
             }
            },
            "type": "scatterpolargl"
           }
          ],
          "scatterternary": [
           {
            "marker": {
             "colorbar": {
              "outlinewidth": 0,
              "ticks": ""
             }
            },
            "type": "scatterternary"
           }
          ],
          "surface": [
           {
            "colorbar": {
             "outlinewidth": 0,
             "ticks": ""
            },
            "colorscale": [
             [
              0,
              "#0d0887"
             ],
             [
              0.1111111111111111,
              "#46039f"
             ],
             [
              0.2222222222222222,
              "#7201a8"
             ],
             [
              0.3333333333333333,
              "#9c179e"
             ],
             [
              0.4444444444444444,
              "#bd3786"
             ],
             [
              0.5555555555555556,
              "#d8576b"
             ],
             [
              0.6666666666666666,
              "#ed7953"
             ],
             [
              0.7777777777777778,
              "#fb9f3a"
             ],
             [
              0.8888888888888888,
              "#fdca26"
             ],
             [
              1,
              "#f0f921"
             ]
            ],
            "type": "surface"
           }
          ],
          "table": [
           {
            "cells": {
             "fill": {
              "color": "#EBF0F8"
             },
             "line": {
              "color": "white"
             }
            },
            "header": {
             "fill": {
              "color": "#C8D4E3"
             },
             "line": {
              "color": "white"
             }
            },
            "type": "table"
           }
          ]
         },
         "layout": {
          "annotationdefaults": {
           "arrowcolor": "#2a3f5f",
           "arrowhead": 0,
           "arrowwidth": 1
          },
          "autotypenumbers": "strict",
          "coloraxis": {
           "colorbar": {
            "outlinewidth": 0,
            "ticks": ""
           }
          },
          "colorscale": {
           "diverging": [
            [
             0,
             "#8e0152"
            ],
            [
             0.1,
             "#c51b7d"
            ],
            [
             0.2,
             "#de77ae"
            ],
            [
             0.3,
             "#f1b6da"
            ],
            [
             0.4,
             "#fde0ef"
            ],
            [
             0.5,
             "#f7f7f7"
            ],
            [
             0.6,
             "#e6f5d0"
            ],
            [
             0.7,
             "#b8e186"
            ],
            [
             0.8,
             "#7fbc41"
            ],
            [
             0.9,
             "#4d9221"
            ],
            [
             1,
             "#276419"
            ]
           ],
           "sequential": [
            [
             0,
             "#0d0887"
            ],
            [
             0.1111111111111111,
             "#46039f"
            ],
            [
             0.2222222222222222,
             "#7201a8"
            ],
            [
             0.3333333333333333,
             "#9c179e"
            ],
            [
             0.4444444444444444,
             "#bd3786"
            ],
            [
             0.5555555555555556,
             "#d8576b"
            ],
            [
             0.6666666666666666,
             "#ed7953"
            ],
            [
             0.7777777777777778,
             "#fb9f3a"
            ],
            [
             0.8888888888888888,
             "#fdca26"
            ],
            [
             1,
             "#f0f921"
            ]
           ],
           "sequentialminus": [
            [
             0,
             "#0d0887"
            ],
            [
             0.1111111111111111,
             "#46039f"
            ],
            [
             0.2222222222222222,
             "#7201a8"
            ],
            [
             0.3333333333333333,
             "#9c179e"
            ],
            [
             0.4444444444444444,
             "#bd3786"
            ],
            [
             0.5555555555555556,
             "#d8576b"
            ],
            [
             0.6666666666666666,
             "#ed7953"
            ],
            [
             0.7777777777777778,
             "#fb9f3a"
            ],
            [
             0.8888888888888888,
             "#fdca26"
            ],
            [
             1,
             "#f0f921"
            ]
           ]
          },
          "colorway": [
           "#636efa",
           "#EF553B",
           "#00cc96",
           "#ab63fa",
           "#FFA15A",
           "#19d3f3",
           "#FF6692",
           "#B6E880",
           "#FF97FF",
           "#FECB52"
          ],
          "font": {
           "color": "#2a3f5f"
          },
          "geo": {
           "bgcolor": "white",
           "lakecolor": "white",
           "landcolor": "#E5ECF6",
           "showlakes": true,
           "showland": true,
           "subunitcolor": "white"
          },
          "hoverlabel": {
           "align": "left"
          },
          "hovermode": "closest",
          "mapbox": {
           "style": "light"
          },
          "paper_bgcolor": "white",
          "plot_bgcolor": "#E5ECF6",
          "polar": {
           "angularaxis": {
            "gridcolor": "white",
            "linecolor": "white",
            "ticks": ""
           },
           "bgcolor": "#E5ECF6",
           "radialaxis": {
            "gridcolor": "white",
            "linecolor": "white",
            "ticks": ""
           }
          },
          "scene": {
           "xaxis": {
            "backgroundcolor": "#E5ECF6",
            "gridcolor": "white",
            "gridwidth": 2,
            "linecolor": "white",
            "showbackground": true,
            "ticks": "",
            "zerolinecolor": "white"
           },
           "yaxis": {
            "backgroundcolor": "#E5ECF6",
            "gridcolor": "white",
            "gridwidth": 2,
            "linecolor": "white",
            "showbackground": true,
            "ticks": "",
            "zerolinecolor": "white"
           },
           "zaxis": {
            "backgroundcolor": "#E5ECF6",
            "gridcolor": "white",
            "gridwidth": 2,
            "linecolor": "white",
            "showbackground": true,
            "ticks": "",
            "zerolinecolor": "white"
           }
          },
          "shapedefaults": {
           "line": {
            "color": "#2a3f5f"
           }
          },
          "ternary": {
           "aaxis": {
            "gridcolor": "white",
            "linecolor": "white",
            "ticks": ""
           },
           "baxis": {
            "gridcolor": "white",
            "linecolor": "white",
            "ticks": ""
           },
           "bgcolor": "#E5ECF6",
           "caxis": {
            "gridcolor": "white",
            "linecolor": "white",
            "ticks": ""
           }
          },
          "title": {
           "x": 0.05
          },
          "xaxis": {
           "automargin": true,
           "gridcolor": "white",
           "linecolor": "white",
           "ticks": "",
           "title": {
            "standoff": 15
           },
           "zerolinecolor": "white",
           "zerolinewidth": 2
          },
          "yaxis": {
           "automargin": true,
           "gridcolor": "white",
           "linecolor": "white",
           "ticks": "",
           "title": {
            "standoff": 15
           },
           "zerolinecolor": "white",
           "zerolinewidth": 2
          }
         }
        },
        "width": 800,
        "xaxis": {
         "title": {
          "text": "Time (s)"
         }
        },
        "yaxis": {
         "title": {
          "text": "Following Vehilce Speed (m/s)"
         }
        }
       }
      },
      "text/html": [
       "<div>                            <div id=\"c3239bdd-2f0b-4abb-83a3-80beda06bf74\" class=\"plotly-graph-div\" style=\"height:400px; width:800px;\"></div>            <script type=\"text/javascript\">                require([\"plotly\"], function(Plotly) {                    window.PLOTLYENV=window.PLOTLYENV || {};                                    if (document.getElementById(\"c3239bdd-2f0b-4abb-83a3-80beda06bf74\")) {                    Plotly.newPlot(                        \"c3239bdd-2f0b-4abb-83a3-80beda06bf74\",                        [{\"line\":{\"width\":3},\"mode\":\"lines\",\"name\":\"Observed\",\"opacity\":1,\"type\":\"scatter\",\"x\":[4.0,4.1,4.2,4.3,4.4,4.5,4.6,4.7,4.8,4.9,5.0,5.1,5.2,5.3,5.4,5.5,5.6,5.7,5.8,5.9,6.0,6.1,6.2,6.3,6.4,6.5,6.6,6.7,6.8,6.9,7.0,7.1,7.2,7.3,7.4,7.5,7.6,7.7,7.8,7.9,8.0,8.1,8.2,8.3,8.4,8.5,8.6,8.7,8.8,8.9,9.0,9.1,9.2,9.3,9.4,9.5,9.6,9.7,9.8,9.9,10.0,10.1,10.2,10.3,10.4,10.5,10.6,10.7,10.8,10.9,11.0,11.1,11.2,11.3,11.4,11.5,11.6,11.7,11.8,11.9,12.0,12.1,12.2,12.3,12.4,12.5,12.6,12.7,12.8,12.9,13.0,13.1,13.2,13.3,13.4,13.5,13.6,13.7,13.8,13.9,14.0,14.1,14.2,14.3,14.4,14.5,14.6,14.7,14.8,14.9],\"y\":[15.2361124,15.2361122,15.2282996,15.207466199999999,15.199653600000001,15.1944452,15.179254400000001,15.156685,15.1315113,15.0967889,15.0529519,15.014323300000001,14.974392700000003,14.928385800000003,14.8784727,14.8242193,14.761719300000003,14.677517900000002,14.5889762,14.493924100000001,14.392361500000002,14.287760800000001,14.200087200000002,14.083333800000002,13.960721050000004,13.832249050000001,13.715061650000003,13.609158850000002,13.525825450000001,13.441841000000002,13.340712400000001,13.225912000000001,13.10753095,13.002930250000002,12.91872885,12.871419850000002,12.825629950000002,12.771268000000001,12.722656900000002,12.673177700000002,12.6358513,12.5937505,12.5607644,12.522570100000001,12.4869797,12.4513893,12.416667100000002,12.368924,12.323785,12.273438000000002,12.2044277,12.148004100000001,12.0954867,12.031250500000002,11.964410100000002,11.898003800000001,11.836805900000002,11.7894969,11.7395837,11.6779517,11.620660099999998,11.5759553,11.53993105,11.529080450000002,11.53168475,11.53168475,11.51085145,11.484375800000002,11.4522578,11.4253481,11.404948800000001,11.3962682,11.384983400000001,11.3710944,11.3580735,11.3446186,11.330729700000001,11.319445,11.319445100000001,11.328125800000002,11.353733500000002,11.396268200000002,11.4379348,11.470052700000002,11.553385900000002,11.679688000000002,11.777344300000001,11.864149900000001,11.9874139,12.0694452,12.110243800000001,12.185330700000002,12.293837700000001,12.388455700000002,12.473091100000001,12.547743900000002,12.626736900000001,12.710938299999999,12.7903654,12.8780389,12.970052700000002,13.0481777,13.122830500000001,13.203559700000001,13.27973165,13.35525245,13.42513085,13.47895025,13.53233555,13.575087200000002]},{\"line\":{\"dash\":\"dash\",\"width\":2},\"marker\":{\"size\":3},\"mode\":\"lines+markers\",\"name\":\"IDM, MSE: 1.15\",\"opacity\":1,\"type\":\"scatter\",\"x\":[4.0,4.1,4.2,4.3,4.4,4.5,4.6,4.7,4.8,4.9,5.0,5.1,5.2,5.3,5.4,5.5,5.6,5.7,5.8,5.9,6.0,6.1,6.2,6.3,6.4,6.5,6.6,6.7,6.8,6.9,7.0,7.1,7.2,7.3,7.4,7.5,7.6,7.7,7.8,7.9,8.0,8.1,8.2,8.3,8.4,8.5,8.6,8.7,8.8,8.9,9.0,9.1,9.2,9.3,9.4,9.5,9.6,9.7,9.8,9.9,10.0,10.1,10.2,10.3,10.4,10.5,10.6,10.7,10.8,10.9,11.0,11.1,11.2,11.3,11.4,11.5,11.6,11.7,11.8,11.9,12.0,12.1,12.2,12.3,12.4,12.5,12.6,12.7,12.8,12.9,13.0,13.1,13.2,13.3,13.4,13.5,13.6,13.7,13.8,13.9,14.0,14.1,14.2,14.3,14.4,14.5,14.6,14.7,14.8,14.9],\"y\":[14.540472506309175,14.10803801122431,13.801650973703934,13.573001544680663,13.39272312071384,13.248832983720021,13.13198962412066,13.034002778675585,12.949595344680045,12.875638156812634,12.808798947930429,12.746558362293461,12.691562051000485,12.645005258864266,12.604691951759447,12.569149770806606,12.537137205899525,12.50717324160127,12.476432988239447,12.446838047305695,12.419785831888387,12.400880373343131,12.38641854017486,12.377533679549343,12.372541225235604,12.368404686610152,12.360470890161073,12.352231028553813,12.346818409461852,12.344132542646397,12.345658332299799,12.34930249501224,12.353588866596612,12.356307895851977,12.357015417207789,12.357765446055472,12.360088074473827,12.362146341297398,12.361351449905507,12.358459299828526,12.353560960467227,12.347974185229605,12.34130749250727,12.334518416609361,12.327121796918874,12.317516189290206,12.30588962520868,12.293472426724676,12.280042775564523,12.267878370911879,12.258240680380098,12.250964499971913,12.246020523730989,12.242601968550968,12.237694723669687,12.227481925222135,12.210423660220789,12.185468294781215,12.154590415731091,12.117991523149204,12.074883099298987,12.028554650092081,11.982963080734763,11.941148460072831,11.905292523799597,11.878000786816585,11.855843500477988,11.836164228089894,11.820046632479274,11.808403556749688,11.801167709799216,11.800118533670723,11.80544380482535,11.814549646683421,11.825259065598212,11.839024421728931,11.855497002751262,11.87437365282024,11.89489296133233,11.918390082332818,11.943801177063284,11.972066674884998,12.003970148196359,12.037248986769553,12.069987829359317,12.104720132103933,12.14143815456749,12.178329548245568,12.213590167466661,12.247672487096171,12.277499233256869,12.301752911008688,12.321489589433138,12.341972983901682,12.362198941489105,12.381499163024223,12.397837936099794,12.411666216530865,12.422029121012118,12.430241494544102,12.43629890335628,12.439896311909793,12.440087778418885,12.431843480467034,12.417722359632682,12.396743278076409,12.370160086183953,12.337813286120898,12.306271384498038,12.275409512161712]},{\"line\":{\"dash\":\"dashdot\",\"width\":3},\"name\":\"Transfollower, MSE: 0.28\",\"opacity\":1,\"type\":\"scatter\",\"x\":[4.0,4.1,4.2,4.3,4.4,4.5,4.6,4.7,4.8,4.9,5.0,5.1,5.2,5.3,5.4,5.5,5.6,5.7,5.8,5.9,6.0,6.1,6.2,6.3,6.4,6.5,6.6,6.7,6.8,6.9,7.0,7.1,7.2,7.3,7.4,7.5,7.6,7.7,7.8,7.9,8.0,8.1,8.2,8.3,8.4,8.5,8.6,8.7,8.8,8.9,9.0,9.1,9.2,9.3,9.4,9.5,9.6,9.7,9.8,9.9,10.0,10.1,10.2,10.3,10.4,10.5,10.6,10.7,10.8,10.9,11.0,11.1,11.2,11.3,11.4,11.5,11.6,11.7,11.8,11.9,12.0,12.1,12.2,12.3,12.4,12.5,12.6,12.7,12.8,12.9,13.0,13.1,13.2,13.3,13.4,13.5,13.6,13.7,13.8,13.9,14.0,14.1,14.2,14.3,14.4,14.5,14.6,14.7,14.8,14.9],\"y\":[15.285528182983398,15.186784744262695,15.17685604095459,15.11823558807373,15.084601402282715,15.032064437866211,15.002315521240234,14.937843322753906,14.898980140686035,14.823214530944824,14.777746200561523,14.707114219665527,14.602707862854004,14.548847198486328,14.493310928344727,14.434074401855469,14.376220703125,14.25278377532959,14.21847915649414,14.153890609741211,14.126659393310547,14.096121788024902,14.0384521484375,13.991981506347656,13.980278015136719,13.878697395324707,13.795952796936035,13.778308868408203,13.749079704284668,13.694938659667969,13.724273681640625,13.65214729309082,13.619603157043457,13.537429809570312,13.456470489501953,13.461690902709961,13.395195007324219,13.33079719543457,13.23462200164795,13.154016494750977,13.10960865020752,13.027999877929688,12.970136642456055,12.898892402648926,12.8287935256958,12.75648307800293,12.692366600036621,12.651409149169922,12.611014366149902,12.556644439697266,12.545161247253418,12.500065803527832,12.476278305053711,12.415315628051758,12.353144645690918,12.211121559143066,12.130790710449219,12.039891242980957,11.925654411315918,11.827683448791504,11.744229316711426,11.649717330932617,11.645204544067383,11.616432189941406,11.610457420349121,11.586755752563477,11.548566818237305,11.540179252624512,11.521206855773926,11.535024642944336,11.518248558044434,11.5767822265625,11.623343467712402,11.637802124023438,11.654403686523438,11.689592361450195,11.739189147949219,11.776900291442871,11.834007263183594,11.919462203979492,11.909004211425781,12.003482818603516,12.02442455291748,12.080219268798828,12.165875434875488,12.186471939086914,12.2244291305542,12.249068260192871,12.27287483215332,12.24658203125,12.204858779907227,12.17298698425293,12.183486938476562,12.213346481323242,12.216902732849121,12.208627700805664,12.217660903930664,12.16928768157959,12.19984245300293,12.158744812011719,12.17000675201416,12.119739532470703,12.092731475830078,12.052090644836426,12.00801944732666,11.895532608032227,11.875876426696777,11.808542251586914,11.825638771057129,11.813037872314453]},{\"line\":{\"dash\":\"dash\",\"width\":2},\"name\":\"LSTM, MSE: 0.37\",\"opacity\":1,\"type\":\"scatter\",\"x\":[4.0,4.1,4.2,4.3,4.4,4.5,4.6,4.7,4.8,4.9,5.0,5.1,5.2,5.3,5.4,5.5,5.6,5.7,5.8,5.9,6.0,6.1,6.2,6.3,6.4,6.5,6.6,6.7,6.8,6.9,7.0,7.1,7.2,7.3,7.4,7.5,7.6,7.7,7.8,7.9,8.0,8.1,8.2,8.3,8.4,8.5,8.6,8.7,8.8,8.9,9.0,9.1,9.2,9.3,9.4,9.5,9.6,9.7,9.8,9.9,10.0,10.1,10.2,10.3,10.4,10.5,10.6,10.7,10.8,10.9,11.0,11.1,11.2,11.3,11.4,11.5,11.6,11.7,11.8,11.9,12.0,12.1,12.2,12.3,12.4,12.5,12.6,12.7,12.8,12.9,13.0,13.1,13.2,13.3,13.4,13.5,13.6,13.7,13.8,13.9,14.0,14.1,14.2,14.3,14.4,14.5,14.6,14.7,14.8,14.9],\"y\":[15.697771072387695,15.443851470947266,15.242083549499512,15.078227996826172,14.94204044342041,14.825627326965332,14.722612380981445,14.628487586975098,14.540371894836426,14.455855369567871,14.373115539550781,14.29310131072998,14.216877937316895,14.143875122070312,14.073444366455078,14.00490951538086,13.937393188476562,13.869131088256836,13.8009672164917,13.734029769897461,13.672327041625977,13.614717483520508,13.56205940246582,13.513526916503906,13.466897964477539,13.418411254882812,13.369765281677246,13.323562622070312,13.280498504638672,13.242060661315918,13.207069396972656,13.17417049407959,13.14128303527832,13.107589721679688,13.07448673248291,13.043475151062012,13.013481140136719,12.982274055480957,12.949958801269531,12.916563987731934,12.883116722106934,12.849531173706055,12.816539764404297,12.783886909484863,12.750279426574707,12.715557098388672,12.68054485321045,12.645224571228027,12.611310958862305,12.580116271972656,12.551833152770996,12.52649211883545,12.503413200378418,12.47995662689209,12.45251178741455,12.419205665588379,12.378989219665527,12.333236694335938,12.28250789642334,12.226566314697266,12.167642593383789,12.108821868896484,12.052875518798828,12.002049446105957,11.958877563476562,11.92159366607666,11.887872695922852,11.857902526855469,11.83232593536377,11.81126594543457,11.796319007873535,11.788142204284668,11.784701347351074,11.783571243286133,11.785517692565918,11.790308952331543,11.797666549682617,11.806804656982422,11.818967819213867,11.833322525024414,11.850807189941406,11.872547149658203,11.89622688293457,11.919159889221191,11.943774223327637,11.97053337097168,11.997408866882324,12.0218505859375,12.043996810913086,12.060370445251465,12.069343566894531,12.072221755981445,12.075054168701172,12.078165054321289,12.081165313720703,12.081904411315918,12.080458641052246,12.07590103149414,12.069419860839844,12.061275482177734,12.051315307617188,12.038702964782715,12.018967628479004,11.993695259094238,11.96247673034668,11.926480293273926,11.885948181152344,11.845958709716797,11.80742359161377,11.772666931152344]},{\"line\":{\"dash\":\"dot\",\"width\":2},\"name\":\"NN, MSE: 1.37\",\"opacity\":1,\"type\":\"scatter\",\"x\":[4.0,4.1,4.2,4.3,4.4,4.5,4.6,4.7,4.8,4.9,5.0,5.1,5.2,5.3,5.4,5.5,5.6,5.7,5.8,5.9,6.0,6.1,6.2,6.3,6.4,6.5,6.6,6.7,6.8,6.9,7.0,7.1,7.2,7.3,7.4,7.5,7.6,7.7,7.8,7.9,8.0,8.1,8.2,8.3,8.4,8.5,8.6,8.7,8.8,8.9,9.0,9.1,9.2,9.3,9.4,9.5,9.6,9.7,9.8,9.9,10.0,10.1,10.2,10.3,10.4,10.5,10.6,10.7,10.8,10.9,11.0,11.1,11.2,11.3,11.4,11.5,11.6,11.7,11.8,11.9,12.0,12.1,12.2,12.3,12.4,12.5,12.6,12.7,12.8,12.9,13.0,13.1,13.2,13.3,13.4,13.5,13.6,13.7,13.8,13.9,14.0,14.1,14.2,14.3,14.4,14.5,14.6,14.7,14.8,14.9],\"y\":[13.240964889526367,13.229501724243164,13.225022315979004,13.213079452514648,13.208597183227539,13.20561408996582,13.196904182434082,13.1839599609375,13.16952133178711,13.1496000289917,13.1244535446167,13.113761901855469,13.113798141479492,13.11035442352295,13.10466194152832,13.096964836120605,13.08570384979248,13.063512802124023,13.050643920898438,13.043858528137207,13.061187744140625,13.068464279174805,13.084877014160156,13.096527099609375,13.095222473144531,13.0707426071167,13.062405586242676,13.069174766540527,13.077638626098633,13.095780372619629,13.105947494506836,13.10893440246582,13.098617553710938,13.086309432983398,13.084188461303711,13.090570449829102,13.087663650512695,13.070246696472168,13.056814193725586,13.043519020080566,13.035703659057617,13.025737762451172,13.01988410949707,13.011676788330078,12.995624542236328,12.979565620422363,12.968411445617676,12.955891609191895,12.953575134277344,12.957929611206055,12.962892532348633,12.969014167785645,12.972391128540039,12.961456298828125,12.931294441223145,12.892298698425293,12.83707332611084,12.781882286071777,12.725030899047852,12.660761833190918,12.61203384399414,12.584371566772461,12.574461936950684,12.580123901367188,12.606478691101074,12.61884880065918,12.618337631225586,12.626880645751953,12.644513130187988,12.665440559387207,12.703131675720215,12.7482271194458,12.779026985168457,12.795536041259766,12.825231552124023,12.854649543762207,12.879987716674805,12.897462844848633,12.924539566040039,12.946508407592773,12.976113319396973,13.01334285736084,13.036645889282227,13.046621322631836,13.076399803161621,13.111101150512695,13.132708549499512,13.136613845825195,13.144224166870117,13.122438430786133,13.089978218078613,13.067232131958008,13.081707000732422,13.089085578918457,13.091407775878906,13.078612327575684,13.067943572998047,13.051530838012695,13.042250633239746,13.032182693481445,13.019562721252441,13.000669479370117,12.953142166137695,12.917374610900879,12.87502384185791,12.823450088500977,12.76647663116455,12.749926567077637,12.733098983764648,12.734835624694824]}],                        {\"height\":400,\"legend\":{\"orientation\":\"h\",\"x\":0,\"xanchor\":\"left\",\"y\":1.02,\"yanchor\":\"bottom\"},\"margin\":{\"b\":0,\"l\":0,\"r\":0,\"t\":0},\"template\":{\"data\":{\"bar\":[{\"error_x\":{\"color\":\"#2a3f5f\"},\"error_y\":{\"color\":\"#2a3f5f\"},\"marker\":{\"line\":{\"color\":\"#E5ECF6\",\"width\":0.5},\"pattern\":{\"fillmode\":\"overlay\",\"size\":10,\"solidity\":0.2}},\"type\":\"bar\"}],\"barpolar\":[{\"marker\":{\"line\":{\"color\":\"#E5ECF6\",\"width\":0.5},\"pattern\":{\"fillmode\":\"overlay\",\"size\":10,\"solidity\":0.2}},\"type\":\"barpolar\"}],\"carpet\":[{\"aaxis\":{\"endlinecolor\":\"#2a3f5f\",\"gridcolor\":\"white\",\"linecolor\":\"white\",\"minorgridcolor\":\"white\",\"startlinecolor\":\"#2a3f5f\"},\"baxis\":{\"endlinecolor\":\"#2a3f5f\",\"gridcolor\":\"white\",\"linecolor\":\"white\",\"minorgridcolor\":\"white\",\"startlinecolor\":\"#2a3f5f\"},\"type\":\"carpet\"}],\"choropleth\":[{\"colorbar\":{\"outlinewidth\":0,\"ticks\":\"\"},\"type\":\"choropleth\"}],\"contour\":[{\"colorbar\":{\"outlinewidth\":0,\"ticks\":\"\"},\"colorscale\":[[0.0,\"#0d0887\"],[0.1111111111111111,\"#46039f\"],[0.2222222222222222,\"#7201a8\"],[0.3333333333333333,\"#9c179e\"],[0.4444444444444444,\"#bd3786\"],[0.5555555555555556,\"#d8576b\"],[0.6666666666666666,\"#ed7953\"],[0.7777777777777778,\"#fb9f3a\"],[0.8888888888888888,\"#fdca26\"],[1.0,\"#f0f921\"]],\"type\":\"contour\"}],\"contourcarpet\":[{\"colorbar\":{\"outlinewidth\":0,\"ticks\":\"\"},\"type\":\"contourcarpet\"}],\"heatmap\":[{\"colorbar\":{\"outlinewidth\":0,\"ticks\":\"\"},\"colorscale\":[[0.0,\"#0d0887\"],[0.1111111111111111,\"#46039f\"],[0.2222222222222222,\"#7201a8\"],[0.3333333333333333,\"#9c179e\"],[0.4444444444444444,\"#bd3786\"],[0.5555555555555556,\"#d8576b\"],[0.6666666666666666,\"#ed7953\"],[0.7777777777777778,\"#fb9f3a\"],[0.8888888888888888,\"#fdca26\"],[1.0,\"#f0f921\"]],\"type\":\"heatmap\"}],\"heatmapgl\":[{\"colorbar\":{\"outlinewidth\":0,\"ticks\":\"\"},\"colorscale\":[[0.0,\"#0d0887\"],[0.1111111111111111,\"#46039f\"],[0.2222222222222222,\"#7201a8\"],[0.3333333333333333,\"#9c179e\"],[0.4444444444444444,\"#bd3786\"],[0.5555555555555556,\"#d8576b\"],[0.6666666666666666,\"#ed7953\"],[0.7777777777777778,\"#fb9f3a\"],[0.8888888888888888,\"#fdca26\"],[1.0,\"#f0f921\"]],\"type\":\"heatmapgl\"}],\"histogram\":[{\"marker\":{\"pattern\":{\"fillmode\":\"overlay\",\"size\":10,\"solidity\":0.2}},\"type\":\"histogram\"}],\"histogram2d\":[{\"colorbar\":{\"outlinewidth\":0,\"ticks\":\"\"},\"colorscale\":[[0.0,\"#0d0887\"],[0.1111111111111111,\"#46039f\"],[0.2222222222222222,\"#7201a8\"],[0.3333333333333333,\"#9c179e\"],[0.4444444444444444,\"#bd3786\"],[0.5555555555555556,\"#d8576b\"],[0.6666666666666666,\"#ed7953\"],[0.7777777777777778,\"#fb9f3a\"],[0.8888888888888888,\"#fdca26\"],[1.0,\"#f0f921\"]],\"type\":\"histogram2d\"}],\"histogram2dcontour\":[{\"colorbar\":{\"outlinewidth\":0,\"ticks\":\"\"},\"colorscale\":[[0.0,\"#0d0887\"],[0.1111111111111111,\"#46039f\"],[0.2222222222222222,\"#7201a8\"],[0.3333333333333333,\"#9c179e\"],[0.4444444444444444,\"#bd3786\"],[0.5555555555555556,\"#d8576b\"],[0.6666666666666666,\"#ed7953\"],[0.7777777777777778,\"#fb9f3a\"],[0.8888888888888888,\"#fdca26\"],[1.0,\"#f0f921\"]],\"type\":\"histogram2dcontour\"}],\"mesh3d\":[{\"colorbar\":{\"outlinewidth\":0,\"ticks\":\"\"},\"type\":\"mesh3d\"}],\"parcoords\":[{\"line\":{\"colorbar\":{\"outlinewidth\":0,\"ticks\":\"\"}},\"type\":\"parcoords\"}],\"pie\":[{\"automargin\":true,\"type\":\"pie\"}],\"scatter\":[{\"marker\":{\"colorbar\":{\"outlinewidth\":0,\"ticks\":\"\"}},\"type\":\"scatter\"}],\"scatter3d\":[{\"line\":{\"colorbar\":{\"outlinewidth\":0,\"ticks\":\"\"}},\"marker\":{\"colorbar\":{\"outlinewidth\":0,\"ticks\":\"\"}},\"type\":\"scatter3d\"}],\"scattercarpet\":[{\"marker\":{\"colorbar\":{\"outlinewidth\":0,\"ticks\":\"\"}},\"type\":\"scattercarpet\"}],\"scattergeo\":[{\"marker\":{\"colorbar\":{\"outlinewidth\":0,\"ticks\":\"\"}},\"type\":\"scattergeo\"}],\"scattergl\":[{\"marker\":{\"colorbar\":{\"outlinewidth\":0,\"ticks\":\"\"}},\"type\":\"scattergl\"}],\"scattermapbox\":[{\"marker\":{\"colorbar\":{\"outlinewidth\":0,\"ticks\":\"\"}},\"type\":\"scattermapbox\"}],\"scatterpolar\":[{\"marker\":{\"colorbar\":{\"outlinewidth\":0,\"ticks\":\"\"}},\"type\":\"scatterpolar\"}],\"scatterpolargl\":[{\"marker\":{\"colorbar\":{\"outlinewidth\":0,\"ticks\":\"\"}},\"type\":\"scatterpolargl\"}],\"scatterternary\":[{\"marker\":{\"colorbar\":{\"outlinewidth\":0,\"ticks\":\"\"}},\"type\":\"scatterternary\"}],\"surface\":[{\"colorbar\":{\"outlinewidth\":0,\"ticks\":\"\"},\"colorscale\":[[0.0,\"#0d0887\"],[0.1111111111111111,\"#46039f\"],[0.2222222222222222,\"#7201a8\"],[0.3333333333333333,\"#9c179e\"],[0.4444444444444444,\"#bd3786\"],[0.5555555555555556,\"#d8576b\"],[0.6666666666666666,\"#ed7953\"],[0.7777777777777778,\"#fb9f3a\"],[0.8888888888888888,\"#fdca26\"],[1.0,\"#f0f921\"]],\"type\":\"surface\"}],\"table\":[{\"cells\":{\"fill\":{\"color\":\"#EBF0F8\"},\"line\":{\"color\":\"white\"}},\"header\":{\"fill\":{\"color\":\"#C8D4E3\"},\"line\":{\"color\":\"white\"}},\"type\":\"table\"}]},\"layout\":{\"annotationdefaults\":{\"arrowcolor\":\"#2a3f5f\",\"arrowhead\":0,\"arrowwidth\":1},\"autotypenumbers\":\"strict\",\"coloraxis\":{\"colorbar\":{\"outlinewidth\":0,\"ticks\":\"\"}},\"colorscale\":{\"diverging\":[[0,\"#8e0152\"],[0.1,\"#c51b7d\"],[0.2,\"#de77ae\"],[0.3,\"#f1b6da\"],[0.4,\"#fde0ef\"],[0.5,\"#f7f7f7\"],[0.6,\"#e6f5d0\"],[0.7,\"#b8e186\"],[0.8,\"#7fbc41\"],[0.9,\"#4d9221\"],[1,\"#276419\"]],\"sequential\":[[0.0,\"#0d0887\"],[0.1111111111111111,\"#46039f\"],[0.2222222222222222,\"#7201a8\"],[0.3333333333333333,\"#9c179e\"],[0.4444444444444444,\"#bd3786\"],[0.5555555555555556,\"#d8576b\"],[0.6666666666666666,\"#ed7953\"],[0.7777777777777778,\"#fb9f3a\"],[0.8888888888888888,\"#fdca26\"],[1.0,\"#f0f921\"]],\"sequentialminus\":[[0.0,\"#0d0887\"],[0.1111111111111111,\"#46039f\"],[0.2222222222222222,\"#7201a8\"],[0.3333333333333333,\"#9c179e\"],[0.4444444444444444,\"#bd3786\"],[0.5555555555555556,\"#d8576b\"],[0.6666666666666666,\"#ed7953\"],[0.7777777777777778,\"#fb9f3a\"],[0.8888888888888888,\"#fdca26\"],[1.0,\"#f0f921\"]]},\"colorway\":[\"#636efa\",\"#EF553B\",\"#00cc96\",\"#ab63fa\",\"#FFA15A\",\"#19d3f3\",\"#FF6692\",\"#B6E880\",\"#FF97FF\",\"#FECB52\"],\"font\":{\"color\":\"#2a3f5f\"},\"geo\":{\"bgcolor\":\"white\",\"lakecolor\":\"white\",\"landcolor\":\"#E5ECF6\",\"showlakes\":true,\"showland\":true,\"subunitcolor\":\"white\"},\"hoverlabel\":{\"align\":\"left\"},\"hovermode\":\"closest\",\"mapbox\":{\"style\":\"light\"},\"paper_bgcolor\":\"white\",\"plot_bgcolor\":\"#E5ECF6\",\"polar\":{\"angularaxis\":{\"gridcolor\":\"white\",\"linecolor\":\"white\",\"ticks\":\"\"},\"bgcolor\":\"#E5ECF6\",\"radialaxis\":{\"gridcolor\":\"white\",\"linecolor\":\"white\",\"ticks\":\"\"}},\"scene\":{\"xaxis\":{\"backgroundcolor\":\"#E5ECF6\",\"gridcolor\":\"white\",\"gridwidth\":2,\"linecolor\":\"white\",\"showbackground\":true,\"ticks\":\"\",\"zerolinecolor\":\"white\"},\"yaxis\":{\"backgroundcolor\":\"#E5ECF6\",\"gridcolor\":\"white\",\"gridwidth\":2,\"linecolor\":\"white\",\"showbackground\":true,\"ticks\":\"\",\"zerolinecolor\":\"white\"},\"zaxis\":{\"backgroundcolor\":\"#E5ECF6\",\"gridcolor\":\"white\",\"gridwidth\":2,\"linecolor\":\"white\",\"showbackground\":true,\"ticks\":\"\",\"zerolinecolor\":\"white\"}},\"shapedefaults\":{\"line\":{\"color\":\"#2a3f5f\"}},\"ternary\":{\"aaxis\":{\"gridcolor\":\"white\",\"linecolor\":\"white\",\"ticks\":\"\"},\"baxis\":{\"gridcolor\":\"white\",\"linecolor\":\"white\",\"ticks\":\"\"},\"bgcolor\":\"#E5ECF6\",\"caxis\":{\"gridcolor\":\"white\",\"linecolor\":\"white\",\"ticks\":\"\"}},\"title\":{\"x\":0.05},\"xaxis\":{\"automargin\":true,\"gridcolor\":\"white\",\"linecolor\":\"white\",\"ticks\":\"\",\"title\":{\"standoff\":15},\"zerolinecolor\":\"white\",\"zerolinewidth\":2},\"yaxis\":{\"automargin\":true,\"gridcolor\":\"white\",\"linecolor\":\"white\",\"ticks\":\"\",\"title\":{\"standoff\":15},\"zerolinecolor\":\"white\",\"zerolinewidth\":2}}},\"width\":800,\"xaxis\":{\"title\":{\"text\":\"Time (s)\"}},\"yaxis\":{\"title\":{\"text\":\"Following Vehilce Speed (m/s)\"}}},                        {\"responsive\": true}                    ).then(function(){\n",
       "                            \n",
       "var gd = document.getElementById('c3239bdd-2f0b-4abb-83a3-80beda06bf74');\n",
       "var x = new MutationObserver(function (mutations, observer) {{\n",
       "        var display = window.getComputedStyle(gd).display;\n",
       "        if (!display || display === 'none') {{\n",
       "            console.log([gd, 'removed!']);\n",
       "            Plotly.purge(gd);\n",
       "            observer.disconnect();\n",
       "        }}\n",
       "}});\n",
       "\n",
       "// Listen for the removal of the full notebook cells\n",
       "var notebookContainer = gd.closest('#notebook-container');\n",
       "if (notebookContainer) {{\n",
       "    x.observe(notebookContainer, {childList: true});\n",
       "}}\n",
       "\n",
       "// Listen for the clearing of the current output cell\n",
       "var outputEl = gd.closest('.output');\n",
       "if (outputEl) {{\n",
       "    x.observe(outputEl, {childList: true});\n",
       "}}\n",
       "\n",
       "                        })                };                });            </script>        </div>"
      ]
     },
     "metadata": {},
     "output_type": "display_data"
    },
    {
     "data": {
      "application/vnd.plotly.v1+json": {
       "config": {
        "plotlyServerURL": "https://plot.ly"
       },
       "data": [
        {
         "line": {
          "width": 3
         },
         "mode": "lines",
         "name": "Observed",
         "opacity": 1,
         "type": "scatter",
         "x": [
          4,
          4.1,
          4.2,
          4.3,
          4.4,
          4.5,
          4.6,
          4.7,
          4.8,
          4.9,
          5,
          5.1,
          5.2,
          5.3,
          5.4,
          5.5,
          5.6,
          5.7,
          5.8,
          5.9,
          6,
          6.1,
          6.2,
          6.3,
          6.4,
          6.5,
          6.6,
          6.7,
          6.8,
          6.9,
          7,
          7.1,
          7.2,
          7.3,
          7.4,
          7.5,
          7.6,
          7.7,
          7.8,
          7.9,
          8,
          8.1,
          8.2,
          8.3,
          8.4,
          8.5,
          8.6,
          8.7,
          8.8,
          8.9,
          9,
          9.1,
          9.2,
          9.3,
          9.4,
          9.5,
          9.6,
          9.7,
          9.8,
          9.9,
          10,
          10.1,
          10.2,
          10.3,
          10.4,
          10.5,
          10.6,
          10.7,
          10.8,
          10.9,
          11,
          11.1,
          11.2,
          11.3,
          11.4,
          11.5,
          11.6,
          11.7,
          11.8,
          11.9,
          12,
          12.1,
          12.2,
          12.3,
          12.4,
          12.5,
          12.6,
          12.7,
          12.8,
          12.9,
          13,
          13.1,
          13.2,
          13.3,
          13.4,
          13.5,
          13.6,
          13.7,
          13.8,
          13.9,
          14,
          14.1,
          14.2,
          14.3,
          14.4,
          14.5,
          14.6,
          14.7,
          14.8,
          14.9
         ],
         "y": [
          11.8528002,
          11.6160002,
          11.379200200000001,
          11.180800000000001,
          10.976000200000001,
          10.7328004,
          10.5280006,
          10.291200600000002,
          10.054400600000001,
          9.8176004,
          9.6192002,
          9.3888,
          9.1904002,
          8.9600002,
          8.742400400000001,
          8.5248006,
          8.345600800000001,
          8.147200600000001,
          7.9872006,
          7.8400006,
          7.660800399999999,
          7.4880002,
          7.3536004,
          7.212800400000001,
          7.072000200000001,
          6.982400200000001,
          6.899200200000001,
          6.8096000000000005,
          6.745600200000001,
          6.688000200000001,
          6.6304002,
          6.5856002,
          6.5664002,
          6.5536,
          6.547200000000001,
          6.553600000000001,
          6.5600000000000005,
          6.5664,
          6.572800000000001,
          6.5856002,
          6.5984004,
          6.617600400000001,
          6.6048004,
          6.5984004,
          6.5664002,
          6.5408,
          6.499200000000001,
          6.4736,
          6.448000000000001,
          6.460800000000001,
          6.473600000000001,
          6.5024000000000015,
          6.5536,
          6.611200000000001,
          6.6432,
          6.6752,
          6.694400000000001,
          6.688000200000001,
          6.675200200000001,
          6.681600200000001,
          6.688000200000001,
          6.713600200000001,
          6.7584002000000005,
          6.8096002,
          6.854400200000001,
          6.9120002000000005,
          6.969600400000001,
          7.046400200000001,
          7.1232002,
          7.206400200000001,
          7.2832002000000005,
          7.3728002,
          7.456000200000001,
          7.539200200000001,
          7.6416002,
          7.7504002000000005,
          7.8528,
          7.9648,
          8.0928,
          8.214400000000001,
          8.336000000000002,
          8.496000000000002,
          8.646400000000002,
          8.7936001,
          8.940800300000001,
          9.088000300000001,
          9.1904003,
          9.299200500000001,
          9.3952006,
          9.4784006,
          9.5616008,
          9.657601,
          9.734400800000001,
          9.8112008,
          9.8816006,
          9.9328004,
          9.9584002,
          9.977600200000001,
          9.977600200000001,
          9.9616004,
          9.9360006,
          9.9104008,
          9.8528008,
          9.795200800000002,
          9.7280008,
          9.6512006,
          9.542400400000002,
          9.4400004,
          9.3248002,
          9.1968
         ]
        },
        {
         "line": {
          "dash": "dash",
          "width": 2
         },
         "marker": {
          "size": 3
         },
         "mode": "lines+markers",
         "name": "IDM, MSE: 24.08",
         "opacity": 1,
         "type": "scatter",
         "x": [
          4,
          4.1,
          4.2,
          4.3,
          4.4,
          4.5,
          4.6,
          4.7,
          4.8,
          4.9,
          5,
          5.1,
          5.2,
          5.3,
          5.4,
          5.5,
          5.6,
          5.7,
          5.8,
          5.9,
          6,
          6.1,
          6.2,
          6.3,
          6.4,
          6.5,
          6.6,
          6.7,
          6.8,
          6.9,
          7,
          7.1,
          7.2,
          7.3,
          7.4,
          7.5,
          7.6,
          7.7,
          7.8,
          7.9,
          8,
          8.1,
          8.2,
          8.3,
          8.4,
          8.5,
          8.6,
          8.7,
          8.8,
          8.9,
          9,
          9.1,
          9.2,
          9.3,
          9.4,
          9.5,
          9.6,
          9.7,
          9.8,
          9.9,
          10,
          10.1,
          10.2,
          10.3,
          10.4,
          10.5,
          10.6,
          10.7,
          10.8,
          10.9,
          11,
          11.1,
          11.2,
          11.3,
          11.4,
          11.5,
          11.6,
          11.7,
          11.8,
          11.9,
          12,
          12.1,
          12.2,
          12.3,
          12.4,
          12.5,
          12.6,
          12.7,
          12.8,
          12.9,
          13,
          13.1,
          13.2,
          13.3,
          13.4,
          13.5,
          13.6,
          13.7,
          13.8,
          13.9,
          14,
          14.1,
          14.2,
          14.3,
          14.4,
          14.5,
          14.6,
          14.7,
          14.8,
          14.9
         ],
         "y": [
          11.868982394684542,
          11.741168098807869,
          11.648904239561457,
          11.581959903642227,
          11.534029660372502,
          11.50165679515081,
          11.481300644758775,
          11.469797994618963,
          11.465027903451182,
          11.465181238376548,
          11.468446423139396,
          11.475042317628201,
          11.486572096963505,
          11.502882656470268,
          11.522740720939083,
          11.54518323481078,
          11.569165815975474,
          11.592912153600434,
          11.616056547108398,
          11.640038010331141,
          11.668021096371437,
          11.700993901109861,
          11.738021355433961,
          11.778994794447751,
          11.821693791708505,
          11.862295001116218,
          11.900216757277656,
          11.938792686341912,
          11.979589429441129,
          12.023425204335716,
          12.070063330588406,
          12.117646509222803,
          12.16417408864236,
          12.208202310519932,
          12.250619099866944,
          12.29338749170378,
          12.336347305677316,
          12.377080482388756,
          12.414601837828611,
          12.449403030341909,
          12.482253467327121,
          12.513656800042279,
          12.543918461155435,
          12.573293890699604,
          12.600689370023193,
          12.62537592071274,
          12.648108449987795,
          12.669419902391127,
          12.690379592276667,
          12.712844684952847,
          12.737432017388247,
          12.764093348370647,
          12.792418637185502,
          12.820324372571404,
          12.844092567960372,
          12.86095443051578,
          12.869799636243634,
          12.871320178493534,
          12.866771272967918,
          12.856018946023903,
          12.840305804901494,
          12.82296468743194,
          12.807183118390597,
          12.795428116350218,
          12.790144327156597,
          12.791148136625788,
          12.795582732261058,
          12.802743708332665,
          12.813764845304206,
          12.829222630842757,
          12.850258912515311,
          12.878255450341815,
          12.912039913417011,
          12.948844130841573,
          12.988312090227492,
          13.031232520861135,
          13.077273864637124,
          13.12578906685855,
          13.177270241150921,
          13.231984633967665,
          13.28996803599786,
          13.352674728400446,
          13.419083037246379,
          13.485921455498083,
          13.55373154469164,
          13.624649841618478,
          13.697193542284907,
          13.768279867144255,
          13.836762071358644,
          13.900541893630502,
          13.95626775761285,
          14.004083875399571,
          14.04888017037748,
          14.093821711710738,
          14.137690455441199,
          14.178547300215532,
          14.215304485259331,
          14.247713037627799,
          14.27609345575065,
          14.301400139972838,
          14.323477700077818,
          14.341579459314515,
          14.35213066479808,
          14.353853611853784,
          14.348039887348799,
          14.335065810463345,
          14.315739807250326,
          14.293545193635083,
          14.271905250104137,
          14.25219234277115
         ]
        },
        {
         "line": {
          "dash": "dashdot",
          "width": 3
         },
         "name": "Transfollower, MSE: 0.8",
         "opacity": 1,
         "type": "scatter",
         "x": [
          4,
          4.1,
          4.2,
          4.3,
          4.4,
          4.5,
          4.6,
          4.7,
          4.8,
          4.9,
          5,
          5.1,
          5.2,
          5.3,
          5.4,
          5.5,
          5.6,
          5.7,
          5.8,
          5.9,
          6,
          6.1,
          6.2,
          6.3,
          6.4,
          6.5,
          6.6,
          6.7,
          6.8,
          6.9,
          7,
          7.1,
          7.2,
          7.3,
          7.4,
          7.5,
          7.6,
          7.7,
          7.8,
          7.9,
          8,
          8.1,
          8.2,
          8.3,
          8.4,
          8.5,
          8.6,
          8.7,
          8.8,
          8.9,
          9,
          9.1,
          9.2,
          9.3,
          9.4,
          9.5,
          9.6,
          9.7,
          9.8,
          9.9,
          10,
          10.1,
          10.2,
          10.3,
          10.4,
          10.5,
          10.6,
          10.7,
          10.8,
          10.9,
          11,
          11.1,
          11.2,
          11.3,
          11.4,
          11.5,
          11.6,
          11.7,
          11.8,
          11.9,
          12,
          12.1,
          12.2,
          12.3,
          12.4,
          12.5,
          12.6,
          12.7,
          12.8,
          12.9,
          13,
          13.1,
          13.2,
          13.3,
          13.4,
          13.5,
          13.6,
          13.7,
          13.8,
          13.9,
          14,
          14.1,
          14.2,
          14.3,
          14.4,
          14.5,
          14.6,
          14.7,
          14.8,
          14.9
         ],
         "y": [
          11.633795738220215,
          11.418834686279297,
          11.205867767333984,
          10.996082305908203,
          10.78995418548584,
          10.586919784545898,
          10.386709213256836,
          10.189277648925781,
          9.994583129882812,
          9.802021980285645,
          9.612142562866211,
          9.43008804321289,
          9.255648612976074,
          9.085884094238281,
          8.920648574829102,
          8.759430885314941,
          8.60394287109375,
          8.452704429626465,
          8.304230690002441,
          8.161518096923828,
          8.024384498596191,
          7.894048690795898,
          7.771697998046875,
          7.653287887573242,
          7.53798770904541,
          7.4286208152771,
          7.324118614196777,
          7.223498344421387,
          7.129680633544922,
          7.0398478507995605,
          6.953357696533203,
          6.8714423179626465,
          6.793113708496094,
          6.72150182723999,
          6.654101371765137,
          6.590109825134277,
          6.5306549072265625,
          6.476080417633057,
          6.427440166473389,
          6.3827104568481445,
          6.342309951782227,
          6.30712890625,
          6.276844024658203,
          6.250937461853027,
          6.2285919189453125,
          6.210051536560059,
          6.1941423416137695,
          6.180656433105469,
          6.1721343994140625,
          6.167937278747559,
          6.167797565460205,
          6.172154903411865,
          6.179912090301514,
          6.189271926879883,
          6.201179504394531,
          6.214824199676514,
          6.22760534286499,
          6.241782188415527,
          6.256992340087891,
          6.272327423095703,
          6.290461540222168,
          6.31050968170166,
          6.331878662109375,
          6.357572555541992,
          6.387880325317383,
          6.4222412109375,
          6.459565162658691,
          6.5003275871276855,
          6.54439640045166,
          6.593247413635254,
          6.646556854248047,
          6.700613021850586,
          6.755359649658203,
          6.8122076988220215,
          6.871142387390137,
          6.9304704666137695,
          6.9896745681762695,
          7.049073696136475,
          7.106778621673584,
          7.16644811630249,
          7.229323863983154,
          7.29313850402832,
          7.356805801391602,
          7.417673110961914,
          7.479709625244141,
          7.544016361236572,
          7.607416152954102,
          7.669397354125977,
          7.730267524719238,
          7.789680004119873,
          7.8475661277771,
          7.90570068359375,
          7.9639739990234375,
          8.021538734436035,
          8.078304290771484,
          8.132713317871094,
          8.186250686645508,
          8.237858772277832,
          8.287849426269531,
          8.336816787719727,
          8.384241104125977,
          8.428168296813965,
          8.466246604919434,
          8.499905586242676,
          8.532477378845215,
          8.562925338745117,
          8.59190845489502,
          8.620763778686523,
          8.648200988769531
         ]
        },
        {
         "line": {
          "dash": "dash",
          "width": 2
         },
         "name": "LSTM, MSE: 0.72",
         "opacity": 1,
         "type": "scatter",
         "x": [
          4,
          4.1,
          4.2,
          4.3,
          4.4,
          4.5,
          4.6,
          4.7,
          4.8,
          4.9,
          5,
          5.1,
          5.2,
          5.3,
          5.4,
          5.5,
          5.6,
          5.7,
          5.8,
          5.9,
          6,
          6.1,
          6.2,
          6.3,
          6.4,
          6.5,
          6.6,
          6.7,
          6.8,
          6.9,
          7,
          7.1,
          7.2,
          7.3,
          7.4,
          7.5,
          7.6,
          7.7,
          7.8,
          7.9,
          8,
          8.1,
          8.2,
          8.3,
          8.4,
          8.5,
          8.6,
          8.7,
          8.8,
          8.9,
          9,
          9.1,
          9.2,
          9.3,
          9.4,
          9.5,
          9.6,
          9.7,
          9.8,
          9.9,
          10,
          10.1,
          10.2,
          10.3,
          10.4,
          10.5,
          10.6,
          10.7,
          10.8,
          10.9,
          11,
          11.1,
          11.2,
          11.3,
          11.4,
          11.5,
          11.6,
          11.7,
          11.8,
          11.9,
          12,
          12.1,
          12.2,
          12.3,
          12.4,
          12.5,
          12.6,
          12.7,
          12.8,
          12.9,
          13,
          13.1,
          13.2,
          13.3,
          13.4,
          13.5,
          13.6,
          13.7,
          13.8,
          13.9,
          14,
          14.1,
          14.2,
          14.3,
          14.4,
          14.5,
          14.6,
          14.7,
          14.8,
          14.9
         ],
         "y": [
          11.600330352783203,
          11.369254112243652,
          11.155027389526367,
          10.95436954498291,
          10.765690803527832,
          10.586963653564453,
          10.416206359863281,
          10.252172470092773,
          10.09377670288086,
          9.939814567565918,
          9.790867805480957,
          9.648804664611816,
          9.513906478881836,
          9.385382652282715,
          9.26259994506836,
          9.144781112670898,
          9.030417442321777,
          8.91923713684082,
          8.812631607055664,
          8.713628768920898,
          8.623282432556152,
          8.540836334228516,
          8.466227531433105,
          8.397409439086914,
          8.330792427062988,
          8.265748977661133,
          8.205293655395508,
          8.150839805603027,
          8.103095054626465,
          8.061765670776367,
          8.025035858154297,
          7.9909348487854,
          7.958014488220215,
          7.926993370056152,
          7.899602890014648,
          7.875607490539551,
          7.852664470672607,
          7.82974910736084,
          7.807214736938477,
          7.785682201385498,
          7.765529632568359,
          7.746952056884766,
          7.73009729385376,
          7.713866233825684,
          7.697493076324463,
          7.681591033935547,
          7.666582107543945,
          7.653390884399414,
          7.643680572509766,
          7.63797664642334,
          7.636181831359863,
          7.637861251831055,
          7.6410298347473145,
          7.6421895027160645,
          7.638724327087402,
          7.6295552253723145,
          7.615259170532227,
          7.596925735473633,
          7.5743489265441895,
          7.548569202423096,
          7.522576332092285,
          7.499285697937012,
          7.480989933013916,
          7.469981670379639,
          7.466126441955566,
          7.466779708862305,
          7.47125244140625,
          7.480572700500488,
          7.495273590087891,
          7.516408920288086,
          7.545246601104736,
          7.580667018890381,
          7.620057106018066,
          7.663061141967773,
          7.710404396057129,
          7.761774063110352,
          7.816559314727783,
          7.875215530395508,
          7.937979221343994,
          8.004865646362305,
          8.077198028564453,
          8.153969764709473,
          8.232099533081055,
          8.312124252319336,
          8.396062850952148,
          8.48251724243164,
          8.568629264831543,
          8.65341567993164,
          8.735039710998535,
          8.810538291931152,
          8.88023853302002,
          8.948833465576172,
          9.019287109375,
          9.090396881103516,
          9.160285949707031,
          9.22789192199707,
          9.292957305908203,
          9.355756759643555,
          9.417141914367676,
          9.476917266845703,
          9.53432846069336,
          9.585994720458984,
          9.630681037902832,
          9.669537544250488,
          9.702838897705078,
          9.731236457824707,
          9.757844924926758,
          9.78573989868164,
          9.816106796264648
         ]
        },
        {
         "line": {
          "dash": "dot",
          "width": 2
         },
         "name": "NN, MSE: 8.13",
         "opacity": 1,
         "type": "scatter",
         "x": [
          4,
          4.1,
          4.2,
          4.3,
          4.4,
          4.5,
          4.6,
          4.7,
          4.8,
          4.9,
          5,
          5.1,
          5.2,
          5.3,
          5.4,
          5.5,
          5.6,
          5.7,
          5.8,
          5.9,
          6,
          6.1,
          6.2,
          6.3,
          6.4,
          6.5,
          6.6,
          6.7,
          6.8,
          6.9,
          7,
          7.1,
          7.2,
          7.3,
          7.4,
          7.5,
          7.6,
          7.7,
          7.8,
          7.9,
          8,
          8.1,
          8.2,
          8.3,
          8.4,
          8.5,
          8.6,
          8.7,
          8.8,
          8.9,
          9,
          9.1,
          9.2,
          9.3,
          9.4,
          9.5,
          9.6,
          9.7,
          9.8,
          9.9,
          10,
          10.1,
          10.2,
          10.3,
          10.4,
          10.5,
          10.6,
          10.7,
          10.8,
          10.9,
          11,
          11.1,
          11.2,
          11.3,
          11.4,
          11.5,
          11.6,
          11.7,
          11.8,
          11.9,
          12,
          12.1,
          12.2,
          12.3,
          12.4,
          12.5,
          12.6,
          12.7,
          12.8,
          12.9,
          13,
          13.1,
          13.2,
          13.3,
          13.4,
          13.5,
          13.6,
          13.7,
          13.8,
          13.9,
          14,
          14.1,
          14.2,
          14.3,
          14.4,
          14.5,
          14.6,
          14.7,
          14.8,
          14.9
         ],
         "y": [
          11.833888053894043,
          11.814382553100586,
          11.794265747070312,
          11.773537635803223,
          11.752532005310059,
          11.731091499328613,
          11.708845138549805,
          11.68558120727539,
          11.661039352416992,
          11.6348237991333,
          11.607276916503906,
          11.57933521270752,
          11.551265716552734,
          11.522858619689941,
          11.493911743164062,
          11.464075088500977,
          11.432576179504395,
          11.399192810058594,
          11.364612579345703,
          11.33067512512207,
          11.298198699951172,
          11.266923904418945,
          11.237024307250977,
          11.207639694213867,
          11.176989555358887,
          11.144698143005371,
          11.112330436706543,
          11.08073902130127,
          11.050451278686523,
          11.021492004394531,
          10.99307918548584,
          10.964374542236328,
          10.934650421142578,
          10.90420913696289,
          10.873978614807129,
          10.843918800354004,
          10.812868118286133,
          10.780211448669434,
          10.745986938476562,
          10.710476875305176,
          10.673885345458984,
          10.636329650878906,
          10.597918510437012,
          10.55803108215332,
          10.516189575195312,
          10.47269344329834,
          10.42775821685791,
          10.381919860839844,
          10.336206436157227,
          10.291058540344238,
          10.24658489227295,
          10.202689170837402,
          10.158333778381348,
          10.111478805541992,
          10.060420036315918,
          10.004692077636719,
          9.945058822631836,
          9.88216781616211,
          9.815754890441895,
          9.74604606628418,
          9.674056053161621,
          9.600908279418945,
          9.527629852294922,
          9.455338478088379,
          9.38424015045166,
          9.313508033752441,
          9.24300765991211,
          9.173270225524902,
          9.104652404785156,
          9.037738800048828,
          8.97323226928711,
          8.910931587219238,
          8.850008010864258,
          8.790427207946777,
          8.73256778717041,
          8.676603317260742,
          8.622739791870117,
          8.571584701538086,
          8.52341079711914,
          8.478372573852539,
          8.437398910522461,
          8.400110244750977,
          8.364846229553223,
          8.331867218017578,
          8.302145004272461,
          8.27480697631836,
          8.248414993286133,
          8.222451210021973,
          8.195960998535156,
          8.16732406616211,
          8.13624382019043,
          8.104755401611328,
          8.07433032989502,
          8.04438304901123,
          8.013923645019531,
          7.982320308685303,
          7.949230194091797,
          7.91460657119751,
          7.878805160522461,
          7.841622352600098,
          7.8025221824646,
          7.759382247924805,
          7.711175918579102,
          7.6582207679748535,
          7.601046085357666,
          7.5405683517456055,
          7.477952003479004,
          7.414364814758301,
          7.350339412689209
         ]
        }
       ],
       "layout": {
        "height": 400,
        "legend": {
         "orientation": "h",
         "x": 0,
         "xanchor": "left",
         "y": 1.02,
         "yanchor": "bottom"
        },
        "margin": {
         "b": 0,
         "l": 0,
         "r": 0,
         "t": 0
        },
        "template": {
         "data": {
          "bar": [
           {
            "error_x": {
             "color": "#2a3f5f"
            },
            "error_y": {
             "color": "#2a3f5f"
            },
            "marker": {
             "line": {
              "color": "#E5ECF6",
              "width": 0.5
             },
             "pattern": {
              "fillmode": "overlay",
              "size": 10,
              "solidity": 0.2
             }
            },
            "type": "bar"
           }
          ],
          "barpolar": [
           {
            "marker": {
             "line": {
              "color": "#E5ECF6",
              "width": 0.5
             },
             "pattern": {
              "fillmode": "overlay",
              "size": 10,
              "solidity": 0.2
             }
            },
            "type": "barpolar"
           }
          ],
          "carpet": [
           {
            "aaxis": {
             "endlinecolor": "#2a3f5f",
             "gridcolor": "white",
             "linecolor": "white",
             "minorgridcolor": "white",
             "startlinecolor": "#2a3f5f"
            },
            "baxis": {
             "endlinecolor": "#2a3f5f",
             "gridcolor": "white",
             "linecolor": "white",
             "minorgridcolor": "white",
             "startlinecolor": "#2a3f5f"
            },
            "type": "carpet"
           }
          ],
          "choropleth": [
           {
            "colorbar": {
             "outlinewidth": 0,
             "ticks": ""
            },
            "type": "choropleth"
           }
          ],
          "contour": [
           {
            "colorbar": {
             "outlinewidth": 0,
             "ticks": ""
            },
            "colorscale": [
             [
              0,
              "#0d0887"
             ],
             [
              0.1111111111111111,
              "#46039f"
             ],
             [
              0.2222222222222222,
              "#7201a8"
             ],
             [
              0.3333333333333333,
              "#9c179e"
             ],
             [
              0.4444444444444444,
              "#bd3786"
             ],
             [
              0.5555555555555556,
              "#d8576b"
             ],
             [
              0.6666666666666666,
              "#ed7953"
             ],
             [
              0.7777777777777778,
              "#fb9f3a"
             ],
             [
              0.8888888888888888,
              "#fdca26"
             ],
             [
              1,
              "#f0f921"
             ]
            ],
            "type": "contour"
           }
          ],
          "contourcarpet": [
           {
            "colorbar": {
             "outlinewidth": 0,
             "ticks": ""
            },
            "type": "contourcarpet"
           }
          ],
          "heatmap": [
           {
            "colorbar": {
             "outlinewidth": 0,
             "ticks": ""
            },
            "colorscale": [
             [
              0,
              "#0d0887"
             ],
             [
              0.1111111111111111,
              "#46039f"
             ],
             [
              0.2222222222222222,
              "#7201a8"
             ],
             [
              0.3333333333333333,
              "#9c179e"
             ],
             [
              0.4444444444444444,
              "#bd3786"
             ],
             [
              0.5555555555555556,
              "#d8576b"
             ],
             [
              0.6666666666666666,
              "#ed7953"
             ],
             [
              0.7777777777777778,
              "#fb9f3a"
             ],
             [
              0.8888888888888888,
              "#fdca26"
             ],
             [
              1,
              "#f0f921"
             ]
            ],
            "type": "heatmap"
           }
          ],
          "heatmapgl": [
           {
            "colorbar": {
             "outlinewidth": 0,
             "ticks": ""
            },
            "colorscale": [
             [
              0,
              "#0d0887"
             ],
             [
              0.1111111111111111,
              "#46039f"
             ],
             [
              0.2222222222222222,
              "#7201a8"
             ],
             [
              0.3333333333333333,
              "#9c179e"
             ],
             [
              0.4444444444444444,
              "#bd3786"
             ],
             [
              0.5555555555555556,
              "#d8576b"
             ],
             [
              0.6666666666666666,
              "#ed7953"
             ],
             [
              0.7777777777777778,
              "#fb9f3a"
             ],
             [
              0.8888888888888888,
              "#fdca26"
             ],
             [
              1,
              "#f0f921"
             ]
            ],
            "type": "heatmapgl"
           }
          ],
          "histogram": [
           {
            "marker": {
             "pattern": {
              "fillmode": "overlay",
              "size": 10,
              "solidity": 0.2
             }
            },
            "type": "histogram"
           }
          ],
          "histogram2d": [
           {
            "colorbar": {
             "outlinewidth": 0,
             "ticks": ""
            },
            "colorscale": [
             [
              0,
              "#0d0887"
             ],
             [
              0.1111111111111111,
              "#46039f"
             ],
             [
              0.2222222222222222,
              "#7201a8"
             ],
             [
              0.3333333333333333,
              "#9c179e"
             ],
             [
              0.4444444444444444,
              "#bd3786"
             ],
             [
              0.5555555555555556,
              "#d8576b"
             ],
             [
              0.6666666666666666,
              "#ed7953"
             ],
             [
              0.7777777777777778,
              "#fb9f3a"
             ],
             [
              0.8888888888888888,
              "#fdca26"
             ],
             [
              1,
              "#f0f921"
             ]
            ],
            "type": "histogram2d"
           }
          ],
          "histogram2dcontour": [
           {
            "colorbar": {
             "outlinewidth": 0,
             "ticks": ""
            },
            "colorscale": [
             [
              0,
              "#0d0887"
             ],
             [
              0.1111111111111111,
              "#46039f"
             ],
             [
              0.2222222222222222,
              "#7201a8"
             ],
             [
              0.3333333333333333,
              "#9c179e"
             ],
             [
              0.4444444444444444,
              "#bd3786"
             ],
             [
              0.5555555555555556,
              "#d8576b"
             ],
             [
              0.6666666666666666,
              "#ed7953"
             ],
             [
              0.7777777777777778,
              "#fb9f3a"
             ],
             [
              0.8888888888888888,
              "#fdca26"
             ],
             [
              1,
              "#f0f921"
             ]
            ],
            "type": "histogram2dcontour"
           }
          ],
          "mesh3d": [
           {
            "colorbar": {
             "outlinewidth": 0,
             "ticks": ""
            },
            "type": "mesh3d"
           }
          ],
          "parcoords": [
           {
            "line": {
             "colorbar": {
              "outlinewidth": 0,
              "ticks": ""
             }
            },
            "type": "parcoords"
           }
          ],
          "pie": [
           {
            "automargin": true,
            "type": "pie"
           }
          ],
          "scatter": [
           {
            "marker": {
             "colorbar": {
              "outlinewidth": 0,
              "ticks": ""
             }
            },
            "type": "scatter"
           }
          ],
          "scatter3d": [
           {
            "line": {
             "colorbar": {
              "outlinewidth": 0,
              "ticks": ""
             }
            },
            "marker": {
             "colorbar": {
              "outlinewidth": 0,
              "ticks": ""
             }
            },
            "type": "scatter3d"
           }
          ],
          "scattercarpet": [
           {
            "marker": {
             "colorbar": {
              "outlinewidth": 0,
              "ticks": ""
             }
            },
            "type": "scattercarpet"
           }
          ],
          "scattergeo": [
           {
            "marker": {
             "colorbar": {
              "outlinewidth": 0,
              "ticks": ""
             }
            },
            "type": "scattergeo"
           }
          ],
          "scattergl": [
           {
            "marker": {
             "colorbar": {
              "outlinewidth": 0,
              "ticks": ""
             }
            },
            "type": "scattergl"
           }
          ],
          "scattermapbox": [
           {
            "marker": {
             "colorbar": {
              "outlinewidth": 0,
              "ticks": ""
             }
            },
            "type": "scattermapbox"
           }
          ],
          "scatterpolar": [
           {
            "marker": {
             "colorbar": {
              "outlinewidth": 0,
              "ticks": ""
             }
            },
            "type": "scatterpolar"
           }
          ],
          "scatterpolargl": [
           {
            "marker": {
             "colorbar": {
              "outlinewidth": 0,
              "ticks": ""
             }
            },
            "type": "scatterpolargl"
           }
          ],
          "scatterternary": [
           {
            "marker": {
             "colorbar": {
              "outlinewidth": 0,
              "ticks": ""
             }
            },
            "type": "scatterternary"
           }
          ],
          "surface": [
           {
            "colorbar": {
             "outlinewidth": 0,
             "ticks": ""
            },
            "colorscale": [
             [
              0,
              "#0d0887"
             ],
             [
              0.1111111111111111,
              "#46039f"
             ],
             [
              0.2222222222222222,
              "#7201a8"
             ],
             [
              0.3333333333333333,
              "#9c179e"
             ],
             [
              0.4444444444444444,
              "#bd3786"
             ],
             [
              0.5555555555555556,
              "#d8576b"
             ],
             [
              0.6666666666666666,
              "#ed7953"
             ],
             [
              0.7777777777777778,
              "#fb9f3a"
             ],
             [
              0.8888888888888888,
              "#fdca26"
             ],
             [
              1,
              "#f0f921"
             ]
            ],
            "type": "surface"
           }
          ],
          "table": [
           {
            "cells": {
             "fill": {
              "color": "#EBF0F8"
             },
             "line": {
              "color": "white"
             }
            },
            "header": {
             "fill": {
              "color": "#C8D4E3"
             },
             "line": {
              "color": "white"
             }
            },
            "type": "table"
           }
          ]
         },
         "layout": {
          "annotationdefaults": {
           "arrowcolor": "#2a3f5f",
           "arrowhead": 0,
           "arrowwidth": 1
          },
          "autotypenumbers": "strict",
          "coloraxis": {
           "colorbar": {
            "outlinewidth": 0,
            "ticks": ""
           }
          },
          "colorscale": {
           "diverging": [
            [
             0,
             "#8e0152"
            ],
            [
             0.1,
             "#c51b7d"
            ],
            [
             0.2,
             "#de77ae"
            ],
            [
             0.3,
             "#f1b6da"
            ],
            [
             0.4,
             "#fde0ef"
            ],
            [
             0.5,
             "#f7f7f7"
            ],
            [
             0.6,
             "#e6f5d0"
            ],
            [
             0.7,
             "#b8e186"
            ],
            [
             0.8,
             "#7fbc41"
            ],
            [
             0.9,
             "#4d9221"
            ],
            [
             1,
             "#276419"
            ]
           ],
           "sequential": [
            [
             0,
             "#0d0887"
            ],
            [
             0.1111111111111111,
             "#46039f"
            ],
            [
             0.2222222222222222,
             "#7201a8"
            ],
            [
             0.3333333333333333,
             "#9c179e"
            ],
            [
             0.4444444444444444,
             "#bd3786"
            ],
            [
             0.5555555555555556,
             "#d8576b"
            ],
            [
             0.6666666666666666,
             "#ed7953"
            ],
            [
             0.7777777777777778,
             "#fb9f3a"
            ],
            [
             0.8888888888888888,
             "#fdca26"
            ],
            [
             1,
             "#f0f921"
            ]
           ],
           "sequentialminus": [
            [
             0,
             "#0d0887"
            ],
            [
             0.1111111111111111,
             "#46039f"
            ],
            [
             0.2222222222222222,
             "#7201a8"
            ],
            [
             0.3333333333333333,
             "#9c179e"
            ],
            [
             0.4444444444444444,
             "#bd3786"
            ],
            [
             0.5555555555555556,
             "#d8576b"
            ],
            [
             0.6666666666666666,
             "#ed7953"
            ],
            [
             0.7777777777777778,
             "#fb9f3a"
            ],
            [
             0.8888888888888888,
             "#fdca26"
            ],
            [
             1,
             "#f0f921"
            ]
           ]
          },
          "colorway": [
           "#636efa",
           "#EF553B",
           "#00cc96",
           "#ab63fa",
           "#FFA15A",
           "#19d3f3",
           "#FF6692",
           "#B6E880",
           "#FF97FF",
           "#FECB52"
          ],
          "font": {
           "color": "#2a3f5f"
          },
          "geo": {
           "bgcolor": "white",
           "lakecolor": "white",
           "landcolor": "#E5ECF6",
           "showlakes": true,
           "showland": true,
           "subunitcolor": "white"
          },
          "hoverlabel": {
           "align": "left"
          },
          "hovermode": "closest",
          "mapbox": {
           "style": "light"
          },
          "paper_bgcolor": "white",
          "plot_bgcolor": "#E5ECF6",
          "polar": {
           "angularaxis": {
            "gridcolor": "white",
            "linecolor": "white",
            "ticks": ""
           },
           "bgcolor": "#E5ECF6",
           "radialaxis": {
            "gridcolor": "white",
            "linecolor": "white",
            "ticks": ""
           }
          },
          "scene": {
           "xaxis": {
            "backgroundcolor": "#E5ECF6",
            "gridcolor": "white",
            "gridwidth": 2,
            "linecolor": "white",
            "showbackground": true,
            "ticks": "",
            "zerolinecolor": "white"
           },
           "yaxis": {
            "backgroundcolor": "#E5ECF6",
            "gridcolor": "white",
            "gridwidth": 2,
            "linecolor": "white",
            "showbackground": true,
            "ticks": "",
            "zerolinecolor": "white"
           },
           "zaxis": {
            "backgroundcolor": "#E5ECF6",
            "gridcolor": "white",
            "gridwidth": 2,
            "linecolor": "white",
            "showbackground": true,
            "ticks": "",
            "zerolinecolor": "white"
           }
          },
          "shapedefaults": {
           "line": {
            "color": "#2a3f5f"
           }
          },
          "ternary": {
           "aaxis": {
            "gridcolor": "white",
            "linecolor": "white",
            "ticks": ""
           },
           "baxis": {
            "gridcolor": "white",
            "linecolor": "white",
            "ticks": ""
           },
           "bgcolor": "#E5ECF6",
           "caxis": {
            "gridcolor": "white",
            "linecolor": "white",
            "ticks": ""
           }
          },
          "title": {
           "x": 0.05
          },
          "xaxis": {
           "automargin": true,
           "gridcolor": "white",
           "linecolor": "white",
           "ticks": "",
           "title": {
            "standoff": 15
           },
           "zerolinecolor": "white",
           "zerolinewidth": 2
          },
          "yaxis": {
           "automargin": true,
           "gridcolor": "white",
           "linecolor": "white",
           "ticks": "",
           "title": {
            "standoff": 15
           },
           "zerolinecolor": "white",
           "zerolinewidth": 2
          }
         }
        },
        "width": 800,
        "xaxis": {
         "title": {
          "text": "Time (s)"
         }
        },
        "yaxis": {
         "title": {
          "text": "Inter Vehilce Spacing (m)"
         }
        }
       }
      },
      "text/html": [
       "<div>                            <div id=\"b738c6de-16cc-4a48-8ef3-e2cafe929dec\" class=\"plotly-graph-div\" style=\"height:400px; width:800px;\"></div>            <script type=\"text/javascript\">                require([\"plotly\"], function(Plotly) {                    window.PLOTLYENV=window.PLOTLYENV || {};                                    if (document.getElementById(\"b738c6de-16cc-4a48-8ef3-e2cafe929dec\")) {                    Plotly.newPlot(                        \"b738c6de-16cc-4a48-8ef3-e2cafe929dec\",                        [{\"line\":{\"width\":3},\"mode\":\"lines\",\"name\":\"Observed\",\"opacity\":1,\"type\":\"scatter\",\"x\":[4.0,4.1,4.2,4.3,4.4,4.5,4.6,4.7,4.8,4.9,5.0,5.1,5.2,5.3,5.4,5.5,5.6,5.7,5.8,5.9,6.0,6.1,6.2,6.3,6.4,6.5,6.6,6.7,6.8,6.9,7.0,7.1,7.2,7.3,7.4,7.5,7.6,7.7,7.8,7.9,8.0,8.1,8.2,8.3,8.4,8.5,8.6,8.7,8.8,8.9,9.0,9.1,9.2,9.3,9.4,9.5,9.6,9.7,9.8,9.9,10.0,10.1,10.2,10.3,10.4,10.5,10.6,10.7,10.8,10.9,11.0,11.1,11.2,11.3,11.4,11.5,11.6,11.7,11.8,11.9,12.0,12.1,12.2,12.3,12.4,12.5,12.6,12.7,12.8,12.9,13.0,13.1,13.2,13.3,13.4,13.5,13.6,13.7,13.8,13.9,14.0,14.1,14.2,14.3,14.4,14.5,14.6,14.7,14.8,14.9],\"y\":[11.8528002,11.6160002,11.379200200000001,11.180800000000001,10.976000200000001,10.7328004,10.5280006,10.291200600000002,10.054400600000001,9.8176004,9.6192002,9.3888,9.1904002,8.9600002,8.742400400000001,8.5248006,8.345600800000001,8.147200600000001,7.9872006,7.8400006,7.660800399999999,7.4880002,7.3536004,7.212800400000001,7.072000200000001,6.982400200000001,6.899200200000001,6.8096000000000005,6.745600200000001,6.688000200000001,6.6304002,6.5856002,6.5664002,6.5536,6.547200000000001,6.553600000000001,6.5600000000000005,6.5664,6.572800000000001,6.5856002,6.5984004,6.617600400000001,6.6048004,6.5984004,6.5664002,6.5408,6.499200000000001,6.4736,6.448000000000001,6.460800000000001,6.473600000000001,6.5024000000000015,6.5536,6.611200000000001,6.6432,6.6752,6.694400000000001,6.688000200000001,6.675200200000001,6.681600200000001,6.688000200000001,6.713600200000001,6.7584002000000005,6.8096002,6.854400200000001,6.9120002000000005,6.969600400000001,7.046400200000001,7.1232002,7.206400200000001,7.2832002000000005,7.3728002,7.456000200000001,7.539200200000001,7.6416002,7.7504002000000005,7.8528,7.9648,8.0928,8.214400000000001,8.336000000000002,8.496000000000002,8.646400000000002,8.7936001,8.940800300000001,9.088000300000001,9.1904003,9.299200500000001,9.3952006,9.4784006,9.5616008,9.657601,9.734400800000001,9.8112008,9.8816006,9.9328004,9.9584002,9.977600200000001,9.977600200000001,9.9616004,9.9360006,9.9104008,9.8528008,9.795200800000002,9.7280008,9.6512006,9.542400400000002,9.4400004,9.3248002,9.1968]},{\"line\":{\"dash\":\"dash\",\"width\":2},\"marker\":{\"size\":3},\"mode\":\"lines+markers\",\"name\":\"IDM, MSE: 24.08\",\"opacity\":1,\"type\":\"scatter\",\"x\":[4.0,4.1,4.2,4.3,4.4,4.5,4.6,4.7,4.8,4.9,5.0,5.1,5.2,5.3,5.4,5.5,5.6,5.7,5.8,5.9,6.0,6.1,6.2,6.3,6.4,6.5,6.6,6.7,6.8,6.9,7.0,7.1,7.2,7.3,7.4,7.5,7.6,7.7,7.8,7.9,8.0,8.1,8.2,8.3,8.4,8.5,8.6,8.7,8.8,8.9,9.0,9.1,9.2,9.3,9.4,9.5,9.6,9.7,9.8,9.9,10.0,10.1,10.2,10.3,10.4,10.5,10.6,10.7,10.8,10.9,11.0,11.1,11.2,11.3,11.4,11.5,11.6,11.7,11.8,11.9,12.0,12.1,12.2,12.3,12.4,12.5,12.6,12.7,12.8,12.9,13.0,13.1,13.2,13.3,13.4,13.5,13.6,13.7,13.8,13.9,14.0,14.1,14.2,14.3,14.4,14.5,14.6,14.7,14.8,14.9],\"y\":[11.868982394684542,11.741168098807869,11.648904239561457,11.581959903642227,11.534029660372502,11.50165679515081,11.481300644758775,11.469797994618963,11.465027903451182,11.465181238376548,11.468446423139396,11.475042317628201,11.486572096963505,11.502882656470268,11.522740720939083,11.54518323481078,11.569165815975474,11.592912153600434,11.616056547108398,11.640038010331141,11.668021096371437,11.700993901109861,11.738021355433961,11.778994794447751,11.821693791708505,11.862295001116218,11.900216757277656,11.938792686341912,11.979589429441129,12.023425204335716,12.070063330588406,12.117646509222803,12.16417408864236,12.208202310519932,12.250619099866944,12.29338749170378,12.336347305677316,12.377080482388756,12.414601837828611,12.449403030341909,12.482253467327121,12.513656800042279,12.543918461155435,12.573293890699604,12.600689370023193,12.62537592071274,12.648108449987795,12.669419902391127,12.690379592276667,12.712844684952847,12.737432017388247,12.764093348370647,12.792418637185502,12.820324372571404,12.844092567960372,12.86095443051578,12.869799636243634,12.871320178493534,12.866771272967918,12.856018946023903,12.840305804901494,12.82296468743194,12.807183118390597,12.795428116350218,12.790144327156597,12.791148136625788,12.795582732261058,12.802743708332665,12.813764845304206,12.829222630842757,12.850258912515311,12.878255450341815,12.912039913417011,12.948844130841573,12.988312090227492,13.031232520861135,13.077273864637124,13.12578906685855,13.177270241150921,13.231984633967665,13.28996803599786,13.352674728400446,13.419083037246379,13.485921455498083,13.55373154469164,13.624649841618478,13.697193542284907,13.768279867144255,13.836762071358644,13.900541893630502,13.95626775761285,14.004083875399571,14.04888017037748,14.093821711710738,14.137690455441199,14.178547300215532,14.215304485259331,14.247713037627799,14.27609345575065,14.301400139972838,14.323477700077818,14.341579459314515,14.35213066479808,14.353853611853784,14.348039887348799,14.335065810463345,14.315739807250326,14.293545193635083,14.271905250104137,14.25219234277115]},{\"line\":{\"dash\":\"dashdot\",\"width\":3},\"name\":\"Transfollower, MSE: 0.8\",\"opacity\":1,\"type\":\"scatter\",\"x\":[4.0,4.1,4.2,4.3,4.4,4.5,4.6,4.7,4.8,4.9,5.0,5.1,5.2,5.3,5.4,5.5,5.6,5.7,5.8,5.9,6.0,6.1,6.2,6.3,6.4,6.5,6.6,6.7,6.8,6.9,7.0,7.1,7.2,7.3,7.4,7.5,7.6,7.7,7.8,7.9,8.0,8.1,8.2,8.3,8.4,8.5,8.6,8.7,8.8,8.9,9.0,9.1,9.2,9.3,9.4,9.5,9.6,9.7,9.8,9.9,10.0,10.1,10.2,10.3,10.4,10.5,10.6,10.7,10.8,10.9,11.0,11.1,11.2,11.3,11.4,11.5,11.6,11.7,11.8,11.9,12.0,12.1,12.2,12.3,12.4,12.5,12.6,12.7,12.8,12.9,13.0,13.1,13.2,13.3,13.4,13.5,13.6,13.7,13.8,13.9,14.0,14.1,14.2,14.3,14.4,14.5,14.6,14.7,14.8,14.9],\"y\":[11.633795738220215,11.418834686279297,11.205867767333984,10.996082305908203,10.78995418548584,10.586919784545898,10.386709213256836,10.189277648925781,9.994583129882812,9.802021980285645,9.612142562866211,9.43008804321289,9.255648612976074,9.085884094238281,8.920648574829102,8.759430885314941,8.60394287109375,8.452704429626465,8.304230690002441,8.161518096923828,8.024384498596191,7.894048690795898,7.771697998046875,7.653287887573242,7.53798770904541,7.4286208152771,7.324118614196777,7.223498344421387,7.129680633544922,7.0398478507995605,6.953357696533203,6.8714423179626465,6.793113708496094,6.72150182723999,6.654101371765137,6.590109825134277,6.5306549072265625,6.476080417633057,6.427440166473389,6.3827104568481445,6.342309951782227,6.30712890625,6.276844024658203,6.250937461853027,6.2285919189453125,6.210051536560059,6.1941423416137695,6.180656433105469,6.1721343994140625,6.167937278747559,6.167797565460205,6.172154903411865,6.179912090301514,6.189271926879883,6.201179504394531,6.214824199676514,6.22760534286499,6.241782188415527,6.256992340087891,6.272327423095703,6.290461540222168,6.31050968170166,6.331878662109375,6.357572555541992,6.387880325317383,6.4222412109375,6.459565162658691,6.5003275871276855,6.54439640045166,6.593247413635254,6.646556854248047,6.700613021850586,6.755359649658203,6.8122076988220215,6.871142387390137,6.9304704666137695,6.9896745681762695,7.049073696136475,7.106778621673584,7.16644811630249,7.229323863983154,7.29313850402832,7.356805801391602,7.417673110961914,7.479709625244141,7.544016361236572,7.607416152954102,7.669397354125977,7.730267524719238,7.789680004119873,7.8475661277771,7.90570068359375,7.9639739990234375,8.021538734436035,8.078304290771484,8.132713317871094,8.186250686645508,8.237858772277832,8.287849426269531,8.336816787719727,8.384241104125977,8.428168296813965,8.466246604919434,8.499905586242676,8.532477378845215,8.562925338745117,8.59190845489502,8.620763778686523,8.648200988769531]},{\"line\":{\"dash\":\"dash\",\"width\":2},\"name\":\"LSTM, MSE: 0.72\",\"opacity\":1,\"type\":\"scatter\",\"x\":[4.0,4.1,4.2,4.3,4.4,4.5,4.6,4.7,4.8,4.9,5.0,5.1,5.2,5.3,5.4,5.5,5.6,5.7,5.8,5.9,6.0,6.1,6.2,6.3,6.4,6.5,6.6,6.7,6.8,6.9,7.0,7.1,7.2,7.3,7.4,7.5,7.6,7.7,7.8,7.9,8.0,8.1,8.2,8.3,8.4,8.5,8.6,8.7,8.8,8.9,9.0,9.1,9.2,9.3,9.4,9.5,9.6,9.7,9.8,9.9,10.0,10.1,10.2,10.3,10.4,10.5,10.6,10.7,10.8,10.9,11.0,11.1,11.2,11.3,11.4,11.5,11.6,11.7,11.8,11.9,12.0,12.1,12.2,12.3,12.4,12.5,12.6,12.7,12.8,12.9,13.0,13.1,13.2,13.3,13.4,13.5,13.6,13.7,13.8,13.9,14.0,14.1,14.2,14.3,14.4,14.5,14.6,14.7,14.8,14.9],\"y\":[11.600330352783203,11.369254112243652,11.155027389526367,10.95436954498291,10.765690803527832,10.586963653564453,10.416206359863281,10.252172470092773,10.09377670288086,9.939814567565918,9.790867805480957,9.648804664611816,9.513906478881836,9.385382652282715,9.26259994506836,9.144781112670898,9.030417442321777,8.91923713684082,8.812631607055664,8.713628768920898,8.623282432556152,8.540836334228516,8.466227531433105,8.397409439086914,8.330792427062988,8.265748977661133,8.205293655395508,8.150839805603027,8.103095054626465,8.061765670776367,8.025035858154297,7.9909348487854,7.958014488220215,7.926993370056152,7.899602890014648,7.875607490539551,7.852664470672607,7.82974910736084,7.807214736938477,7.785682201385498,7.765529632568359,7.746952056884766,7.73009729385376,7.713866233825684,7.697493076324463,7.681591033935547,7.666582107543945,7.653390884399414,7.643680572509766,7.63797664642334,7.636181831359863,7.637861251831055,7.6410298347473145,7.6421895027160645,7.638724327087402,7.6295552253723145,7.615259170532227,7.596925735473633,7.5743489265441895,7.548569202423096,7.522576332092285,7.499285697937012,7.480989933013916,7.469981670379639,7.466126441955566,7.466779708862305,7.47125244140625,7.480572700500488,7.495273590087891,7.516408920288086,7.545246601104736,7.580667018890381,7.620057106018066,7.663061141967773,7.710404396057129,7.761774063110352,7.816559314727783,7.875215530395508,7.937979221343994,8.004865646362305,8.077198028564453,8.153969764709473,8.232099533081055,8.312124252319336,8.396062850952148,8.48251724243164,8.568629264831543,8.65341567993164,8.735039710998535,8.810538291931152,8.88023853302002,8.948833465576172,9.019287109375,9.090396881103516,9.160285949707031,9.22789192199707,9.292957305908203,9.355756759643555,9.417141914367676,9.476917266845703,9.53432846069336,9.585994720458984,9.630681037902832,9.669537544250488,9.702838897705078,9.731236457824707,9.757844924926758,9.78573989868164,9.816106796264648]},{\"line\":{\"dash\":\"dot\",\"width\":2},\"name\":\"NN, MSE: 8.13\",\"opacity\":1,\"type\":\"scatter\",\"x\":[4.0,4.1,4.2,4.3,4.4,4.5,4.6,4.7,4.8,4.9,5.0,5.1,5.2,5.3,5.4,5.5,5.6,5.7,5.8,5.9,6.0,6.1,6.2,6.3,6.4,6.5,6.6,6.7,6.8,6.9,7.0,7.1,7.2,7.3,7.4,7.5,7.6,7.7,7.8,7.9,8.0,8.1,8.2,8.3,8.4,8.5,8.6,8.7,8.8,8.9,9.0,9.1,9.2,9.3,9.4,9.5,9.6,9.7,9.8,9.9,10.0,10.1,10.2,10.3,10.4,10.5,10.6,10.7,10.8,10.9,11.0,11.1,11.2,11.3,11.4,11.5,11.6,11.7,11.8,11.9,12.0,12.1,12.2,12.3,12.4,12.5,12.6,12.7,12.8,12.9,13.0,13.1,13.2,13.3,13.4,13.5,13.6,13.7,13.8,13.9,14.0,14.1,14.2,14.3,14.4,14.5,14.6,14.7,14.8,14.9],\"y\":[11.833888053894043,11.814382553100586,11.794265747070312,11.773537635803223,11.752532005310059,11.731091499328613,11.708845138549805,11.68558120727539,11.661039352416992,11.6348237991333,11.607276916503906,11.57933521270752,11.551265716552734,11.522858619689941,11.493911743164062,11.464075088500977,11.432576179504395,11.399192810058594,11.364612579345703,11.33067512512207,11.298198699951172,11.266923904418945,11.237024307250977,11.207639694213867,11.176989555358887,11.144698143005371,11.112330436706543,11.08073902130127,11.050451278686523,11.021492004394531,10.99307918548584,10.964374542236328,10.934650421142578,10.90420913696289,10.873978614807129,10.843918800354004,10.812868118286133,10.780211448669434,10.745986938476562,10.710476875305176,10.673885345458984,10.636329650878906,10.597918510437012,10.55803108215332,10.516189575195312,10.47269344329834,10.42775821685791,10.381919860839844,10.336206436157227,10.291058540344238,10.24658489227295,10.202689170837402,10.158333778381348,10.111478805541992,10.060420036315918,10.004692077636719,9.945058822631836,9.88216781616211,9.815754890441895,9.74604606628418,9.674056053161621,9.600908279418945,9.527629852294922,9.455338478088379,9.38424015045166,9.313508033752441,9.24300765991211,9.173270225524902,9.104652404785156,9.037738800048828,8.97323226928711,8.910931587219238,8.850008010864258,8.790427207946777,8.73256778717041,8.676603317260742,8.622739791870117,8.571584701538086,8.52341079711914,8.478372573852539,8.437398910522461,8.400110244750977,8.364846229553223,8.331867218017578,8.302145004272461,8.27480697631836,8.248414993286133,8.222451210021973,8.195960998535156,8.16732406616211,8.13624382019043,8.104755401611328,8.07433032989502,8.04438304901123,8.013923645019531,7.982320308685303,7.949230194091797,7.91460657119751,7.878805160522461,7.841622352600098,7.8025221824646,7.759382247924805,7.711175918579102,7.6582207679748535,7.601046085357666,7.5405683517456055,7.477952003479004,7.414364814758301,7.350339412689209]}],                        {\"height\":400,\"legend\":{\"orientation\":\"h\",\"x\":0,\"xanchor\":\"left\",\"y\":1.02,\"yanchor\":\"bottom\"},\"margin\":{\"b\":0,\"l\":0,\"r\":0,\"t\":0},\"template\":{\"data\":{\"bar\":[{\"error_x\":{\"color\":\"#2a3f5f\"},\"error_y\":{\"color\":\"#2a3f5f\"},\"marker\":{\"line\":{\"color\":\"#E5ECF6\",\"width\":0.5},\"pattern\":{\"fillmode\":\"overlay\",\"size\":10,\"solidity\":0.2}},\"type\":\"bar\"}],\"barpolar\":[{\"marker\":{\"line\":{\"color\":\"#E5ECF6\",\"width\":0.5},\"pattern\":{\"fillmode\":\"overlay\",\"size\":10,\"solidity\":0.2}},\"type\":\"barpolar\"}],\"carpet\":[{\"aaxis\":{\"endlinecolor\":\"#2a3f5f\",\"gridcolor\":\"white\",\"linecolor\":\"white\",\"minorgridcolor\":\"white\",\"startlinecolor\":\"#2a3f5f\"},\"baxis\":{\"endlinecolor\":\"#2a3f5f\",\"gridcolor\":\"white\",\"linecolor\":\"white\",\"minorgridcolor\":\"white\",\"startlinecolor\":\"#2a3f5f\"},\"type\":\"carpet\"}],\"choropleth\":[{\"colorbar\":{\"outlinewidth\":0,\"ticks\":\"\"},\"type\":\"choropleth\"}],\"contour\":[{\"colorbar\":{\"outlinewidth\":0,\"ticks\":\"\"},\"colorscale\":[[0.0,\"#0d0887\"],[0.1111111111111111,\"#46039f\"],[0.2222222222222222,\"#7201a8\"],[0.3333333333333333,\"#9c179e\"],[0.4444444444444444,\"#bd3786\"],[0.5555555555555556,\"#d8576b\"],[0.6666666666666666,\"#ed7953\"],[0.7777777777777778,\"#fb9f3a\"],[0.8888888888888888,\"#fdca26\"],[1.0,\"#f0f921\"]],\"type\":\"contour\"}],\"contourcarpet\":[{\"colorbar\":{\"outlinewidth\":0,\"ticks\":\"\"},\"type\":\"contourcarpet\"}],\"heatmap\":[{\"colorbar\":{\"outlinewidth\":0,\"ticks\":\"\"},\"colorscale\":[[0.0,\"#0d0887\"],[0.1111111111111111,\"#46039f\"],[0.2222222222222222,\"#7201a8\"],[0.3333333333333333,\"#9c179e\"],[0.4444444444444444,\"#bd3786\"],[0.5555555555555556,\"#d8576b\"],[0.6666666666666666,\"#ed7953\"],[0.7777777777777778,\"#fb9f3a\"],[0.8888888888888888,\"#fdca26\"],[1.0,\"#f0f921\"]],\"type\":\"heatmap\"}],\"heatmapgl\":[{\"colorbar\":{\"outlinewidth\":0,\"ticks\":\"\"},\"colorscale\":[[0.0,\"#0d0887\"],[0.1111111111111111,\"#46039f\"],[0.2222222222222222,\"#7201a8\"],[0.3333333333333333,\"#9c179e\"],[0.4444444444444444,\"#bd3786\"],[0.5555555555555556,\"#d8576b\"],[0.6666666666666666,\"#ed7953\"],[0.7777777777777778,\"#fb9f3a\"],[0.8888888888888888,\"#fdca26\"],[1.0,\"#f0f921\"]],\"type\":\"heatmapgl\"}],\"histogram\":[{\"marker\":{\"pattern\":{\"fillmode\":\"overlay\",\"size\":10,\"solidity\":0.2}},\"type\":\"histogram\"}],\"histogram2d\":[{\"colorbar\":{\"outlinewidth\":0,\"ticks\":\"\"},\"colorscale\":[[0.0,\"#0d0887\"],[0.1111111111111111,\"#46039f\"],[0.2222222222222222,\"#7201a8\"],[0.3333333333333333,\"#9c179e\"],[0.4444444444444444,\"#bd3786\"],[0.5555555555555556,\"#d8576b\"],[0.6666666666666666,\"#ed7953\"],[0.7777777777777778,\"#fb9f3a\"],[0.8888888888888888,\"#fdca26\"],[1.0,\"#f0f921\"]],\"type\":\"histogram2d\"}],\"histogram2dcontour\":[{\"colorbar\":{\"outlinewidth\":0,\"ticks\":\"\"},\"colorscale\":[[0.0,\"#0d0887\"],[0.1111111111111111,\"#46039f\"],[0.2222222222222222,\"#7201a8\"],[0.3333333333333333,\"#9c179e\"],[0.4444444444444444,\"#bd3786\"],[0.5555555555555556,\"#d8576b\"],[0.6666666666666666,\"#ed7953\"],[0.7777777777777778,\"#fb9f3a\"],[0.8888888888888888,\"#fdca26\"],[1.0,\"#f0f921\"]],\"type\":\"histogram2dcontour\"}],\"mesh3d\":[{\"colorbar\":{\"outlinewidth\":0,\"ticks\":\"\"},\"type\":\"mesh3d\"}],\"parcoords\":[{\"line\":{\"colorbar\":{\"outlinewidth\":0,\"ticks\":\"\"}},\"type\":\"parcoords\"}],\"pie\":[{\"automargin\":true,\"type\":\"pie\"}],\"scatter\":[{\"marker\":{\"colorbar\":{\"outlinewidth\":0,\"ticks\":\"\"}},\"type\":\"scatter\"}],\"scatter3d\":[{\"line\":{\"colorbar\":{\"outlinewidth\":0,\"ticks\":\"\"}},\"marker\":{\"colorbar\":{\"outlinewidth\":0,\"ticks\":\"\"}},\"type\":\"scatter3d\"}],\"scattercarpet\":[{\"marker\":{\"colorbar\":{\"outlinewidth\":0,\"ticks\":\"\"}},\"type\":\"scattercarpet\"}],\"scattergeo\":[{\"marker\":{\"colorbar\":{\"outlinewidth\":0,\"ticks\":\"\"}},\"type\":\"scattergeo\"}],\"scattergl\":[{\"marker\":{\"colorbar\":{\"outlinewidth\":0,\"ticks\":\"\"}},\"type\":\"scattergl\"}],\"scattermapbox\":[{\"marker\":{\"colorbar\":{\"outlinewidth\":0,\"ticks\":\"\"}},\"type\":\"scattermapbox\"}],\"scatterpolar\":[{\"marker\":{\"colorbar\":{\"outlinewidth\":0,\"ticks\":\"\"}},\"type\":\"scatterpolar\"}],\"scatterpolargl\":[{\"marker\":{\"colorbar\":{\"outlinewidth\":0,\"ticks\":\"\"}},\"type\":\"scatterpolargl\"}],\"scatterternary\":[{\"marker\":{\"colorbar\":{\"outlinewidth\":0,\"ticks\":\"\"}},\"type\":\"scatterternary\"}],\"surface\":[{\"colorbar\":{\"outlinewidth\":0,\"ticks\":\"\"},\"colorscale\":[[0.0,\"#0d0887\"],[0.1111111111111111,\"#46039f\"],[0.2222222222222222,\"#7201a8\"],[0.3333333333333333,\"#9c179e\"],[0.4444444444444444,\"#bd3786\"],[0.5555555555555556,\"#d8576b\"],[0.6666666666666666,\"#ed7953\"],[0.7777777777777778,\"#fb9f3a\"],[0.8888888888888888,\"#fdca26\"],[1.0,\"#f0f921\"]],\"type\":\"surface\"}],\"table\":[{\"cells\":{\"fill\":{\"color\":\"#EBF0F8\"},\"line\":{\"color\":\"white\"}},\"header\":{\"fill\":{\"color\":\"#C8D4E3\"},\"line\":{\"color\":\"white\"}},\"type\":\"table\"}]},\"layout\":{\"annotationdefaults\":{\"arrowcolor\":\"#2a3f5f\",\"arrowhead\":0,\"arrowwidth\":1},\"autotypenumbers\":\"strict\",\"coloraxis\":{\"colorbar\":{\"outlinewidth\":0,\"ticks\":\"\"}},\"colorscale\":{\"diverging\":[[0,\"#8e0152\"],[0.1,\"#c51b7d\"],[0.2,\"#de77ae\"],[0.3,\"#f1b6da\"],[0.4,\"#fde0ef\"],[0.5,\"#f7f7f7\"],[0.6,\"#e6f5d0\"],[0.7,\"#b8e186\"],[0.8,\"#7fbc41\"],[0.9,\"#4d9221\"],[1,\"#276419\"]],\"sequential\":[[0.0,\"#0d0887\"],[0.1111111111111111,\"#46039f\"],[0.2222222222222222,\"#7201a8\"],[0.3333333333333333,\"#9c179e\"],[0.4444444444444444,\"#bd3786\"],[0.5555555555555556,\"#d8576b\"],[0.6666666666666666,\"#ed7953\"],[0.7777777777777778,\"#fb9f3a\"],[0.8888888888888888,\"#fdca26\"],[1.0,\"#f0f921\"]],\"sequentialminus\":[[0.0,\"#0d0887\"],[0.1111111111111111,\"#46039f\"],[0.2222222222222222,\"#7201a8\"],[0.3333333333333333,\"#9c179e\"],[0.4444444444444444,\"#bd3786\"],[0.5555555555555556,\"#d8576b\"],[0.6666666666666666,\"#ed7953\"],[0.7777777777777778,\"#fb9f3a\"],[0.8888888888888888,\"#fdca26\"],[1.0,\"#f0f921\"]]},\"colorway\":[\"#636efa\",\"#EF553B\",\"#00cc96\",\"#ab63fa\",\"#FFA15A\",\"#19d3f3\",\"#FF6692\",\"#B6E880\",\"#FF97FF\",\"#FECB52\"],\"font\":{\"color\":\"#2a3f5f\"},\"geo\":{\"bgcolor\":\"white\",\"lakecolor\":\"white\",\"landcolor\":\"#E5ECF6\",\"showlakes\":true,\"showland\":true,\"subunitcolor\":\"white\"},\"hoverlabel\":{\"align\":\"left\"},\"hovermode\":\"closest\",\"mapbox\":{\"style\":\"light\"},\"paper_bgcolor\":\"white\",\"plot_bgcolor\":\"#E5ECF6\",\"polar\":{\"angularaxis\":{\"gridcolor\":\"white\",\"linecolor\":\"white\",\"ticks\":\"\"},\"bgcolor\":\"#E5ECF6\",\"radialaxis\":{\"gridcolor\":\"white\",\"linecolor\":\"white\",\"ticks\":\"\"}},\"scene\":{\"xaxis\":{\"backgroundcolor\":\"#E5ECF6\",\"gridcolor\":\"white\",\"gridwidth\":2,\"linecolor\":\"white\",\"showbackground\":true,\"ticks\":\"\",\"zerolinecolor\":\"white\"},\"yaxis\":{\"backgroundcolor\":\"#E5ECF6\",\"gridcolor\":\"white\",\"gridwidth\":2,\"linecolor\":\"white\",\"showbackground\":true,\"ticks\":\"\",\"zerolinecolor\":\"white\"},\"zaxis\":{\"backgroundcolor\":\"#E5ECF6\",\"gridcolor\":\"white\",\"gridwidth\":2,\"linecolor\":\"white\",\"showbackground\":true,\"ticks\":\"\",\"zerolinecolor\":\"white\"}},\"shapedefaults\":{\"line\":{\"color\":\"#2a3f5f\"}},\"ternary\":{\"aaxis\":{\"gridcolor\":\"white\",\"linecolor\":\"white\",\"ticks\":\"\"},\"baxis\":{\"gridcolor\":\"white\",\"linecolor\":\"white\",\"ticks\":\"\"},\"bgcolor\":\"#E5ECF6\",\"caxis\":{\"gridcolor\":\"white\",\"linecolor\":\"white\",\"ticks\":\"\"}},\"title\":{\"x\":0.05},\"xaxis\":{\"automargin\":true,\"gridcolor\":\"white\",\"linecolor\":\"white\",\"ticks\":\"\",\"title\":{\"standoff\":15},\"zerolinecolor\":\"white\",\"zerolinewidth\":2},\"yaxis\":{\"automargin\":true,\"gridcolor\":\"white\",\"linecolor\":\"white\",\"ticks\":\"\",\"title\":{\"standoff\":15},\"zerolinecolor\":\"white\",\"zerolinewidth\":2}}},\"width\":800,\"xaxis\":{\"title\":{\"text\":\"Time (s)\"}},\"yaxis\":{\"title\":{\"text\":\"Inter Vehilce Spacing (m)\"}}},                        {\"responsive\": true}                    ).then(function(){\n",
       "                            \n",
       "var gd = document.getElementById('b738c6de-16cc-4a48-8ef3-e2cafe929dec');\n",
       "var x = new MutationObserver(function (mutations, observer) {{\n",
       "        var display = window.getComputedStyle(gd).display;\n",
       "        if (!display || display === 'none') {{\n",
       "            console.log([gd, 'removed!']);\n",
       "            Plotly.purge(gd);\n",
       "            observer.disconnect();\n",
       "        }}\n",
       "}});\n",
       "\n",
       "// Listen for the removal of the full notebook cells\n",
       "var notebookContainer = gd.closest('#notebook-container');\n",
       "if (notebookContainer) {{\n",
       "    x.observe(notebookContainer, {childList: true});\n",
       "}}\n",
       "\n",
       "// Listen for the clearing of the current output cell\n",
       "var outputEl = gd.closest('.output');\n",
       "if (outputEl) {{\n",
       "    x.observe(outputEl, {childList: true});\n",
       "}}\n",
       "\n",
       "                        })                };                });            </script>        </div>"
      ]
     },
     "metadata": {},
     "output_type": "display_data"
    }
   ],
   "source": [
    "model_names = [ 'transfollower', 'lstm', 'nn']\n",
    "data_names = ['SH']\n",
    "\n",
    "calibration_res = sio.loadmat('IDM/IDM_SH_transformer.mat')\n",
    "para = calibration_res['bestX'][0]\n",
    "\n",
    "WD = 3\n",
    "OPACITY = 1\n",
    "\n",
    "name_dict = {\n",
    "    'nn': 'NN',\n",
    "    'transfollower':'Transfollower',\n",
    "    'lstm':'LSTM'    \n",
    "}\n",
    "\n",
    "dash_mode = {\n",
    "    'nn':'dot',\n",
    "    'transfollower':'dashdot',\n",
    "    'lstm':'dash'\n",
    "}\n",
    "\n",
    "for data_name in data_names:\n",
    "    _,_, IDM_loader = get_data(data_name = data_name, shuffle = False, batch_size = 1)\n",
    "    \n",
    "    # 1, 34 are good\n",
    "    for batch_num in [1,34]:\n",
    "    \n",
    "        fig_speed = go.Figure()\n",
    "        fig_spacing = go.Figure()\n",
    "\n",
    "        for i, item in enumerate(IDM_loader):\n",
    "            if i == batch_num:\n",
    "                event = item['all'][0]\n",
    "                svSpd_obs, spacing_obs, lvSpd_obs, svSpd_sim, spacing_sim = IDM_sim(para, event, context = settings.SEQ_LEN)\n",
    "                IDM_spd_error = criterion(torch.tensor(svSpd_obs), torch.tensor(svSpd_sim)) \n",
    "                IDM_spacing_error = criterion(torch.tensor(spacing_obs), torch.tensor(spacing_sim))\n",
    "                break\n",
    "\n",
    "        time = (np.arange(len(svSpd_obs)) + settings.SEQ_LEN)/10  \n",
    "\n",
    "        fig_speed.add_trace(go.Scatter(x = time, y = svSpd_obs, \n",
    "                                       name = 'Observed', mode = 'lines', \n",
    "                                       opacity = OPACITY, line = dict(width = WD))) \n",
    "\n",
    "        fig_speed.add_trace(go.Scatter(x = time, y = svSpd_sim, opacity = OPACITY,\n",
    "                                       name = f'IDM, MSE: {np.round(IDM_spd_error.item(),2)}', \n",
    "                                       mode ='lines+markers',\n",
    "                                       marker = dict(size = 3), line = dict(dash ='dash', width = WD-1) ))\n",
    "\n",
    "        fig_spacing.add_trace(go.Scatter(x = time, y = spacing_obs, \n",
    "                                       name = 'Observed', mode = 'lines', \n",
    "                                        opacity = OPACITY, line = dict(width =WD))) \n",
    "        fig_spacing.add_trace(go.Scatter(x = time, y = spacing_sim, opacity = OPACITY,\n",
    "                                       name = f'IDM, MSE: {np.round(IDM_spacing_error.item(),2)}',\n",
    "                                         mode ='lines+markers',\n",
    "                                        marker = dict(size = 3), line = dict(dash = 'dash', width = WD -1)))\n",
    "\n",
    "        for model_name in model_names:\n",
    "            speed_error, spacing_error, lvSpd, spacing, svSpd, spacing_sim, svSpd_sim = val(model_name, data_name, batch_num)\n",
    "            fig_speed.add_trace(go.Scatter(x = time, y = svSpd_sim, opacity = OPACITY,\n",
    "                                       name = f'{name_dict[model_name]}, MSE: {np.round(speed_error,2)}', \n",
    "                                           line = dict(width = WD if model_name =='transfollower' else WD-1,\n",
    "                                                       dash = dash_mode[model_name])))\n",
    "            fig_spacing.add_trace(go.Scatter(x = time, y = spacing_sim, opacity = OPACITY,\n",
    "                                       name = f'{name_dict[model_name]}, MSE: {np.round(spacing_error,2)}', \n",
    "                                             line = dict(width = WD if model_name =='transfollower' else WD-1, \n",
    "                                                         dash = dash_mode[model_name])))\n",
    "\n",
    "        fig_speed.update_xaxes(title = dict(text = 'Time (s)'))\n",
    "        fig_speed.update_yaxes(title = dict(text = 'Following Vehilce Speed (m/s)'))\n",
    "\n",
    "        fig_spacing.update_xaxes(title = dict(text = 'Time (s)'))\n",
    "        fig_spacing.update_yaxes(title = dict(text = 'Inter Vehilce Spacing (m)'))\n",
    "        \n",
    "        \n",
    "        fig_speed.update_layout(legend=dict(\n",
    "            orientation=\"h\",\n",
    "            yanchor=\"bottom\",\n",
    "            y=1.02,\n",
    "            xanchor=\"left\",\n",
    "            x=0\n",
    "        ))\n",
    "        fig_speed.update_layout(\n",
    "            margin=dict(l=0, r= 0, t = 0, b=0),\n",
    "            width = 800, height = 400\n",
    "        )\n",
    "        \n",
    "        fig_spacing.update_layout(legend=dict(\n",
    "            orientation=\"h\",\n",
    "            yanchor=\"bottom\",\n",
    "            y=1.02,\n",
    "            xanchor=\"left\",\n",
    "            x=0\n",
    "        ))\n",
    "        fig_spacing.update_layout(\n",
    "            margin=dict(l=0, r= 0, t = 0, b=0),\n",
    "            width = 800, height = 400\n",
    "        )\n",
    "        \n",
    "        fig_speed.show()\n",
    "        fig_spacing.show()\n",
    "        \n",
    "        fig_speed.write_image(f'figures/{batch_num}_speed.pdf')\n",
    "        fig_spacing.write_image(f'figures/{batch_num}_spacing.pdf')"
   ]
  }
 ],
 "metadata": {
  "kernelspec": {
   "display_name": "Python [conda env:meixin_rl] *",
   "language": "python",
   "name": "conda-env-meixin_rl-py"
  },
  "language_info": {
   "codemirror_mode": {
    "name": "ipython",
    "version": 3
   },
   "file_extension": ".py",
   "mimetype": "text/x-python",
   "name": "python",
   "nbconvert_exporter": "python",
   "pygments_lexer": "ipython3",
   "version": "3.7.7"
  }
 },
 "nbformat": 4,
 "nbformat_minor": 4
}
